{
  "nbformat": 4,
  "nbformat_minor": 0,
  "metadata": {
    "colab": {
      "provenance": [],
      "collapsed_sections": [
        "Md9jhurCH48r",
        "3Yj4AqeVH9D9",
        "Jlbmq_UIxBRU",
        "rHHxjJMSZNMa"
      ],
      "mount_file_id": "1asQCtbYX2EVmEiNd5wMOma0gdEUNsgQK",
      "authorship_tag": "ABX9TyM+ukr4JC2Ke6ka3SLjOvEc",
      "include_colab_link": true
    },
    "kernelspec": {
      "name": "python3",
      "display_name": "Python 3"
    },
    "language_info": {
      "name": "python"
    },
    "widgets": {
      "application/vnd.jupyter.widget-state+json": {
        "114619a54e764031b830274eb3ebd2f5": {
          "model_module": "@jupyter-widgets/controls",
          "model_name": "HBoxModel",
          "model_module_version": "1.5.0",
          "state": {
            "_dom_classes": [],
            "_model_module": "@jupyter-widgets/controls",
            "_model_module_version": "1.5.0",
            "_model_name": "HBoxModel",
            "_view_count": null,
            "_view_module": "@jupyter-widgets/controls",
            "_view_module_version": "1.5.0",
            "_view_name": "HBoxView",
            "box_style": "",
            "children": [
              "IPY_MODEL_921ca5c137b04a7aac5654c8fa68c093",
              "IPY_MODEL_c6be4191144a41d9857a57f3923a71dc",
              "IPY_MODEL_18c53acc93fc4eeba4851d5d105593eb"
            ],
            "layout": "IPY_MODEL_b23ce7fdb387471395fdfbc044a41d3c"
          }
        },
        "921ca5c137b04a7aac5654c8fa68c093": {
          "model_module": "@jupyter-widgets/controls",
          "model_name": "HTMLModel",
          "model_module_version": "1.5.0",
          "state": {
            "_dom_classes": [],
            "_model_module": "@jupyter-widgets/controls",
            "_model_module_version": "1.5.0",
            "_model_name": "HTMLModel",
            "_view_count": null,
            "_view_module": "@jupyter-widgets/controls",
            "_view_module_version": "1.5.0",
            "_view_name": "HTMLView",
            "description": "",
            "description_tooltip": null,
            "layout": "IPY_MODEL_507dd23913364c02bf490349b740d13e",
            "placeholder": "​",
            "style": "IPY_MODEL_98240a7d0bc84a16b58dd9f5f078e7c6",
            "value": ""
          }
        },
        "c6be4191144a41d9857a57f3923a71dc": {
          "model_module": "@jupyter-widgets/controls",
          "model_name": "FloatProgressModel",
          "model_module_version": "1.5.0",
          "state": {
            "_dom_classes": [],
            "_model_module": "@jupyter-widgets/controls",
            "_model_module_version": "1.5.0",
            "_model_name": "FloatProgressModel",
            "_view_count": null,
            "_view_module": "@jupyter-widgets/controls",
            "_view_module_version": "1.5.0",
            "_view_name": "ProgressView",
            "bar_style": "success",
            "description": "",
            "description_tooltip": null,
            "layout": "IPY_MODEL_e6095b85dc294626a90a3c565e744940",
            "max": 87753821,
            "min": 0,
            "orientation": "horizontal",
            "style": "IPY_MODEL_07a99cc2bd3f4a5aa089ea5dcb1c951f",
            "value": 87753821
          }
        },
        "18c53acc93fc4eeba4851d5d105593eb": {
          "model_module": "@jupyter-widgets/controls",
          "model_name": "HTMLModel",
          "model_module_version": "1.5.0",
          "state": {
            "_dom_classes": [],
            "_model_module": "@jupyter-widgets/controls",
            "_model_module_version": "1.5.0",
            "_model_name": "HTMLModel",
            "_view_count": null,
            "_view_module": "@jupyter-widgets/controls",
            "_view_module_version": "1.5.0",
            "_view_name": "HTMLView",
            "description": "",
            "description_tooltip": null,
            "layout": "IPY_MODEL_f6317ff5877746d2a4f6cc13187b2e52",
            "placeholder": "​",
            "style": "IPY_MODEL_59ad96971f59428caf0df636781cfa9b",
            "value": " 87754752/? [00:01&lt;00:00, 72091174.43it/s]"
          }
        },
        "b23ce7fdb387471395fdfbc044a41d3c": {
          "model_module": "@jupyter-widgets/base",
          "model_name": "LayoutModel",
          "model_module_version": "1.2.0",
          "state": {
            "_model_module": "@jupyter-widgets/base",
            "_model_module_version": "1.2.0",
            "_model_name": "LayoutModel",
            "_view_count": null,
            "_view_module": "@jupyter-widgets/base",
            "_view_module_version": "1.2.0",
            "_view_name": "LayoutView",
            "align_content": null,
            "align_items": null,
            "align_self": null,
            "border": null,
            "bottom": null,
            "display": null,
            "flex": null,
            "flex_flow": null,
            "grid_area": null,
            "grid_auto_columns": null,
            "grid_auto_flow": null,
            "grid_auto_rows": null,
            "grid_column": null,
            "grid_gap": null,
            "grid_row": null,
            "grid_template_areas": null,
            "grid_template_columns": null,
            "grid_template_rows": null,
            "height": null,
            "justify_content": null,
            "justify_items": null,
            "left": null,
            "margin": null,
            "max_height": null,
            "max_width": null,
            "min_height": null,
            "min_width": null,
            "object_fit": null,
            "object_position": null,
            "order": null,
            "overflow": null,
            "overflow_x": null,
            "overflow_y": null,
            "padding": null,
            "right": null,
            "top": null,
            "visibility": null,
            "width": null
          }
        },
        "507dd23913364c02bf490349b740d13e": {
          "model_module": "@jupyter-widgets/base",
          "model_name": "LayoutModel",
          "model_module_version": "1.2.0",
          "state": {
            "_model_module": "@jupyter-widgets/base",
            "_model_module_version": "1.2.0",
            "_model_name": "LayoutModel",
            "_view_count": null,
            "_view_module": "@jupyter-widgets/base",
            "_view_module_version": "1.2.0",
            "_view_name": "LayoutView",
            "align_content": null,
            "align_items": null,
            "align_self": null,
            "border": null,
            "bottom": null,
            "display": null,
            "flex": null,
            "flex_flow": null,
            "grid_area": null,
            "grid_auto_columns": null,
            "grid_auto_flow": null,
            "grid_auto_rows": null,
            "grid_column": null,
            "grid_gap": null,
            "grid_row": null,
            "grid_template_areas": null,
            "grid_template_columns": null,
            "grid_template_rows": null,
            "height": null,
            "justify_content": null,
            "justify_items": null,
            "left": null,
            "margin": null,
            "max_height": null,
            "max_width": null,
            "min_height": null,
            "min_width": null,
            "object_fit": null,
            "object_position": null,
            "order": null,
            "overflow": null,
            "overflow_x": null,
            "overflow_y": null,
            "padding": null,
            "right": null,
            "top": null,
            "visibility": null,
            "width": null
          }
        },
        "98240a7d0bc84a16b58dd9f5f078e7c6": {
          "model_module": "@jupyter-widgets/controls",
          "model_name": "DescriptionStyleModel",
          "model_module_version": "1.5.0",
          "state": {
            "_model_module": "@jupyter-widgets/controls",
            "_model_module_version": "1.5.0",
            "_model_name": "DescriptionStyleModel",
            "_view_count": null,
            "_view_module": "@jupyter-widgets/base",
            "_view_module_version": "1.2.0",
            "_view_name": "StyleView",
            "description_width": ""
          }
        },
        "e6095b85dc294626a90a3c565e744940": {
          "model_module": "@jupyter-widgets/base",
          "model_name": "LayoutModel",
          "model_module_version": "1.2.0",
          "state": {
            "_model_module": "@jupyter-widgets/base",
            "_model_module_version": "1.2.0",
            "_model_name": "LayoutModel",
            "_view_count": null,
            "_view_module": "@jupyter-widgets/base",
            "_view_module_version": "1.2.0",
            "_view_name": "LayoutView",
            "align_content": null,
            "align_items": null,
            "align_self": null,
            "border": null,
            "bottom": null,
            "display": null,
            "flex": null,
            "flex_flow": null,
            "grid_area": null,
            "grid_auto_columns": null,
            "grid_auto_flow": null,
            "grid_auto_rows": null,
            "grid_column": null,
            "grid_gap": null,
            "grid_row": null,
            "grid_template_areas": null,
            "grid_template_columns": null,
            "grid_template_rows": null,
            "height": null,
            "justify_content": null,
            "justify_items": null,
            "left": null,
            "margin": null,
            "max_height": null,
            "max_width": null,
            "min_height": null,
            "min_width": null,
            "object_fit": null,
            "object_position": null,
            "order": null,
            "overflow": null,
            "overflow_x": null,
            "overflow_y": null,
            "padding": null,
            "right": null,
            "top": null,
            "visibility": null,
            "width": null
          }
        },
        "07a99cc2bd3f4a5aa089ea5dcb1c951f": {
          "model_module": "@jupyter-widgets/controls",
          "model_name": "ProgressStyleModel",
          "model_module_version": "1.5.0",
          "state": {
            "_model_module": "@jupyter-widgets/controls",
            "_model_module_version": "1.5.0",
            "_model_name": "ProgressStyleModel",
            "_view_count": null,
            "_view_module": "@jupyter-widgets/base",
            "_view_module_version": "1.2.0",
            "_view_name": "StyleView",
            "bar_color": null,
            "description_width": ""
          }
        },
        "f6317ff5877746d2a4f6cc13187b2e52": {
          "model_module": "@jupyter-widgets/base",
          "model_name": "LayoutModel",
          "model_module_version": "1.2.0",
          "state": {
            "_model_module": "@jupyter-widgets/base",
            "_model_module_version": "1.2.0",
            "_model_name": "LayoutModel",
            "_view_count": null,
            "_view_module": "@jupyter-widgets/base",
            "_view_module_version": "1.2.0",
            "_view_name": "LayoutView",
            "align_content": null,
            "align_items": null,
            "align_self": null,
            "border": null,
            "bottom": null,
            "display": null,
            "flex": null,
            "flex_flow": null,
            "grid_area": null,
            "grid_auto_columns": null,
            "grid_auto_flow": null,
            "grid_auto_rows": null,
            "grid_column": null,
            "grid_gap": null,
            "grid_row": null,
            "grid_template_areas": null,
            "grid_template_columns": null,
            "grid_template_rows": null,
            "height": null,
            "justify_content": null,
            "justify_items": null,
            "left": null,
            "margin": null,
            "max_height": null,
            "max_width": null,
            "min_height": null,
            "min_width": null,
            "object_fit": null,
            "object_position": null,
            "order": null,
            "overflow": null,
            "overflow_x": null,
            "overflow_y": null,
            "padding": null,
            "right": null,
            "top": null,
            "visibility": null,
            "width": null
          }
        },
        "59ad96971f59428caf0df636781cfa9b": {
          "model_module": "@jupyter-widgets/controls",
          "model_name": "DescriptionStyleModel",
          "model_module_version": "1.5.0",
          "state": {
            "_model_module": "@jupyter-widgets/controls",
            "_model_module_version": "1.5.0",
            "_model_name": "DescriptionStyleModel",
            "_view_count": null,
            "_view_module": "@jupyter-widgets/base",
            "_view_module_version": "1.2.0",
            "_view_name": "StyleView",
            "description_width": ""
          }
        }
      }
    }
  },
  "cells": [
    {
      "cell_type": "markdown",
      "metadata": {
        "id": "view-in-github",
        "colab_type": "text"
      },
      "source": [
        "<a href=\"https://colab.research.google.com/github/pranay8297/ExpNotebooks/blob/main/oonx_to_tflite_and_parseq_to_torchscript.ipynb\" target=\"_parent\"><img src=\"https://colab.research.google.com/assets/colab-badge.svg\" alt=\"Open In Colab\"/></a>"
      ]
    },
    {
      "cell_type": "markdown",
      "source": [
        "# ONNX to TFLite"
      ],
      "metadata": {
        "id": "Md9jhurCH48r"
      }
    },
    {
      "cell_type": "code",
      "source": [
        "# 1. Clone the repository\n",
        "!git clone https://github.com/MPolaris/onnx2tflite.git\n",
        "\n",
        "# 2. Enter the project directory\n",
        "%cd onnx2tflite\n",
        "\n",
        "# 3. Install in editable / “development” mode\n",
        "!pip install -e .\n"
      ],
      "metadata": {
        "id": "dRP60TLYjBcQ"
      },
      "execution_count": null,
      "outputs": []
    },
    {
      "cell_type": "code",
      "source": [
        "from onnx2tflite import onnx_converter\n",
        "\n",
        "res = onnx_converter(\n",
        "    onnx_model_path=\"./judge_model.onnx\",  # path to your exported ONNX\n",
        "    output_path=\"./\",        # where to write the .tflite\n",
        "    target_formats=['tflite'],             # only TFLite\n",
        "    need_simplify=True                     # optional: simplify ONNX graph first\n",
        ")\n",
        "print(\"Generated TFLite model at:\", res['tflite'])\n"
      ],
      "metadata": {
        "colab": {
          "base_uri": "https://localhost:8080/",
          "height": 141
        },
        "id": "DOxvtm1tjGQh",
        "outputId": "06ba7cd9-ed84-45b9-f966-45666248ab43"
      },
      "execution_count": null,
      "outputs": [
        {
          "output_type": "display_data",
          "data": {
            "text/plain": [
              "\u001b[1;31mWARNING: The argument `dynamic_input_shape=True` is not needed any more, onnxsim can now support dynamic input \u001b[0m\n",
              "\u001b[1;31mshapes natively, please refer to the latest documentation. An error will be raised in the future.\u001b[0m\n"
            ],
            "text/html": [
              "<pre style=\"white-space:pre;overflow-x:auto;line-height:normal;font-family:Menlo,'DejaVu Sans Mono',consolas,'Courier New',monospace\"><span style=\"color: #800000; text-decoration-color: #800000; font-weight: bold\">WARNING: The argument `dynamic_input_shape=True` is not needed any more, onnxsim can now support dynamic input </span>\n",
              "<span style=\"color: #800000; text-decoration-color: #800000; font-weight: bold\">shapes natively, please refer to the latest documentation. An error will be raised in the future.</span>\n",
              "</pre>\n"
            ]
          },
          "metadata": {}
        },
        {
          "output_type": "stream",
          "name": "stdout",
          "text": [
            "Checking 0/1...\n",
            "shape[0] of input \"input\" is dynamic, we assume it presents batch size and set it as 1 when testing. If it is not wanted, please set the it manually by --test-input-shape (see `onnxsim -h` for the details).\n"
          ]
        },
        {
          "output_type": "stream",
          "name": "stderr",
          "text": [
            "WARNING:absl:Found untraced functions such as _jit_compiled_convolution_op, _jit_compiled_convolution_op, _jit_compiled_convolution_op, _jit_compiled_convolution_op, _jit_compiled_convolution_op while saving (showing 5 of 52). These functions will not be directly callable after loading.\n"
          ]
        },
        {
          "output_type": "stream",
          "name": "stdout",
          "text": [
            "Generated TFLite model at: ./judge_model.tflite\n"
          ]
        }
      ]
    },
    {
      "cell_type": "code",
      "source": [
        "!pip install tflite-runtime"
      ],
      "metadata": {
        "colab": {
          "base_uri": "https://localhost:8080/"
        },
        "id": "w68uKCCmjI8C",
        "outputId": "2eb82b3f-48f6-456b-cfff-3aa87b1688cb"
      },
      "execution_count": null,
      "outputs": [
        {
          "output_type": "stream",
          "name": "stdout",
          "text": [
            "Collecting tflite-runtime\n",
            "  Downloading tflite_runtime-2.14.0-cp311-cp311-manylinux2014_x86_64.whl.metadata (1.4 kB)\n",
            "Requirement already satisfied: numpy>=1.23.2 in /usr/local/lib/python3.11/dist-packages (from tflite-runtime) (1.24.0)\n",
            "Downloading tflite_runtime-2.14.0-cp311-cp311-manylinux2014_x86_64.whl (2.4 MB)\n",
            "\u001b[?25l   \u001b[90m━━━━━━━━━━━━━━━━━━━━━━━━━━━━━━━━━━━━━━━━\u001b[0m \u001b[32m0.0/2.4 MB\u001b[0m \u001b[31m?\u001b[0m eta \u001b[36m-:--:--\u001b[0m\r\u001b[2K   \u001b[91m━━━━━━━━━━━━━━━━━━━━━━━━━━━━━━━━━━━━━━━\u001b[0m\u001b[91m╸\u001b[0m \u001b[32m2.4/2.4 MB\u001b[0m \u001b[31m104.2 MB/s\u001b[0m eta \u001b[36m0:00:01\u001b[0m\r\u001b[2K   \u001b[90m━━━━━━━━━━━━━━━━━━━━━━━━━━━━━━━━━━━━━━━━\u001b[0m \u001b[32m2.4/2.4 MB\u001b[0m \u001b[31m57.6 MB/s\u001b[0m eta \u001b[36m0:00:00\u001b[0m\n",
            "\u001b[?25hInstalling collected packages: tflite-runtime\n",
            "Successfully installed tflite-runtime-2.14.0\n"
          ]
        }
      ]
    },
    {
      "cell_type": "code",
      "source": [
        "import tensorflow as tf\n",
        "\n",
        "# 1. Create the interpreter and load the model\n",
        "interpreter = tf.lite.Interpreter(model_path=\"judge_model.tflite\")\n",
        "interpreter.allocate_tensors()"
      ],
      "metadata": {
        "id": "DvftOtGumT3j"
      },
      "execution_count": null,
      "outputs": []
    },
    {
      "cell_type": "code",
      "source": [
        "interpreter"
      ],
      "metadata": {
        "colab": {
          "base_uri": "https://localhost:8080/"
        },
        "id": "5iD4BU15mb6B",
        "outputId": "7d74e327-2d78-439f-cd81-d031220240a6"
      },
      "execution_count": null,
      "outputs": [
        {
          "output_type": "execute_result",
          "data": {
            "text/plain": [
              "<tensorflow.lite.python.interpreter.Interpreter at 0x7808365cb890>"
            ]
          },
          "metadata": {},
          "execution_count": 5
        }
      ]
    },
    {
      "cell_type": "code",
      "source": [
        "input_details  = interpreter.get_input_details()\n",
        "output_details = interpreter.get_output_details()\n",
        "\n",
        "print(\"Input details:\", input_details)\n",
        "print(\"Output details:\", output_details)"
      ],
      "metadata": {
        "colab": {
          "base_uri": "https://localhost:8080/"
        },
        "id": "d68GQXXGmcaK",
        "outputId": "0ac721d2-01dc-4750-ba7b-c0707876faf5"
      },
      "execution_count": null,
      "outputs": [
        {
          "output_type": "stream",
          "name": "stdout",
          "text": [
            "Input details: [{'name': 'serving_default_input_2:0', 'index': 0, 'shape': array([  1,   3, 224, 224], dtype=int32), 'shape_signature': array([  1,   3, 224, 224], dtype=int32), 'dtype': <class 'numpy.float32'>, 'quantization': (0.0, 0), 'quantization_parameters': {'scales': array([], dtype=float32), 'zero_points': array([], dtype=int32), 'quantized_dimension': 0}, 'sparsity_parameters': {}}]\n",
            "Output details: [{'name': 'StatefulPartitionedCall:0', 'index': 324, 'shape': array([1, 2], dtype=int32), 'shape_signature': array([1, 2], dtype=int32), 'dtype': <class 'numpy.float32'>, 'quantization': (0.0, 0), 'quantization_parameters': {'scales': array([], dtype=float32), 'zero_points': array([], dtype=int32), 'quantized_dimension': 0}, 'sparsity_parameters': {}}]\n"
          ]
        }
      ]
    },
    {
      "cell_type": "code",
      "source": [
        "from PIL import Image\n",
        "import numpy as np\n",
        "\n",
        "# 1. Load and resize the image to match model input\n",
        "img = Image.open(\"bad.jpg\").convert(\"RGB\").resize((224, 224))\n",
        "\n",
        "# 2. Convert to a NumPy array, float32, NHWC order [H, W, C]\n",
        "input_data = np.array(img, dtype=np.float32)\n",
        "\n",
        "# 3. Add the batch dimension: [1, H, W, C]\n",
        "input_data = np.expand_dims(input_data, axis=0)          # (1, 224, 224, 3)\n",
        "input_data = input_data.transpose(0, 3, 1, 2) / 255."
      ],
      "metadata": {
        "id": "VNR3km5fmesT"
      },
      "execution_count": null,
      "outputs": []
    },
    {
      "cell_type": "code",
      "source": [
        "input_data.shape, input_data.max(), input_data.min(), input_data.mean(), input_data.std()"
      ],
      "metadata": {
        "colab": {
          "base_uri": "https://localhost:8080/"
        },
        "id": "uAC3yypSm9Ep",
        "outputId": "9cf0d55d-b41c-40e6-f13f-e9106fe33f61"
      },
      "execution_count": null,
      "outputs": [
        {
          "output_type": "execute_result",
          "data": {
            "text/plain": [
              "((1, 3, 224, 224), 1.0, 0.0, 0.3061117, 0.29185376)"
            ]
          },
          "metadata": {},
          "execution_count": 21
        }
      ]
    },
    {
      "cell_type": "code",
      "source": [
        "interpreter.set_tensor(input_details[0]['index'], input_data)\n",
        "\n",
        "# 2. Run the model\n",
        "interpreter.invoke()"
      ],
      "metadata": {
        "id": "uynQcoP6m9ey"
      },
      "execution_count": null,
      "outputs": []
    },
    {
      "cell_type": "code",
      "source": [
        "logits = interpreter.get_tensor(output_details[0]['index'])\n",
        "logits"
      ],
      "metadata": {
        "colab": {
          "base_uri": "https://localhost:8080/"
        },
        "id": "onlTGsIunlbG",
        "outputId": "d721ff5b-c80e-470e-bc2c-ddcaf9760806"
      },
      "execution_count": null,
      "outputs": [
        {
          "output_type": "execute_result",
          "data": {
            "text/plain": [
              "array([[ 2.8056283, -3.4399908]], dtype=float32)"
            ]
          },
          "metadata": {},
          "execution_count": 23
        }
      ]
    },
    {
      "cell_type": "markdown",
      "source": [
        "# ParSEQ direct tensorflow experiments - worked but accuracy did not translate\n"
      ],
      "metadata": {
        "id": "3Yj4AqeVH9D9"
      }
    },
    {
      "cell_type": "code",
      "source": [
        "!pip install --upgrade \"python-doctr[tf]==0.8.0\""
      ],
      "metadata": {
        "id": "0zDwcJ6arOGY",
        "colab": {
          "base_uri": "https://localhost:8080/",
          "height": 1000
        },
        "outputId": "f5f29b2d-de79-42e0-efe3-f77144861ced"
      },
      "execution_count": 1,
      "outputs": [
        {
          "output_type": "stream",
          "name": "stdout",
          "text": [
            "Collecting python-doctr==0.8.0 (from python-doctr[tf]==0.8.0)\n",
            "  Downloading python_doctr-0.8.0-py3-none-any.whl.metadata (32 kB)\n",
            "Requirement already satisfied: importlib-metadata in /usr/local/lib/python3.11/dist-packages (from python-doctr==0.8.0->python-doctr[tf]==0.8.0) (8.7.0)\n",
            "Collecting numpy<2.0.0,>=1.16.0 (from python-doctr==0.8.0->python-doctr[tf]==0.8.0)\n",
            "  Downloading numpy-1.26.4-cp311-cp311-manylinux_2_17_x86_64.manylinux2014_x86_64.whl.metadata (61 kB)\n",
            "\u001b[2K     \u001b[90m━━━━━━━━━━━━━━━━━━━━━━━━━━━━━━━━━━━━━━━━\u001b[0m \u001b[32m61.0/61.0 kB\u001b[0m \u001b[31m1.2 MB/s\u001b[0m eta \u001b[36m0:00:00\u001b[0m\n",
            "\u001b[?25hRequirement already satisfied: scipy<2.0.0,>=1.4.0 in /usr/local/lib/python3.11/dist-packages (from python-doctr==0.8.0->python-doctr[tf]==0.8.0) (1.15.3)\n",
            "Requirement already satisfied: h5py<4.0.0,>=3.1.0 in /usr/local/lib/python3.11/dist-packages (from python-doctr==0.8.0->python-doctr[tf]==0.8.0) (3.13.0)\n",
            "Requirement already satisfied: opencv-python<5.0.0,>=4.5.0 in /usr/local/lib/python3.11/dist-packages (from python-doctr==0.8.0->python-doctr[tf]==0.8.0) (4.11.0.86)\n",
            "Collecting pypdfium2<5.0.0,>=4.0.0 (from python-doctr==0.8.0->python-doctr[tf]==0.8.0)\n",
            "  Downloading pypdfium2-4.30.1-py3-none-manylinux_2_17_x86_64.manylinux2014_x86_64.whl.metadata (48 kB)\n",
            "\u001b[2K     \u001b[90m━━━━━━━━━━━━━━━━━━━━━━━━━━━━━━━━━━━━━━━━\u001b[0m \u001b[32m48.2/48.2 kB\u001b[0m \u001b[31m1.4 MB/s\u001b[0m eta \u001b[36m0:00:00\u001b[0m\n",
            "\u001b[?25hCollecting pyclipper<2.0.0,>=1.2.0 (from python-doctr==0.8.0->python-doctr[tf]==0.8.0)\n",
            "  Downloading pyclipper-1.3.0.post6-cp311-cp311-manylinux_2_17_x86_64.manylinux2014_x86_64.whl.metadata (9.0 kB)\n",
            "Requirement already satisfied: shapely<3.0.0,>=1.6.0 in /usr/local/lib/python3.11/dist-packages (from python-doctr==0.8.0->python-doctr[tf]==0.8.0) (2.1.0)\n",
            "Collecting langdetect<2.0.0,>=1.0.9 (from python-doctr==0.8.0->python-doctr[tf]==0.8.0)\n",
            "  Downloading langdetect-1.0.9.tar.gz (981 kB)\n",
            "\u001b[2K     \u001b[90m━━━━━━━━━━━━━━━━━━━━━━━━━━━━━━━━━━━━━━\u001b[0m \u001b[32m981.5/981.5 kB\u001b[0m \u001b[31m19.7 MB/s\u001b[0m eta \u001b[36m0:00:00\u001b[0m\n",
            "\u001b[?25h  Preparing metadata (setup.py) ... \u001b[?25l\u001b[?25hdone\n",
            "Collecting rapidfuzz<4.0.0,>=3.0.0 (from python-doctr==0.8.0->python-doctr[tf]==0.8.0)\n",
            "  Downloading rapidfuzz-3.13.0-cp311-cp311-manylinux_2_17_x86_64.manylinux2014_x86_64.whl.metadata (12 kB)\n",
            "Requirement already satisfied: huggingface-hub<1.0.0,>=0.20.0 in /usr/local/lib/python3.11/dist-packages (from python-doctr==0.8.0->python-doctr[tf]==0.8.0) (0.31.1)\n",
            "Requirement already satisfied: matplotlib>=3.1.0 in /usr/local/lib/python3.11/dist-packages (from python-doctr==0.8.0->python-doctr[tf]==0.8.0) (3.10.0)\n",
            "Collecting weasyprint>=55.0 (from python-doctr==0.8.0->python-doctr[tf]==0.8.0)\n",
            "  Downloading weasyprint-65.1-py3-none-any.whl.metadata (3.7 kB)\n",
            "Requirement already satisfied: Pillow>=9.2.0 in /usr/local/lib/python3.11/dist-packages (from python-doctr==0.8.0->python-doctr[tf]==0.8.0) (11.2.1)\n",
            "Requirement already satisfied: defusedxml>=0.7.0 in /usr/local/lib/python3.11/dist-packages (from python-doctr==0.8.0->python-doctr[tf]==0.8.0) (0.7.1)\n",
            "Collecting mplcursors>=0.3 (from python-doctr==0.8.0->python-doctr[tf]==0.8.0)\n",
            "  Downloading mplcursors-0.6-py3-none-any.whl.metadata (3.0 kB)\n",
            "Collecting unidecode>=1.0.0 (from python-doctr==0.8.0->python-doctr[tf]==0.8.0)\n",
            "  Downloading Unidecode-1.4.0-py3-none-any.whl.metadata (13 kB)\n",
            "Requirement already satisfied: tqdm>=4.30.0 in /usr/local/lib/python3.11/dist-packages (from python-doctr==0.8.0->python-doctr[tf]==0.8.0) (4.67.1)\n",
            "Collecting tensorflow<2.16.0,>=2.11.0 (from python-doctr[tf]==0.8.0)\n",
            "  Downloading tensorflow-2.15.1-cp311-cp311-manylinux_2_17_x86_64.manylinux2014_x86_64.whl.metadata (4.2 kB)\n",
            "Collecting tf2onnx<2.0.0,>=1.16.0 (from python-doctr[tf]==0.8.0)\n",
            "  Downloading tf2onnx-1.16.1-py3-none-any.whl.metadata (1.3 kB)\n",
            "Requirement already satisfied: filelock in /usr/local/lib/python3.11/dist-packages (from huggingface-hub<1.0.0,>=0.20.0->python-doctr==0.8.0->python-doctr[tf]==0.8.0) (3.18.0)\n",
            "Requirement already satisfied: fsspec>=2023.5.0 in /usr/local/lib/python3.11/dist-packages (from huggingface-hub<1.0.0,>=0.20.0->python-doctr==0.8.0->python-doctr[tf]==0.8.0) (2025.3.2)\n",
            "Requirement already satisfied: packaging>=20.9 in /usr/local/lib/python3.11/dist-packages (from huggingface-hub<1.0.0,>=0.20.0->python-doctr==0.8.0->python-doctr[tf]==0.8.0) (24.2)\n",
            "Requirement already satisfied: pyyaml>=5.1 in /usr/local/lib/python3.11/dist-packages (from huggingface-hub<1.0.0,>=0.20.0->python-doctr==0.8.0->python-doctr[tf]==0.8.0) (6.0.2)\n",
            "Requirement already satisfied: requests in /usr/local/lib/python3.11/dist-packages (from huggingface-hub<1.0.0,>=0.20.0->python-doctr==0.8.0->python-doctr[tf]==0.8.0) (2.32.3)\n",
            "Requirement already satisfied: typing-extensions>=3.7.4.3 in /usr/local/lib/python3.11/dist-packages (from huggingface-hub<1.0.0,>=0.20.0->python-doctr==0.8.0->python-doctr[tf]==0.8.0) (4.13.2)\n",
            "Requirement already satisfied: hf-xet<2.0.0,>=1.1.0 in /usr/local/lib/python3.11/dist-packages (from huggingface-hub<1.0.0,>=0.20.0->python-doctr==0.8.0->python-doctr[tf]==0.8.0) (1.1.0)\n",
            "Requirement already satisfied: six in /usr/local/lib/python3.11/dist-packages (from langdetect<2.0.0,>=1.0.9->python-doctr==0.8.0->python-doctr[tf]==0.8.0) (1.17.0)\n",
            "Requirement already satisfied: contourpy>=1.0.1 in /usr/local/lib/python3.11/dist-packages (from matplotlib>=3.1.0->python-doctr==0.8.0->python-doctr[tf]==0.8.0) (1.3.2)\n",
            "Requirement already satisfied: cycler>=0.10 in /usr/local/lib/python3.11/dist-packages (from matplotlib>=3.1.0->python-doctr==0.8.0->python-doctr[tf]==0.8.0) (0.12.1)\n",
            "Requirement already satisfied: fonttools>=4.22.0 in /usr/local/lib/python3.11/dist-packages (from matplotlib>=3.1.0->python-doctr==0.8.0->python-doctr[tf]==0.8.0) (4.57.0)\n",
            "Requirement already satisfied: kiwisolver>=1.3.1 in /usr/local/lib/python3.11/dist-packages (from matplotlib>=3.1.0->python-doctr==0.8.0->python-doctr[tf]==0.8.0) (1.4.8)\n",
            "Requirement already satisfied: pyparsing>=2.3.1 in /usr/local/lib/python3.11/dist-packages (from matplotlib>=3.1.0->python-doctr==0.8.0->python-doctr[tf]==0.8.0) (3.2.3)\n",
            "Requirement already satisfied: python-dateutil>=2.7 in /usr/local/lib/python3.11/dist-packages (from matplotlib>=3.1.0->python-doctr==0.8.0->python-doctr[tf]==0.8.0) (2.9.0.post0)\n",
            "Requirement already satisfied: absl-py>=1.0.0 in /usr/local/lib/python3.11/dist-packages (from tensorflow<2.16.0,>=2.11.0->python-doctr[tf]==0.8.0) (1.4.0)\n",
            "Requirement already satisfied: astunparse>=1.6.0 in /usr/local/lib/python3.11/dist-packages (from tensorflow<2.16.0,>=2.11.0->python-doctr[tf]==0.8.0) (1.6.3)\n",
            "Requirement already satisfied: flatbuffers>=23.5.26 in /usr/local/lib/python3.11/dist-packages (from tensorflow<2.16.0,>=2.11.0->python-doctr[tf]==0.8.0) (25.2.10)\n",
            "Requirement already satisfied: gast!=0.5.0,!=0.5.1,!=0.5.2,>=0.2.1 in /usr/local/lib/python3.11/dist-packages (from tensorflow<2.16.0,>=2.11.0->python-doctr[tf]==0.8.0) (0.6.0)\n",
            "Requirement already satisfied: google-pasta>=0.1.1 in /usr/local/lib/python3.11/dist-packages (from tensorflow<2.16.0,>=2.11.0->python-doctr[tf]==0.8.0) (0.2.0)\n",
            "Requirement already satisfied: libclang>=13.0.0 in /usr/local/lib/python3.11/dist-packages (from tensorflow<2.16.0,>=2.11.0->python-doctr[tf]==0.8.0) (18.1.1)\n",
            "Collecting ml-dtypes~=0.3.1 (from tensorflow<2.16.0,>=2.11.0->python-doctr[tf]==0.8.0)\n",
            "  Downloading ml_dtypes-0.3.2-cp311-cp311-manylinux_2_17_x86_64.manylinux2014_x86_64.whl.metadata (20 kB)\n",
            "Requirement already satisfied: opt-einsum>=2.3.2 in /usr/local/lib/python3.11/dist-packages (from tensorflow<2.16.0,>=2.11.0->python-doctr[tf]==0.8.0) (3.4.0)\n",
            "Collecting protobuf!=4.21.0,!=4.21.1,!=4.21.2,!=4.21.3,!=4.21.4,!=4.21.5,<5.0.0dev,>=3.20.3 (from tensorflow<2.16.0,>=2.11.0->python-doctr[tf]==0.8.0)\n",
            "  Downloading protobuf-4.25.7-cp37-abi3-manylinux2014_x86_64.whl.metadata (541 bytes)\n",
            "Requirement already satisfied: setuptools in /usr/local/lib/python3.11/dist-packages (from tensorflow<2.16.0,>=2.11.0->python-doctr[tf]==0.8.0) (75.2.0)\n",
            "Requirement already satisfied: termcolor>=1.1.0 in /usr/local/lib/python3.11/dist-packages (from tensorflow<2.16.0,>=2.11.0->python-doctr[tf]==0.8.0) (3.1.0)\n",
            "Collecting wrapt<1.15,>=1.11.0 (from tensorflow<2.16.0,>=2.11.0->python-doctr[tf]==0.8.0)\n",
            "  Downloading wrapt-1.14.1-cp311-cp311-manylinux_2_5_x86_64.manylinux1_x86_64.manylinux_2_17_x86_64.manylinux2014_x86_64.whl.metadata (6.7 kB)\n",
            "Requirement already satisfied: tensorflow-io-gcs-filesystem>=0.23.1 in /usr/local/lib/python3.11/dist-packages (from tensorflow<2.16.0,>=2.11.0->python-doctr[tf]==0.8.0) (0.37.1)\n",
            "Requirement already satisfied: grpcio<2.0,>=1.24.3 in /usr/local/lib/python3.11/dist-packages (from tensorflow<2.16.0,>=2.11.0->python-doctr[tf]==0.8.0) (1.71.0)\n",
            "Collecting tensorboard<2.16,>=2.15 (from tensorflow<2.16.0,>=2.11.0->python-doctr[tf]==0.8.0)\n",
            "  Downloading tensorboard-2.15.2-py3-none-any.whl.metadata (1.7 kB)\n",
            "Collecting tensorflow-estimator<2.16,>=2.15.0 (from tensorflow<2.16.0,>=2.11.0->python-doctr[tf]==0.8.0)\n",
            "  Downloading tensorflow_estimator-2.15.0-py2.py3-none-any.whl.metadata (1.3 kB)\n",
            "Collecting keras<2.16,>=2.15.0 (from tensorflow<2.16.0,>=2.11.0->python-doctr[tf]==0.8.0)\n",
            "  Downloading keras-2.15.0-py3-none-any.whl.metadata (2.4 kB)\n",
            "Collecting onnx>=1.4.1 (from tf2onnx<2.0.0,>=1.16.0->python-doctr[tf]==0.8.0)\n",
            "  Downloading onnx-1.18.0-cp311-cp311-manylinux_2_17_x86_64.manylinux2014_x86_64.whl.metadata (6.9 kB)\n",
            "Collecting protobuf!=4.21.0,!=4.21.1,!=4.21.2,!=4.21.3,!=4.21.4,!=4.21.5,<5.0.0dev,>=3.20.3 (from tensorflow<2.16.0,>=2.11.0->python-doctr[tf]==0.8.0)\n",
            "  Downloading protobuf-3.20.3-py2.py3-none-any.whl.metadata (720 bytes)\n",
            "Collecting pydyf>=0.11.0 (from weasyprint>=55.0->python-doctr==0.8.0->python-doctr[tf]==0.8.0)\n",
            "  Downloading pydyf-0.11.0-py3-none-any.whl.metadata (2.5 kB)\n",
            "Requirement already satisfied: cffi>=0.6 in /usr/local/lib/python3.11/dist-packages (from weasyprint>=55.0->python-doctr==0.8.0->python-doctr[tf]==0.8.0) (1.17.1)\n",
            "Collecting tinyhtml5>=2.0.0b1 (from weasyprint>=55.0->python-doctr==0.8.0->python-doctr[tf]==0.8.0)\n",
            "  Downloading tinyhtml5-2.0.0-py3-none-any.whl.metadata (2.9 kB)\n",
            "Requirement already satisfied: tinycss2>=1.4.0 in /usr/local/lib/python3.11/dist-packages (from weasyprint>=55.0->python-doctr==0.8.0->python-doctr[tf]==0.8.0) (1.4.0)\n",
            "Collecting cssselect2>=0.8.0 (from weasyprint>=55.0->python-doctr==0.8.0->python-doctr[tf]==0.8.0)\n",
            "  Downloading cssselect2-0.8.0-py3-none-any.whl.metadata (2.9 kB)\n",
            "Collecting Pyphen>=0.9.1 (from weasyprint>=55.0->python-doctr==0.8.0->python-doctr[tf]==0.8.0)\n",
            "  Downloading pyphen-0.17.2-py3-none-any.whl.metadata (3.2 kB)\n",
            "Requirement already satisfied: zipp>=3.20 in /usr/local/lib/python3.11/dist-packages (from importlib-metadata->python-doctr==0.8.0->python-doctr[tf]==0.8.0) (3.21.0)\n",
            "Requirement already satisfied: wheel<1.0,>=0.23.0 in /usr/local/lib/python3.11/dist-packages (from astunparse>=1.6.0->tensorflow<2.16.0,>=2.11.0->python-doctr[tf]==0.8.0) (0.45.1)\n",
            "Requirement already satisfied: pycparser in /usr/local/lib/python3.11/dist-packages (from cffi>=0.6->weasyprint>=55.0->python-doctr==0.8.0->python-doctr[tf]==0.8.0) (2.22)\n",
            "Requirement already satisfied: webencodings in /usr/local/lib/python3.11/dist-packages (from cssselect2>=0.8.0->weasyprint>=55.0->python-doctr==0.8.0->python-doctr[tf]==0.8.0) (0.5.1)\n",
            "Collecting brotli>=1.0.1 (from fonttools[woff]>=4.0.0->weasyprint>=55.0->python-doctr==0.8.0->python-doctr[tf]==0.8.0)\n",
            "  Downloading Brotli-1.1.0-cp311-cp311-manylinux_2_17_x86_64.manylinux2014_x86_64.whl.metadata (5.5 kB)\n",
            "Collecting zopfli>=0.1.4 (from fonttools[woff]>=4.0.0->weasyprint>=55.0->python-doctr==0.8.0->python-doctr[tf]==0.8.0)\n",
            "  Downloading zopfli-0.2.3.post1-cp311-cp311-manylinux_2_17_x86_64.manylinux2014_x86_64.whl.metadata (2.9 kB)\n",
            "INFO: pip is looking at multiple versions of onnx to determine which version is compatible with other requirements. This could take a while.\n",
            "Collecting onnx>=1.4.1 (from tf2onnx<2.0.0,>=1.16.0->python-doctr[tf]==0.8.0)\n",
            "  Downloading onnx-1.17.0-cp311-cp311-manylinux_2_17_x86_64.manylinux2014_x86_64.whl.metadata (16 kB)\n",
            "Requirement already satisfied: google-auth<3,>=1.6.3 in /usr/local/lib/python3.11/dist-packages (from tensorboard<2.16,>=2.15->tensorflow<2.16.0,>=2.11.0->python-doctr[tf]==0.8.0) (2.38.0)\n",
            "Requirement already satisfied: google-auth-oauthlib<2,>=0.5 in /usr/local/lib/python3.11/dist-packages (from tensorboard<2.16,>=2.15->tensorflow<2.16.0,>=2.11.0->python-doctr[tf]==0.8.0) (1.2.2)\n",
            "Requirement already satisfied: markdown>=2.6.8 in /usr/local/lib/python3.11/dist-packages (from tensorboard<2.16,>=2.15->tensorflow<2.16.0,>=2.11.0->python-doctr[tf]==0.8.0) (3.8)\n",
            "Requirement already satisfied: tensorboard-data-server<0.8.0,>=0.7.0 in /usr/local/lib/python3.11/dist-packages (from tensorboard<2.16,>=2.15->tensorflow<2.16.0,>=2.11.0->python-doctr[tf]==0.8.0) (0.7.2)\n",
            "Requirement already satisfied: werkzeug>=1.0.1 in /usr/local/lib/python3.11/dist-packages (from tensorboard<2.16,>=2.15->tensorflow<2.16.0,>=2.11.0->python-doctr[tf]==0.8.0) (3.1.3)\n",
            "Requirement already satisfied: charset-normalizer<4,>=2 in /usr/local/lib/python3.11/dist-packages (from requests->huggingface-hub<1.0.0,>=0.20.0->python-doctr==0.8.0->python-doctr[tf]==0.8.0) (3.4.2)\n",
            "Requirement already satisfied: idna<4,>=2.5 in /usr/local/lib/python3.11/dist-packages (from requests->huggingface-hub<1.0.0,>=0.20.0->python-doctr==0.8.0->python-doctr[tf]==0.8.0) (3.10)\n",
            "Requirement already satisfied: urllib3<3,>=1.21.1 in /usr/local/lib/python3.11/dist-packages (from requests->huggingface-hub<1.0.0,>=0.20.0->python-doctr==0.8.0->python-doctr[tf]==0.8.0) (2.4.0)\n",
            "Requirement already satisfied: certifi>=2017.4.17 in /usr/local/lib/python3.11/dist-packages (from requests->huggingface-hub<1.0.0,>=0.20.0->python-doctr==0.8.0->python-doctr[tf]==0.8.0) (2025.4.26)\n",
            "Requirement already satisfied: cachetools<6.0,>=2.0.0 in /usr/local/lib/python3.11/dist-packages (from google-auth<3,>=1.6.3->tensorboard<2.16,>=2.15->tensorflow<2.16.0,>=2.11.0->python-doctr[tf]==0.8.0) (5.5.2)\n",
            "Requirement already satisfied: pyasn1-modules>=0.2.1 in /usr/local/lib/python3.11/dist-packages (from google-auth<3,>=1.6.3->tensorboard<2.16,>=2.15->tensorflow<2.16.0,>=2.11.0->python-doctr[tf]==0.8.0) (0.4.2)\n",
            "Requirement already satisfied: rsa<5,>=3.1.4 in /usr/local/lib/python3.11/dist-packages (from google-auth<3,>=1.6.3->tensorboard<2.16,>=2.15->tensorflow<2.16.0,>=2.11.0->python-doctr[tf]==0.8.0) (4.9.1)\n",
            "Requirement already satisfied: requests-oauthlib>=0.7.0 in /usr/local/lib/python3.11/dist-packages (from google-auth-oauthlib<2,>=0.5->tensorboard<2.16,>=2.15->tensorflow<2.16.0,>=2.11.0->python-doctr[tf]==0.8.0) (2.0.0)\n",
            "Requirement already satisfied: MarkupSafe>=2.1.1 in /usr/local/lib/python3.11/dist-packages (from werkzeug>=1.0.1->tensorboard<2.16,>=2.15->tensorflow<2.16.0,>=2.11.0->python-doctr[tf]==0.8.0) (3.0.2)\n",
            "Requirement already satisfied: pyasn1<0.7.0,>=0.6.1 in /usr/local/lib/python3.11/dist-packages (from pyasn1-modules>=0.2.1->google-auth<3,>=1.6.3->tensorboard<2.16,>=2.15->tensorflow<2.16.0,>=2.11.0->python-doctr[tf]==0.8.0) (0.6.1)\n",
            "Requirement already satisfied: oauthlib>=3.0.0 in /usr/local/lib/python3.11/dist-packages (from requests-oauthlib>=0.7.0->google-auth-oauthlib<2,>=0.5->tensorboard<2.16,>=2.15->tensorflow<2.16.0,>=2.11.0->python-doctr[tf]==0.8.0) (3.2.2)\n",
            "Downloading python_doctr-0.8.0-py3-none-any.whl (280 kB)\n",
            "\u001b[2K   \u001b[90m━━━━━━━━━━━━━━━━━━━━━━━━━━━━━━━━━━━━━━━━\u001b[0m \u001b[32m280.1/280.1 kB\u001b[0m \u001b[31m21.4 MB/s\u001b[0m eta \u001b[36m0:00:00\u001b[0m\n",
            "\u001b[?25hDownloading mplcursors-0.6-py3-none-any.whl (20 kB)\n",
            "Downloading numpy-1.26.4-cp311-cp311-manylinux_2_17_x86_64.manylinux2014_x86_64.whl (18.3 MB)\n",
            "\u001b[2K   \u001b[90m━━━━━━━━━━━━━━━━━━━━━━━━━━━━━━━━━━━━━━━━\u001b[0m \u001b[32m18.3/18.3 MB\u001b[0m \u001b[31m60.8 MB/s\u001b[0m eta \u001b[36m0:00:00\u001b[0m\n",
            "\u001b[?25hDownloading pyclipper-1.3.0.post6-cp311-cp311-manylinux_2_17_x86_64.manylinux2014_x86_64.whl (969 kB)\n",
            "\u001b[2K   \u001b[90m━━━━━━━━━━━━━━━━━━━━━━━━━━━━━━━━━━━━━━━━\u001b[0m \u001b[32m969.6/969.6 kB\u001b[0m \u001b[31m47.7 MB/s\u001b[0m eta \u001b[36m0:00:00\u001b[0m\n",
            "\u001b[?25hDownloading pypdfium2-4.30.1-py3-none-manylinux_2_17_x86_64.manylinux2014_x86_64.whl (2.9 MB)\n",
            "\u001b[2K   \u001b[90m━━━━━━━━━━━━━━━━━━━━━━━━━━━━━━━━━━━━━━━━\u001b[0m \u001b[32m2.9/2.9 MB\u001b[0m \u001b[31m63.4 MB/s\u001b[0m eta \u001b[36m0:00:00\u001b[0m\n",
            "\u001b[?25hDownloading rapidfuzz-3.13.0-cp311-cp311-manylinux_2_17_x86_64.manylinux2014_x86_64.whl (3.1 MB)\n",
            "\u001b[2K   \u001b[90m━━━━━━━━━━━━━━━━━━━━━━━━━━━━━━━━━━━━━━━━\u001b[0m \u001b[32m3.1/3.1 MB\u001b[0m \u001b[31m73.3 MB/s\u001b[0m eta \u001b[36m0:00:00\u001b[0m\n",
            "\u001b[?25hDownloading tensorflow-2.15.1-cp311-cp311-manylinux_2_17_x86_64.manylinux2014_x86_64.whl (475.3 MB)\n",
            "\u001b[2K   \u001b[90m━━━━━━━━━━━━━━━━━━━━━━━━━━━━━━━━━━━━━━━━\u001b[0m \u001b[32m475.3/475.3 MB\u001b[0m \u001b[31m2.6 MB/s\u001b[0m eta \u001b[36m0:00:00\u001b[0m\n",
            "\u001b[?25hDownloading tf2onnx-1.16.1-py3-none-any.whl (455 kB)\n",
            "\u001b[2K   \u001b[90m━━━━━━━━━━━━━━━━━━━━━━━━━━━━━━━━━━━━━━━━\u001b[0m \u001b[32m455.8/455.8 kB\u001b[0m \u001b[31m29.0 MB/s\u001b[0m eta \u001b[36m0:00:00\u001b[0m\n",
            "\u001b[?25hDownloading Unidecode-1.4.0-py3-none-any.whl (235 kB)\n",
            "\u001b[2K   \u001b[90m━━━━━━━━━━━━━━━━━━━━━━━━━━━━━━━━━━━━━━━━\u001b[0m \u001b[32m235.8/235.8 kB\u001b[0m \u001b[31m19.0 MB/s\u001b[0m eta \u001b[36m0:00:00\u001b[0m\n",
            "\u001b[?25hDownloading weasyprint-65.1-py3-none-any.whl (298 kB)\n",
            "\u001b[2K   \u001b[90m━━━━━━━━━━━━━━━━━━━━━━━━━━━━━━━━━━━━━━━━\u001b[0m \u001b[32m298.0/298.0 kB\u001b[0m \u001b[31m22.5 MB/s\u001b[0m eta \u001b[36m0:00:00\u001b[0m\n",
            "\u001b[?25hDownloading cssselect2-0.8.0-py3-none-any.whl (15 kB)\n",
            "Downloading keras-2.15.0-py3-none-any.whl (1.7 MB)\n",
            "\u001b[2K   \u001b[90m━━━━━━━━━━━━━━━━━━━━━━━━━━━━━━━━━━━━━━━━\u001b[0m \u001b[32m1.7/1.7 MB\u001b[0m \u001b[31m63.8 MB/s\u001b[0m eta \u001b[36m0:00:00\u001b[0m\n",
            "\u001b[?25hDownloading ml_dtypes-0.3.2-cp311-cp311-manylinux_2_17_x86_64.manylinux2014_x86_64.whl (2.2 MB)\n",
            "\u001b[2K   \u001b[90m━━━━━━━━━━━━━━━━━━━━━━━━━━━━━━━━━━━━━━━━\u001b[0m \u001b[32m2.2/2.2 MB\u001b[0m \u001b[31m63.0 MB/s\u001b[0m eta \u001b[36m0:00:00\u001b[0m\n",
            "\u001b[?25hDownloading onnx-1.17.0-cp311-cp311-manylinux_2_17_x86_64.manylinux2014_x86_64.whl (16.0 MB)\n",
            "\u001b[2K   \u001b[90m━━━━━━━━━━━━━━━━━━━━━━━━━━━━━━━━━━━━━━━━\u001b[0m \u001b[32m16.0/16.0 MB\u001b[0m \u001b[31m76.3 MB/s\u001b[0m eta \u001b[36m0:00:00\u001b[0m\n",
            "\u001b[?25hDownloading protobuf-3.20.3-py2.py3-none-any.whl (162 kB)\n",
            "\u001b[2K   \u001b[90m━━━━━━━━━━━━━━━━━━━━━━━━━━━━━━━━━━━━━━━━\u001b[0m \u001b[32m162.1/162.1 kB\u001b[0m \u001b[31m13.6 MB/s\u001b[0m eta \u001b[36m0:00:00\u001b[0m\n",
            "\u001b[?25hDownloading pydyf-0.11.0-py3-none-any.whl (8.1 kB)\n",
            "Downloading pyphen-0.17.2-py3-none-any.whl (2.1 MB)\n",
            "\u001b[2K   \u001b[90m━━━━━━━━━━━━━━━━━━━━━━━━━━━━━━━━━━━━━━━━\u001b[0m \u001b[32m2.1/2.1 MB\u001b[0m \u001b[31m68.8 MB/s\u001b[0m eta \u001b[36m0:00:00\u001b[0m\n",
            "\u001b[?25hDownloading tensorboard-2.15.2-py3-none-any.whl (5.5 MB)\n",
            "\u001b[2K   \u001b[90m━━━━━━━━━━━━━━━━━━━━━━━━━━━━━━━━━━━━━━━━\u001b[0m \u001b[32m5.5/5.5 MB\u001b[0m \u001b[31m83.1 MB/s\u001b[0m eta \u001b[36m0:00:00\u001b[0m\n",
            "\u001b[?25hDownloading tensorflow_estimator-2.15.0-py2.py3-none-any.whl (441 kB)\n",
            "\u001b[2K   \u001b[90m━━━━━━━━━━━━━━━━━━━━━━━━━━━━━━━━━━━━━━━━\u001b[0m \u001b[32m442.0/442.0 kB\u001b[0m \u001b[31m30.3 MB/s\u001b[0m eta \u001b[36m0:00:00\u001b[0m\n",
            "\u001b[?25hDownloading tinyhtml5-2.0.0-py3-none-any.whl (39 kB)\n",
            "Downloading wrapt-1.14.1-cp311-cp311-manylinux_2_5_x86_64.manylinux1_x86_64.manylinux_2_17_x86_64.manylinux2014_x86_64.whl (78 kB)\n",
            "\u001b[2K   \u001b[90m━━━━━━━━━━━━━━━━━━━━━━━━━━━━━━━━━━━━━━━━\u001b[0m \u001b[32m78.4/78.4 kB\u001b[0m \u001b[31m7.0 MB/s\u001b[0m eta \u001b[36m0:00:00\u001b[0m\n",
            "\u001b[?25hDownloading Brotli-1.1.0-cp311-cp311-manylinux_2_17_x86_64.manylinux2014_x86_64.whl (2.9 MB)\n",
            "\u001b[2K   \u001b[90m━━━━━━━━━━━━━━━━━━━━━━━━━━━━━━━━━━━━━━━━\u001b[0m \u001b[32m2.9/2.9 MB\u001b[0m \u001b[31m64.0 MB/s\u001b[0m eta \u001b[36m0:00:00\u001b[0m\n",
            "\u001b[?25hDownloading zopfli-0.2.3.post1-cp311-cp311-manylinux_2_17_x86_64.manylinux2014_x86_64.whl (850 kB)\n",
            "\u001b[2K   \u001b[90m━━━━━━━━━━━━━━━━━━━━━━━━━━━━━━━━━━━━━━━━\u001b[0m \u001b[32m850.6/850.6 kB\u001b[0m \u001b[31m42.3 MB/s\u001b[0m eta \u001b[36m0:00:00\u001b[0m\n",
            "\u001b[?25hBuilding wheels for collected packages: langdetect\n",
            "  Building wheel for langdetect (setup.py) ... \u001b[?25l\u001b[?25hdone\n",
            "  Created wheel for langdetect: filename=langdetect-1.0.9-py3-none-any.whl size=993223 sha256=d9e2a2cf81379f77a6ab6bc9050fa9b9d2987e1c77c8f1f86902e94985ae74f7\n",
            "  Stored in directory: /root/.cache/pip/wheels/0a/f2/b2/e5ca405801e05eb7c8ed5b3b4bcf1fcabcd6272c167640072e\n",
            "Successfully built langdetect\n",
            "Installing collected packages: pyclipper, brotli, zopfli, wrapt, unidecode, tinyhtml5, tensorflow-estimator, rapidfuzz, Pyphen, pypdfium2, pydyf, protobuf, numpy, langdetect, keras, onnx, ml-dtypes, cssselect2, weasyprint, tf2onnx, tensorboard, mplcursors, tensorflow, python-doctr\n",
            "  Attempting uninstall: wrapt\n",
            "    Found existing installation: wrapt 1.17.2\n",
            "    Uninstalling wrapt-1.17.2:\n",
            "      Successfully uninstalled wrapt-1.17.2\n",
            "  Attempting uninstall: protobuf\n",
            "    Found existing installation: protobuf 5.29.4\n",
            "    Uninstalling protobuf-5.29.4:\n",
            "      Successfully uninstalled protobuf-5.29.4\n",
            "  Attempting uninstall: numpy\n",
            "    Found existing installation: numpy 2.0.2\n",
            "    Uninstalling numpy-2.0.2:\n",
            "      Successfully uninstalled numpy-2.0.2\n",
            "  Attempting uninstall: keras\n",
            "    Found existing installation: keras 3.8.0\n",
            "    Uninstalling keras-3.8.0:\n",
            "      Successfully uninstalled keras-3.8.0\n",
            "  Attempting uninstall: ml-dtypes\n",
            "    Found existing installation: ml-dtypes 0.4.1\n",
            "    Uninstalling ml-dtypes-0.4.1:\n",
            "      Successfully uninstalled ml-dtypes-0.4.1\n",
            "  Attempting uninstall: tensorboard\n",
            "    Found existing installation: tensorboard 2.18.0\n",
            "    Uninstalling tensorboard-2.18.0:\n",
            "      Successfully uninstalled tensorboard-2.18.0\n",
            "  Attempting uninstall: tensorflow\n",
            "    Found existing installation: tensorflow 2.18.0\n",
            "    Uninstalling tensorflow-2.18.0:\n",
            "      Successfully uninstalled tensorflow-2.18.0\n",
            "\u001b[31mERROR: pip's dependency resolver does not currently take into account all the packages that are installed. This behaviour is the source of the following dependency conflicts.\n",
            "tensorflow-decision-forests 1.11.0 requires tensorflow==2.18.0, but you have tensorflow 2.15.1 which is incompatible.\n",
            "tf-keras 2.18.0 requires tensorflow<2.19,>=2.18, but you have tensorflow 2.15.1 which is incompatible.\n",
            "ydf 0.11.0 requires protobuf<6.0.0,>=5.29.1, but you have protobuf 3.20.3 which is incompatible.\n",
            "tensorflow-metadata 1.17.1 requires protobuf<6.0.0,>=4.25.2; python_version >= \"3.11\", but you have protobuf 3.20.3 which is incompatible.\n",
            "tensorflow-text 2.18.1 requires tensorflow<2.19,>=2.18.0, but you have tensorflow 2.15.1 which is incompatible.\n",
            "grpcio-status 1.71.0 requires protobuf<6.0dev,>=5.26.1, but you have protobuf 3.20.3 which is incompatible.\n",
            "jax 0.5.2 requires ml_dtypes>=0.4.0, but you have ml-dtypes 0.3.2 which is incompatible.\n",
            "yfinance 0.2.59 requires protobuf<6,>=5.29.0, but you have protobuf 3.20.3 which is incompatible.\n",
            "thinc 8.3.6 requires numpy<3.0.0,>=2.0.0, but you have numpy 1.26.4 which is incompatible.\u001b[0m\u001b[31m\n",
            "\u001b[0mSuccessfully installed Pyphen-0.17.2 brotli-1.1.0 cssselect2-0.8.0 keras-2.15.0 langdetect-1.0.9 ml-dtypes-0.3.2 mplcursors-0.6 numpy-1.26.4 onnx-1.17.0 protobuf-3.20.3 pyclipper-1.3.0.post6 pydyf-0.11.0 pypdfium2-4.30.1 python-doctr-0.8.0 rapidfuzz-3.13.0 tensorboard-2.15.2 tensorflow-2.15.1 tensorflow-estimator-2.15.0 tf2onnx-1.16.1 tinyhtml5-2.0.0 unidecode-1.4.0 weasyprint-65.1 wrapt-1.14.1 zopfli-0.2.3.post1\n"
          ]
        },
        {
          "output_type": "display_data",
          "data": {
            "application/vnd.colab-display-data+json": {
              "pip_warning": {
                "packages": [
                  "google"
                ]
              },
              "id": "e6f18ee9b66d4d88b9288223401f20b5"
            }
          },
          "metadata": {}
        }
      ]
    },
    {
      "cell_type": "code",
      "source": [
        "import doctr\n",
        "print(doctr.__version__)"
      ],
      "metadata": {
        "colab": {
          "base_uri": "https://localhost:8080/"
        },
        "id": "HBlpeY5xPpDN",
        "outputId": "883f69df-721d-4f7d-eae7-3bcf5543a614"
      },
      "execution_count": 1,
      "outputs": [
        {
          "output_type": "stream",
          "name": "stdout",
          "text": [
            "v0.8.0\n"
          ]
        }
      ]
    },
    {
      "cell_type": "code",
      "source": [
        "\n",
        "# This creates a TensorFlow model\n",
        "from doctr.models.recognition.parseq.tensorflow import parseq\n",
        "model = parseq(pretrained=True)"
      ],
      "metadata": {
        "id": "1bh1UpuoIbIj",
        "colab": {
          "base_uri": "https://localhost:8080/",
          "height": 67,
          "referenced_widgets": [
            "114619a54e764031b830274eb3ebd2f5",
            "921ca5c137b04a7aac5654c8fa68c093",
            "c6be4191144a41d9857a57f3923a71dc",
            "18c53acc93fc4eeba4851d5d105593eb",
            "b23ce7fdb387471395fdfbc044a41d3c",
            "507dd23913364c02bf490349b740d13e",
            "98240a7d0bc84a16b58dd9f5f078e7c6",
            "e6095b85dc294626a90a3c565e744940",
            "07a99cc2bd3f4a5aa089ea5dcb1c951f",
            "f6317ff5877746d2a4f6cc13187b2e52",
            "59ad96971f59428caf0df636781cfa9b"
          ]
        },
        "outputId": "f16b69c9-4a32-41c7-8922-4e63008945df"
      },
      "execution_count": 2,
      "outputs": [
        {
          "output_type": "stream",
          "name": "stdout",
          "text": [
            "Downloading https://doctr-static.mindee.com/models?id=v0.6.0/parseq-24cf693e.zip&src=0 to /root/.cache/doctr/models/parseq-24cf693e.zip\n"
          ]
        },
        {
          "output_type": "display_data",
          "data": {
            "text/plain": [
              "  0%|          | 0/87753821 [00:00<?, ?it/s]"
            ],
            "application/vnd.jupyter.widget-view+json": {
              "version_major": 2,
              "version_minor": 0,
              "model_id": "114619a54e764031b830274eb3ebd2f5"
            }
          },
          "metadata": {}
        }
      ]
    },
    {
      "cell_type": "code",
      "source": [
        "model.__class__"
      ],
      "metadata": {
        "colab": {
          "base_uri": "https://localhost:8080/",
          "height": 187
        },
        "id": "DGVkryJcSZ7q",
        "outputId": "368fedd3-daa4-41e7-e272-635647a91fc8"
      },
      "execution_count": 9,
      "outputs": [
        {
          "output_type": "execute_result",
          "data": {
            "text/plain": [
              "doctr.models.recognition.parseq.tensorflow.PARSeq"
            ],
            "text/html": [
              "<div style=\"max-width:800px; border: 1px solid var(--colab-border-color);\"><style>\n",
              "      pre.function-repr-contents {\n",
              "        overflow-x: auto;\n",
              "        padding: 8px 12px;\n",
              "        max-height: 500px;\n",
              "      }\n",
              "\n",
              "      pre.function-repr-contents.function-repr-contents-collapsed {\n",
              "        cursor: pointer;\n",
              "        max-height: 100px;\n",
              "      }\n",
              "    </style>\n",
              "    <pre style=\"white-space: initial; background:\n",
              "         var(--colab-secondary-surface-color); padding: 8px 12px;\n",
              "         border-bottom: 1px solid var(--colab-border-color);\"><b>doctr.models.recognition.parseq.tensorflow.PARSeq</b><br/>def error_handler(*args, **kwargs)</pre><pre class=\"function-repr-contents function-repr-contents-collapsed\" style=\"\"><a class=\"filepath\" style=\"display:none\" href=\"#\">/usr/local/lib/python3.11/dist-packages/doctr/models/recognition/parseq/tensorflow.py</a>Implements a PARSeq architecture as described in `&quot;Scene Text Recognition\n",
              "with Permuted Autoregressive Sequence Models&quot; &lt;https://arxiv.org/pdf/2207.06966&gt;`_.\n",
              "Modified implementation based on the official Pytorch implementation: &lt;https://github.com/baudm/parseq/tree/main`_.\n",
              "\n",
              "Args:\n",
              "----\n",
              "    feature_extractor: the backbone serving as feature extractor\n",
              "    vocab: vocabulary used for encoding\n",
              "    embedding_units: number of embedding units\n",
              "    max_length: maximum word length handled by the model\n",
              "    dropout_prob: dropout probability for the decoder\n",
              "    dec_num_heads: number of attention heads in the decoder\n",
              "    dec_ff_dim: dimension of the feed forward layer in the decoder\n",
              "    dec_ffd_ratio: depth multiplier for the feed forward layer in the decoder\n",
              "    input_shape: input shape of the image\n",
              "    exportable: onnx exportable returns only logits\n",
              "    cfg: dictionary containing information about the model</pre>\n",
              "      <script>\n",
              "      if (google.colab.kernel.accessAllowed && google.colab.files && google.colab.files.view) {\n",
              "        for (const element of document.querySelectorAll('.filepath')) {\n",
              "          element.style.display = 'block'\n",
              "          element.onclick = (event) => {\n",
              "            event.preventDefault();\n",
              "            event.stopPropagation();\n",
              "            google.colab.files.view(element.textContent, 112);\n",
              "          };\n",
              "        }\n",
              "      }\n",
              "      for (const element of document.querySelectorAll('.function-repr-contents')) {\n",
              "        element.onclick = (event) => {\n",
              "          event.preventDefault();\n",
              "          event.stopPropagation();\n",
              "          element.classList.toggle('function-repr-contents-collapsed');\n",
              "        };\n",
              "      }\n",
              "      </script>\n",
              "      </div>"
            ]
          },
          "metadata": {},
          "execution_count": 9
        }
      ]
    },
    {
      "cell_type": "code",
      "source": [
        "import cv2\n",
        "import numpy as np\n",
        "import tensorflow as tf\n",
        "from doctr.models.recognition.parseq.tensorflow import parseq\n",
        "from doctr.transforms.functional import resize, normalize\n",
        "\n",
        "# 1. Load the TF-PARSeq model (docTR v0.8.0)\n",
        "model = parseq(pretrained=True)\n",
        "\n",
        "# 2. Prepare a list of cropped word images\n",
        "imgs = [cv2.cvtColor(cv2.imread(path), cv2.COLOR_BGR2RGB) for path in ['/content/21320019885_278_old_meter_final_kwh_evidence.png', '/content/22510058722_544_old_meter_final_kwh_evidence.png']]\n",
        "\n",
        "# 3. Preprocess: resize to 32×128 px and normalize\n",
        "processed = [normalize(resize(img, size=(32, 128))) for img in imgs]\n",
        "\n",
        "# 4. Stack into a batch tensor of shape (batch_size, 32, 128, 3)\n",
        "batch = tf.stack([tf.convert_to_tensor(inp, dtype=tf.float32) for inp in processed], axis=0)\n",
        "\n",
        "# 5. Run inference to get raw logits\n",
        "logits = model(batch, training=False)\n",
        "\n",
        "# 6. Decode: softmax + argmax to get token IDs\n",
        "probs = tf.nn.softmax(logits, axis=-1)\n",
        "token_ids = tf.argmax(probs, axis=-1).numpy()\n",
        "\n",
        "# 7. Map token IDs → characters using the model’s vocabulary\n",
        "vocab = model.cfg['vocab']       # List of characters\n",
        "eos_idx = model.cfg['eos_token'] # Index of EOS token\n",
        "decoded = []\n",
        "for seq in token_ids:\n",
        "    chars = []\n",
        "    for idx in seq:\n",
        "        if idx == eos_idx:\n",
        "            break\n",
        "        if idx < len(vocab):\n",
        "            chars.append(vocab[idx])\n",
        "    decoded.append(''.join(chars))\n",
        "\n",
        "print(decoded)  # List of recognized strings per image\n"
      ],
      "metadata": {
        "colab": {
          "base_uri": "https://localhost:8080/",
          "height": 411
        },
        "id": "CrbNL7WhZKgy",
        "outputId": "1780ef72-9686-4d34-9c4a-8d215a91eda7"
      },
      "execution_count": 10,
      "outputs": [
        {
          "output_type": "error",
          "ename": "ImportError",
          "evalue": "cannot import name 'resize' from 'doctr.transforms.functional' (/usr/local/lib/python3.11/dist-packages/doctr/transforms/functional/__init__.py)",
          "traceback": [
            "\u001b[0;31m---------------------------------------------------------------------------\u001b[0m",
            "\u001b[0;31mImportError\u001b[0m                               Traceback (most recent call last)",
            "\u001b[0;32m<ipython-input-10-27dbcc81bb16>\u001b[0m in \u001b[0;36m<cell line: 0>\u001b[0;34m()\u001b[0m\n\u001b[1;32m      3\u001b[0m \u001b[0;32mimport\u001b[0m \u001b[0mtensorflow\u001b[0m \u001b[0;32mas\u001b[0m \u001b[0mtf\u001b[0m\u001b[0;34m\u001b[0m\u001b[0;34m\u001b[0m\u001b[0m\n\u001b[1;32m      4\u001b[0m \u001b[0;32mfrom\u001b[0m \u001b[0mdoctr\u001b[0m\u001b[0;34m.\u001b[0m\u001b[0mmodels\u001b[0m\u001b[0;34m.\u001b[0m\u001b[0mrecognition\u001b[0m\u001b[0;34m.\u001b[0m\u001b[0mparseq\u001b[0m\u001b[0;34m.\u001b[0m\u001b[0mtensorflow\u001b[0m \u001b[0;32mimport\u001b[0m \u001b[0mparseq\u001b[0m\u001b[0;34m\u001b[0m\u001b[0;34m\u001b[0m\u001b[0m\n\u001b[0;32m----> 5\u001b[0;31m \u001b[0;32mfrom\u001b[0m \u001b[0mdoctr\u001b[0m\u001b[0;34m.\u001b[0m\u001b[0mtransforms\u001b[0m\u001b[0;34m.\u001b[0m\u001b[0mfunctional\u001b[0m \u001b[0;32mimport\u001b[0m \u001b[0mresize\u001b[0m\u001b[0;34m,\u001b[0m \u001b[0mnormalize\u001b[0m\u001b[0;34m\u001b[0m\u001b[0;34m\u001b[0m\u001b[0m\n\u001b[0m\u001b[1;32m      6\u001b[0m \u001b[0;34m\u001b[0m\u001b[0m\n\u001b[1;32m      7\u001b[0m \u001b[0;31m# 1. Load the TF-PARSeq model (docTR v0.8.0)\u001b[0m\u001b[0;34m\u001b[0m\u001b[0;34m\u001b[0m\u001b[0m\n",
            "\u001b[0;31mImportError\u001b[0m: cannot import name 'resize' from 'doctr.transforms.functional' (/usr/local/lib/python3.11/dist-packages/doctr/transforms/functional/__init__.py)",
            "",
            "\u001b[0;31m---------------------------------------------------------------------------\u001b[0;32m\nNOTE: If your import is failing due to a missing package, you can\nmanually install dependencies using either !pip or !apt.\n\nTo view examples of installing some common dependencies, click the\n\"Open Examples\" button below.\n\u001b[0;31m---------------------------------------------------------------------------\u001b[0m\n"
          ],
          "errorDetails": {
            "actions": [
              {
                "action": "open_url",
                "actionText": "Open Examples",
                "url": "/notebooks/snippets/importing_libraries.ipynb"
              }
            ]
          }
        }
      ]
    },
    {
      "cell_type": "code",
      "source": [
        "model.cfg"
      ],
      "metadata": {
        "colab": {
          "base_uri": "https://localhost:8080/"
        },
        "id": "5p_xHCcnaYmQ",
        "outputId": "5501b0db-4ada-4aa6-ef3e-2e87f8f311a3"
      },
      "execution_count": 14,
      "outputs": [
        {
          "output_type": "execute_result",
          "data": {
            "text/plain": [
              "{'mean': (0.694, 0.695, 0.693),\n",
              " 'std': (0.299, 0.296, 0.301),\n",
              " 'input_shape': (32, 128, 3),\n",
              " 'vocab': '0123456789abcdefghijklmnopqrstuvwxyzABCDEFGHIJKLMNOPQRSTUVWXYZ!\"#$%&\\'()*+,-./:;<=>?@[\\\\]^_`{|}~°£€¥¢฿àâéèêëîïôùûüçÀÂÉÈÊËÎÏÔÙÛÜÇ',\n",
              " 'url': 'https://doctr-static.mindee.com/models?id=v0.6.0/parseq-24cf693e.zip&src=0'}"
            ]
          },
          "metadata": {},
          "execution_count": 14
        }
      ]
    },
    {
      "cell_type": "code",
      "source": [
        "from doctr.models import recognition_predictor\n",
        "\n",
        "# Load TF PARSeq-only predictor\n",
        "predictor = recognition_predictor('parseq', pretrained=True)"
      ],
      "metadata": {
        "id": "RBo35v1Abukj"
      },
      "execution_count": 17,
      "outputs": []
    },
    {
      "cell_type": "code",
      "source": [
        "import cv2\n",
        "\n",
        "# Read and convert a crop (BGR→RGB)\n",
        "img = cv2.cvtColor(cv2.imread('/content/22510058722_544_old_meter_final_kwh_evidence.png'), cv2.COLOR_BGR2RGB)\n",
        "\n",
        "# Inference on a single crop\n",
        "predictions = predictor([img])\n"
      ],
      "metadata": {
        "id": "3IZ83iL7cX47"
      },
      "execution_count": 20,
      "outputs": []
    },
    {
      "cell_type": "code",
      "source": [
        "predictions"
      ],
      "metadata": {
        "colab": {
          "base_uri": "https://localhost:8080/"
        },
        "id": "ObVAu_STcgqE",
        "outputId": "5d49da43-a808-4495-ea12-2af8cad77c52"
      },
      "execution_count": 21,
      "outputs": [
        {
          "output_type": "execute_result",
          "data": {
            "text/plain": [
              "[('00.023', 0.8198116421699524)]"
            ]
          },
          "metadata": {},
          "execution_count": 21
        }
      ]
    },
    {
      "cell_type": "code",
      "source": [
        "# e.g. a dummy image tensor of shape [1, 3, H, W]\n",
        "import torch\n",
        "example = torch.randn(1, 3, 32, 128)"
      ],
      "metadata": {
        "id": "j8CE1wdPctpn"
      },
      "execution_count": 23,
      "outputs": []
    },
    {
      "cell_type": "markdown",
      "source": [
        "# Torch to ONNX - Failed"
      ],
      "metadata": {
        "id": "Jlbmq_UIxBRU"
      }
    },
    {
      "cell_type": "code",
      "source": [
        "!git clone https://github.com/baudm/parseq.git\n",
        "# !pip install -r parseq/requirements/core.txt\n",
        "!pip install -e parseq/"
      ],
      "metadata": {
        "colab": {
          "base_uri": "https://localhost:8080/"
        },
        "id": "pLACCoJ_xDq1",
        "outputId": "5d42f41e-6295-44ae-b62a-79eb9e711a10"
      },
      "execution_count": 1,
      "outputs": [
        {
          "output_type": "stream",
          "name": "stdout",
          "text": [
            "Cloning into 'parseq'...\n",
            "remote: Enumerating objects: 612, done.\u001b[K\n",
            "remote: Counting objects: 100% (311/311), done.\u001b[K\n",
            "remote: Compressing objects: 100% (118/118), done.\u001b[K\n",
            "remote: Total 612 (delta 241), reused 193 (delta 193), pack-reused 301 (from 2)\u001b[K\n",
            "Receiving objects: 100% (612/612), 1.34 MiB | 6.08 MiB/s, done.\n",
            "Resolving deltas: 100% (343/343), done.\n",
            "Obtaining file:///content/parseq\n",
            "  Installing build dependencies ... \u001b[?25l\u001b[?25hdone\n",
            "  Checking if build backend supports build_editable ... \u001b[?25l\u001b[?25hdone\n",
            "  Getting requirements to build editable ... \u001b[?25l\u001b[?25hdone\n",
            "  Preparing editable metadata (pyproject.toml) ... \u001b[?25l\u001b[?25hdone\n",
            "Building wheels for collected packages: strhub\n",
            "  Building editable for strhub (pyproject.toml) ... \u001b[?25l\u001b[?25hdone\n",
            "  Created wheel for strhub: filename=strhub-1.2.0-0.editable-py3-none-any.whl size=17093 sha256=1e0dfb4d480213c3bef23681b00a15012bd4bed68157c82a1630201b069839f2\n",
            "  Stored in directory: /tmp/pip-ephem-wheel-cache-dv8tjdqq/wheels/81/19/76/37967e8554a579fd80aaee8b99a0ae0349205b8eae49b433e6\n",
            "Successfully built strhub\n",
            "Installing collected packages: strhub\n",
            "Successfully installed strhub-1.2.0\n"
          ]
        }
      ]
    },
    {
      "cell_type": "code",
      "source": [
        "!pip install pytorch-lightning==2.2.0.post0\n",
        "!pip install lightning-utilities==0.10.1\n",
        "!pip install onnx"
      ],
      "metadata": {
        "id": "ccsOdiFsxuAF"
      },
      "execution_count": null,
      "outputs": []
    },
    {
      "cell_type": "code",
      "source": [
        "from strhub.models.utils import load_from_checkpoint\n",
        "import torch\n",
        "\n",
        "device = torch.device('cpu')\n",
        "\n",
        "# To ONNX\n",
        "onnx_path = \"parseq_test.onnx\"\n",
        "img = torch.randn(1, 3, 32, 128)\n",
        "\n",
        "# parseq = load_from_checkpoint(ckpt_path)\n",
        "parseq = torch.hub.load('baudm/parseq', 'parseq', pretrained=True).eval()\n",
        "parseq.refine_iters = 0\n",
        "parseq.decode_ar = False\n",
        "parseq = parseq.to(device).eval()\n",
        "\n",
        "parseq.to_onnx(onnx_path, img, do_constant_folding=True, opset_version=14)  # opset v14 or newer is required\n"
      ],
      "metadata": {
        "colab": {
          "base_uri": "https://localhost:8080/"
        },
        "id": "xts8bsqmd3j3",
        "outputId": "56d8aeb7-5ec8-473c-e352-d02f2ad6f095"
      },
      "execution_count": 1,
      "outputs": [
        {
          "output_type": "stream",
          "name": "stderr",
          "text": [
            "Using cache found in /root/.cache/torch/hub/baudm_parseq_main\n",
            "/usr/local/lib/python3.11/dist-packages/timm/models/helpers.py:7: FutureWarning: Importing from timm.models.helpers is deprecated, please import via timm.models\n",
            "  warnings.warn(f\"Importing from {__name__} is deprecated, please import via timm.models\", FutureWarning)\n",
            "/usr/local/lib/python3.11/dist-packages/torch/__init__.py:2132: TracerWarning: Converting a tensor to a Python boolean might cause the trace to be incorrect. We can't record the data flow of Python values, so this value will be treated as a constant in the future. This means that the trace might not generalize to other inputs!\n",
            "  assert condition, message\n",
            "/content/parseq/strhub/models/parseq/model.py:144: TracerWarning: Converting a tensor to a Python boolean might cause the trace to be incorrect. We can't record the data flow of Python values, so this value will be treated as a constant in the future. This means that the trace might not generalize to other inputs!\n",
            "  if testing and (tgt_in == tokenizer.eos_id).any(dim=-1).all():\n"
          ]
        }
      ]
    },
    {
      "cell_type": "code",
      "source": [
        "import onnx\n",
        "onnx_model = onnx.load(onnx_path)\n",
        "onnx.checker.check_model(onnx_model, full_check=True)"
      ],
      "metadata": {
        "id": "2irz95E7y8fZ"
      },
      "execution_count": 7,
      "outputs": []
    },
    {
      "cell_type": "code",
      "source": [
        "# !pip install onnx2tf\n",
        "# !pip install onnx-graphsurgeon\n",
        "# !pip install ai-edge-litert\n",
        "# !pip install sng4onnx"
      ],
      "metadata": {
        "colab": {
          "base_uri": "https://localhost:8080/"
        },
        "id": "nwQxz7of_utC",
        "outputId": "49caa284-8f84-47a4-c02d-236f1af30397"
      },
      "execution_count": 10,
      "outputs": [
        {
          "output_type": "stream",
          "name": "stdout",
          "text": [
            "Requirement already satisfied: onnx2tf in /usr/local/lib/python3.11/dist-packages (1.27.4)\n",
            "Requirement already satisfied: onnx-graphsurgeon in /usr/local/lib/python3.11/dist-packages (0.5.8)\n",
            "Requirement already satisfied: numpy in /usr/local/lib/python3.11/dist-packages (from onnx-graphsurgeon) (1.26.4)\n",
            "Requirement already satisfied: onnx>=1.14.0 in /usr/local/lib/python3.11/dist-packages (from onnx-graphsurgeon) (1.17.0)\n",
            "Requirement already satisfied: protobuf>=3.20.2 in /usr/local/lib/python3.11/dist-packages (from onnx>=1.14.0->onnx-graphsurgeon) (4.25.7)\n",
            "Requirement already satisfied: ai-edge-litert in /usr/local/lib/python3.11/dist-packages (1.2.0)\n",
            "Requirement already satisfied: flatbuffers in /usr/local/lib/python3.11/dist-packages (from ai-edge-litert) (25.2.10)\n",
            "Requirement already satisfied: numpy>=1.23.2 in /usr/local/lib/python3.11/dist-packages (from ai-edge-litert) (1.26.4)\n",
            "Collecting sng4onnx\n",
            "  Downloading sng4onnx-1.0.4-py3-none-any.whl.metadata (4.6 kB)\n",
            "Downloading sng4onnx-1.0.4-py3-none-any.whl (5.9 kB)\n",
            "Installing collected packages: sng4onnx\n",
            "Successfully installed sng4onnx-1.0.4\n"
          ]
        }
      ]
    },
    {
      "cell_type": "code",
      "source": [
        "!pip install onnx==1.17.0\n",
        "!pip install onnxruntime==1.18.1\n",
        "!pip install onnx-simplifier==0.4.33 #or 0.4.30 (onnx.onnx_cpp2py_export.shape_inference.InferenceError: [ShapeInferenceError] (op_type:Slice, node name: /xxxx/Slice): [ShapeInferenceError] Inferred shape and existing shape differ in rank: (x) vs (y))\n",
        "!pip install onnx_graphsurgeon\n",
        "!pip install simple_onnx_processing_tools\n",
        "!pip install tensorflow==2.19.0 # , Special bugs: #436\n",
        "!pip install tf-keras==2.19.0\n",
        "!pip install ai-edge-litert==1.2.0\n",
        "!pip install psutil==5.9.5\n",
        "!pip install ml_dtypes==0.5.1\n",
        "# flatbuffers-compiler (Optional, Only when using the -coion option. Executable file named flatc.)\n",
        "!pip install flatbuffers>=23.1.21"
      ],
      "metadata": {
        "id": "RN6IVkWwBOQg"
      },
      "execution_count": null,
      "outputs": []
    },
    {
      "cell_type": "code",
      "source": [
        "!onnx2tf -i parseq_test.onnx -o saved_model \\\n",
        "  -prf replace.json \\\n",
        "  -b 1\n"
      ],
      "metadata": {
        "id": "5dScV2gsFWzq"
      },
      "execution_count": null,
      "outputs": []
    },
    {
      "cell_type": "code",
      "source": [
        "!git clone https://github.com/PINTO0309/onnx2tf.git\n",
        "\n"
      ],
      "metadata": {
        "colab": {
          "base_uri": "https://localhost:8080/"
        },
        "id": "_HMnyhWnH4BH",
        "outputId": "f00547b6-408e-4ef2-837b-de57d6641f72"
      },
      "execution_count": 6,
      "outputs": [
        {
          "output_type": "stream",
          "name": "stdout",
          "text": [
            "Cloning into 'onnx2tf'...\n",
            "remote: Enumerating objects: 12431, done.\u001b[K\n",
            "remote: Counting objects: 100% (127/127), done.\u001b[K\n",
            "remote: Compressing objects: 100% (66/66), done.\u001b[K\n",
            "remote: Total 12431 (delta 80), reused 75 (delta 61), pack-reused 12304 (from 3)\u001b[K\n",
            "Receiving objects: 100% (12431/12431), 3.96 MiB | 7.99 MiB/s, done.\n",
            "Resolving deltas: 100% (9113/9113), done.\n"
          ]
        }
      ]
    },
    {
      "cell_type": "code",
      "source": [
        "%cd onnx2tf\n",
        "# pip install -e ."
      ],
      "metadata": {
        "colab": {
          "base_uri": "https://localhost:8080/"
        },
        "id": "i9CyVWy2H738",
        "outputId": "1b79142e-d672-4563-ca97-a25355b7e0f5"
      },
      "execution_count": 7,
      "outputs": [
        {
          "output_type": "stream",
          "name": "stdout",
          "text": [
            "/content/onnx2tf\n"
          ]
        }
      ]
    },
    {
      "cell_type": "code",
      "source": [
        "!pip install -e ."
      ],
      "metadata": {
        "colab": {
          "base_uri": "https://localhost:8080/"
        },
        "id": "h2sDny12H-XH",
        "outputId": "6184ff08-558c-4b4c-dc55-465bfe2a6f26"
      },
      "execution_count": 8,
      "outputs": [
        {
          "output_type": "stream",
          "name": "stdout",
          "text": [
            "Obtaining file:///content/onnx2tf\n",
            "  Preparing metadata (setup.py) ... \u001b[?25l\u001b[?25hdone\n",
            "Installing collected packages: onnx2tf\n",
            "  Attempting uninstall: onnx2tf\n",
            "    Found existing installation: onnx2tf 1.27.4\n",
            "    Uninstalling onnx2tf-1.27.4:\n",
            "      Successfully uninstalled onnx2tf-1.27.4\n",
            "  Running setup.py develop for onnx2tf\n",
            "Successfully installed onnx2tf-1.27.4\n"
          ]
        }
      ]
    },
    {
      "cell_type": "code",
      "source": [
        "!cp /content/parseq_test.onnx /content/drive/MyDrive/OCR"
      ],
      "metadata": {
        "id": "G3-clfLULI0H"
      },
      "execution_count": 15,
      "outputs": []
    },
    {
      "cell_type": "code",
      "source": [
        "\n",
        "!onnx2tf -i ../parseq_test.onnx -o parseq_tf_saved_model\n"
      ],
      "metadata": {
        "colab": {
          "base_uri": "https://localhost:8080/"
        },
        "id": "flv-BYaOKf24",
        "outputId": "de1ac906-76e9-42d7-fba2-83cc79e37944"
      },
      "execution_count": 11,
      "outputs": [
        {
          "output_type": "stream",
          "name": "stdout",
          "text": [
            "WARNING: All log messages before absl::InitializeLog() is called are written to STDERR\n",
            "E0000 00:00:1747299523.556079   28348 cuda_dnn.cc:8579] Unable to register cuDNN factory: Attempting to register factory for plugin cuDNN when one has already been registered\n",
            "E0000 00:00:1747299523.563652   28348 cuda_blas.cc:1407] Unable to register cuBLAS factory: Attempting to register factory for plugin cuBLAS when one has already been registered\n",
            "W0000 00:00:1747299523.584424   28348 computation_placer.cc:177] computation placer already registered. Please check linkage and avoid linking the same target more than once.\n",
            "W0000 00:00:1747299523.584481   28348 computation_placer.cc:177] computation placer already registered. Please check linkage and avoid linking the same target more than once.\n",
            "W0000 00:00:1747299523.584487   28348 computation_placer.cc:177] computation placer already registered. Please check linkage and avoid linking the same target more than once.\n",
            "W0000 00:00:1747299523.584493   28348 computation_placer.cc:177] computation placer already registered. Please check linkage and avoid linking the same target more than once.\n",
            "\n",
            "\u001b[07mModel optimizing started\u001b[0m ============================================================\n",
            "Traceback (most recent call last):\n",
            "  File \"/content/onnx2tf/onnx2tf/onnx2tf.py\", line 652, in convert\n",
            "    result = subprocess.check_output(\n",
            "             ^^^^^^^^^^^^^^^^^^^^^^^^\n",
            "  File \"/usr/lib/python3.11/subprocess.py\", line 466, in check_output\n",
            "    return run(*popenargs, stdout=PIPE, timeout=timeout, check=True,\n",
            "           ^^^^^^^^^^^^^^^^^^^^^^^^^^^^^^^^^^^^^^^^^^^^^^^^^^^^^^^^^\n",
            "  File \"/usr/lib/python3.11/subprocess.py\", line 571, in run\n",
            "    raise CalledProcessError(retcode, process.args,\n",
            "subprocess.CalledProcessError: Command '['onnxsim', '../parseq_test.onnx', '../parseq_test.onnx']' returned non-zero exit status 1.\n",
            "\n",
            "\u001b[33mWARNING:\u001b[0m Failed to optimize the onnx file.\n",
            "\n",
            "\u001b[07mAutomatic generation of each OP name started\u001b[0m ========================================\n",
            "\u001b[32mAutomatic generation of each OP name complete!\u001b[0m\n",
            "\n",
            "\u001b[07mModel loaded\u001b[0m ========================================================================\n",
            "\n",
            "\u001b[07mModel conversion started\u001b[0m ============================================================\n",
            "\u001b[32mINFO:\u001b[0m \u001b[32minput_op_name\u001b[0m: images \u001b[32mshape\u001b[0m: [1, 3, 32, 128] \u001b[32mdtype\u001b[0m: float32\n",
            "\u001b[0;93m2025-05-15 08:59:05.197169848 [W:onnxruntime:, constant_folding.cc:269 ApplyImpl] Could not find a CPU kernel and hence can't constant fold Trilu node 'wa/Trilu'\u001b[m\n",
            "\u001b[0;93m2025-05-15 08:59:05.407444154 [W:onnxruntime:, constant_folding.cc:269 ApplyImpl] Could not find a CPU kernel and hence can't constant fold Trilu node 'wa/Trilu'\u001b[m\n",
            "\u001b[33mWARNING:\u001b[0m The optimization process for shape estimation is skipped because it contains OPs that cannot be inferred by the standard onnxruntime.\n",
            "\u001b[33mWARNING:\u001b[0m [ONNXRuntimeError] : 9 : NOT_IMPLEMENTED : Could not find an implementation for Trilu(14) node with name 'wa/Trilu'\n",
            "\n",
            "\u001b[32mINFO:\u001b[0m \u001b[32m2 / 3306\u001b[0m\n",
            "\u001b[32mINFO:\u001b[0m \u001b[35monnx_op_type\u001b[0m: Identity\u001b[35m onnx_op_name\u001b[0m: Identity_997\n",
            "\u001b[32mINFO:\u001b[0m \u001b[36m input_name.1\u001b[0m: onnx::MatMul_5624 \u001b[36mshape\u001b[0m: [384, 95] \u001b[36mdtype\u001b[0m: float32\n",
            "\u001b[32mINFO:\u001b[0m \u001b[36m output_name.1\u001b[0m: onnx____MatMul_6519 \u001b[36mshape\u001b[0m: [384, 95] \u001b[36mdtype\u001b[0m: float32\n",
            "\u001b[32mINFO:\u001b[0m \u001b[35mtf_op_type\u001b[0m: identity\n",
            "\u001b[32mINFO:\u001b[0m \u001b[34m input.1.input\u001b[0m: \u001b[34mshape\u001b[0m: (384, 95) \u001b[34mdtype\u001b[0m: float32 \n",
            "\u001b[32mINFO:\u001b[0m \u001b[34m output.1.output\u001b[0m: \u001b[34mshape\u001b[0m: (384, 95) \u001b[34mdtype\u001b[0m: <dtype: 'float32'> \n",
            "\n",
            "\u001b[32mINFO:\u001b[0m \u001b[32m3 / 3306\u001b[0m\n",
            "\u001b[32mINFO:\u001b[0m \u001b[35monnx_op_type\u001b[0m: Identity\u001b[35m onnx_op_name\u001b[0m: Identity_998\n",
            "\u001b[32mINFO:\u001b[0m \u001b[36m input_name.1\u001b[0m: onnx::MatMul_5623 \u001b[36mshape\u001b[0m: [1536, 384] \u001b[36mdtype\u001b[0m: float32\n",
            "\u001b[32mINFO:\u001b[0m \u001b[36m output_name.1\u001b[0m: onnx____MatMul_6518 \u001b[36mshape\u001b[0m: [1536, 384] \u001b[36mdtype\u001b[0m: float32\n",
            "\u001b[32mINFO:\u001b[0m \u001b[35mtf_op_type\u001b[0m: identity\n",
            "\u001b[32mINFO:\u001b[0m \u001b[34m input.1.input\u001b[0m: \u001b[34mshape\u001b[0m: (1536, 384) \u001b[34mdtype\u001b[0m: float32 \n",
            "\u001b[32mINFO:\u001b[0m \u001b[34m output.1.output\u001b[0m: \u001b[34mshape\u001b[0m: (1536, 384) \u001b[34mdtype\u001b[0m: <dtype: 'float32'> \n",
            "\n",
            "\u001b[32mINFO:\u001b[0m \u001b[32m4 / 3306\u001b[0m\n",
            "\u001b[32mINFO:\u001b[0m \u001b[35monnx_op_type\u001b[0m: Identity\u001b[35m onnx_op_name\u001b[0m: Identity_999\n",
            "\u001b[32mINFO:\u001b[0m \u001b[36m input_name.1\u001b[0m: onnx::MatMul_5622 \u001b[36mshape\u001b[0m: [384, 1536] \u001b[36mdtype\u001b[0m: float32\n",
            "\u001b[32mINFO:\u001b[0m \u001b[36m output_name.1\u001b[0m: onnx____MatMul_6517 \u001b[36mshape\u001b[0m: [384, 1536] \u001b[36mdtype\u001b[0m: float32\n",
            "\u001b[32mINFO:\u001b[0m \u001b[35mtf_op_type\u001b[0m: identity\n",
            "\u001b[32mINFO:\u001b[0m \u001b[34m input.1.input\u001b[0m: \u001b[34mshape\u001b[0m: (384, 1536) \u001b[34mdtype\u001b[0m: float32 \n",
            "\u001b[32mINFO:\u001b[0m \u001b[34m output.1.output\u001b[0m: \u001b[34mshape\u001b[0m: (384, 1536) \u001b[34mdtype\u001b[0m: <dtype: 'float32'> \n",
            "\n",
            "\u001b[32mINFO:\u001b[0m \u001b[32m5 / 3306\u001b[0m\n",
            "\u001b[32mINFO:\u001b[0m \u001b[35monnx_op_type\u001b[0m: Identity\u001b[35m onnx_op_name\u001b[0m: Identity_1000\n",
            "\u001b[32mINFO:\u001b[0m \u001b[36m input_name.1\u001b[0m: onnx::MatMul_5598 \u001b[36mshape\u001b[0m: [384, 768] \u001b[36mdtype\u001b[0m: float32\n",
            "\u001b[32mINFO:\u001b[0m \u001b[36m output_name.1\u001b[0m: onnx____MatMul_6493 \u001b[36mshape\u001b[0m: [384, 768] \u001b[36mdtype\u001b[0m: float32\n",
            "\u001b[32mINFO:\u001b[0m \u001b[35mtf_op_type\u001b[0m: identity\n",
            "\u001b[32mINFO:\u001b[0m \u001b[34m input.1.input\u001b[0m: \u001b[34mshape\u001b[0m: (384, 768) \u001b[34mdtype\u001b[0m: float32 \n",
            "\u001b[32mINFO:\u001b[0m \u001b[34m output.1.output\u001b[0m: \u001b[34mshape\u001b[0m: (384, 768) \u001b[34mdtype\u001b[0m: <dtype: 'float32'> \n",
            "\n",
            "\u001b[32mINFO:\u001b[0m \u001b[32m6 / 3306\u001b[0m\n",
            "\u001b[32mINFO:\u001b[0m \u001b[35monnx_op_type\u001b[0m: Identity\u001b[35m onnx_op_name\u001b[0m: Identity_1001\n",
            "\u001b[32mINFO:\u001b[0m \u001b[36m input_name.1\u001b[0m: onnx::MatMul_5597 \u001b[36mshape\u001b[0m: [384, 384] \u001b[36mdtype\u001b[0m: float32\n",
            "\u001b[32mINFO:\u001b[0m \u001b[36m output_name.1\u001b[0m: onnx____MatMul_6492 \u001b[36mshape\u001b[0m: [384, 384] \u001b[36mdtype\u001b[0m: float32\n",
            "\u001b[32mINFO:\u001b[0m \u001b[35mtf_op_type\u001b[0m: identity\n",
            "\u001b[32mINFO:\u001b[0m \u001b[34m input.1.input\u001b[0m: \u001b[34mshape\u001b[0m: (384, 384) \u001b[34mdtype\u001b[0m: float32 \n",
            "\u001b[32mINFO:\u001b[0m \u001b[34m output.1.output\u001b[0m: \u001b[34mshape\u001b[0m: (384, 384) \u001b[34mdtype\u001b[0m: <dtype: 'float32'> \n",
            "\n",
            "\u001b[32mINFO:\u001b[0m \u001b[32m7 / 3306\u001b[0m\n",
            "\u001b[32mINFO:\u001b[0m \u001b[35monnx_op_type\u001b[0m: Identity\u001b[35m onnx_op_name\u001b[0m: Identity_1002\n",
            "\u001b[32mINFO:\u001b[0m \u001b[36m input_name.1\u001b[0m: onnx::Add_5596 \u001b[36mshape\u001b[0m: [768] \u001b[36mdtype\u001b[0m: float32\n",
            "\u001b[32mINFO:\u001b[0m \u001b[36m output_name.1\u001b[0m: onnx____Add_6491 \u001b[36mshape\u001b[0m: [768] \u001b[36mdtype\u001b[0m: float32\n",
            "\u001b[32mINFO:\u001b[0m \u001b[35mtf_op_type\u001b[0m: identity\n",
            "\u001b[32mINFO:\u001b[0m \u001b[34m input.1.input\u001b[0m: \u001b[34mshape\u001b[0m: (768,) \u001b[34mdtype\u001b[0m: float32 \n",
            "\u001b[32mINFO:\u001b[0m \u001b[34m output.1.output\u001b[0m: \u001b[34mshape\u001b[0m: (768,) \u001b[34mdtype\u001b[0m: <dtype: 'float32'> \n",
            "\n",
            "\u001b[32mINFO:\u001b[0m \u001b[32m8 / 3306\u001b[0m\n",
            "\u001b[32mINFO:\u001b[0m \u001b[35monnx_op_type\u001b[0m: Identity\u001b[35m onnx_op_name\u001b[0m: Identity_1003\n",
            "\u001b[32mINFO:\u001b[0m \u001b[36m input_name.1\u001b[0m: onnx::Add_5594 \u001b[36mshape\u001b[0m: [384] \u001b[36mdtype\u001b[0m: float32\n",
            "\u001b[32mINFO:\u001b[0m \u001b[36m output_name.1\u001b[0m: onnx____Add_6489 \u001b[36mshape\u001b[0m: [384] \u001b[36mdtype\u001b[0m: float32\n",
            "\u001b[32mINFO:\u001b[0m \u001b[35mtf_op_type\u001b[0m: identity\n",
            "\u001b[32mINFO:\u001b[0m \u001b[34m input.1.input\u001b[0m: \u001b[34mshape\u001b[0m: (384,) \u001b[34mdtype\u001b[0m: float32 \n",
            "\u001b[32mINFO:\u001b[0m \u001b[34m output.1.output\u001b[0m: \u001b[34mshape\u001b[0m: (384,) \u001b[34mdtype\u001b[0m: <dtype: 'float32'> \n",
            "\n",
            "\u001b[32mINFO:\u001b[0m \u001b[32m9 / 3306\u001b[0m\n",
            "\u001b[32mINFO:\u001b[0m \u001b[35monnx_op_type\u001b[0m: Identity\u001b[35m onnx_op_name\u001b[0m: Identity_1004\n",
            "\u001b[32mINFO:\u001b[0m \u001b[36m input_name.1\u001b[0m: onnx::MatMul_5559 \u001b[36mshape\u001b[0m: [384, 768] \u001b[36mdtype\u001b[0m: float32\n",
            "\u001b[32mINFO:\u001b[0m \u001b[36m output_name.1\u001b[0m: onnx____MatMul_6444 \u001b[36mshape\u001b[0m: [384, 768] \u001b[36mdtype\u001b[0m: float32\n",
            "\u001b[32mINFO:\u001b[0m \u001b[35mtf_op_type\u001b[0m: identity\n",
            "\u001b[32mINFO:\u001b[0m \u001b[34m input.1.input\u001b[0m: \u001b[34mshape\u001b[0m: (384, 768) \u001b[34mdtype\u001b[0m: float32 \n",
            "\u001b[32mINFO:\u001b[0m \u001b[34m output.1.output\u001b[0m: \u001b[34mshape\u001b[0m: (384, 768) \u001b[34mdtype\u001b[0m: <dtype: 'float32'> \n",
            "\n",
            "\u001b[32mINFO:\u001b[0m \u001b[32m10 / 3306\u001b[0m\n",
            "\u001b[32mINFO:\u001b[0m \u001b[35monnx_op_type\u001b[0m: Identity\u001b[35m onnx_op_name\u001b[0m: Identity_1005\n",
            "\u001b[32mINFO:\u001b[0m \u001b[36m input_name.1\u001b[0m: onnx::MatMul_5558 \u001b[36mshape\u001b[0m: [384, 384] \u001b[36mdtype\u001b[0m: float32\n",
            "\u001b[32mINFO:\u001b[0m \u001b[36m output_name.1\u001b[0m: onnx____MatMul_6443 \u001b[36mshape\u001b[0m: [384, 384] \u001b[36mdtype\u001b[0m: float32\n",
            "\u001b[32mINFO:\u001b[0m \u001b[35mtf_op_type\u001b[0m: identity\n",
            "\u001b[32mINFO:\u001b[0m \u001b[34m input.1.input\u001b[0m: \u001b[34mshape\u001b[0m: (384, 384) \u001b[34mdtype\u001b[0m: float32 \n",
            "\u001b[32mINFO:\u001b[0m \u001b[34m output.1.output\u001b[0m: \u001b[34mshape\u001b[0m: (384, 384) \u001b[34mdtype\u001b[0m: <dtype: 'float32'> \n",
            "\n",
            "\u001b[32mINFO:\u001b[0m \u001b[32m11 / 3306\u001b[0m\n",
            "\u001b[32mINFO:\u001b[0m \u001b[35monnx_op_type\u001b[0m: Identity\u001b[35m onnx_op_name\u001b[0m: Identity_1006\n",
            "\u001b[32mINFO:\u001b[0m \u001b[36m input_name.1\u001b[0m: onnx::Add_5557 \u001b[36mshape\u001b[0m: [768] \u001b[36mdtype\u001b[0m: float32\n",
            "\u001b[32mINFO:\u001b[0m \u001b[36m output_name.1\u001b[0m: onnx____Add_6442 \u001b[36mshape\u001b[0m: [768] \u001b[36mdtype\u001b[0m: float32\n",
            "\u001b[32mINFO:\u001b[0m \u001b[35mtf_op_type\u001b[0m: identity\n",
            "\u001b[32mINFO:\u001b[0m \u001b[34m input.1.input\u001b[0m: \u001b[34mshape\u001b[0m: (768,) \u001b[34mdtype\u001b[0m: float32 \n",
            "\u001b[32mINFO:\u001b[0m \u001b[34m output.1.output\u001b[0m: \u001b[34mshape\u001b[0m: (768,) \u001b[34mdtype\u001b[0m: <dtype: 'float32'> \n",
            "\n",
            "\u001b[32mINFO:\u001b[0m \u001b[32m12 / 3306\u001b[0m\n",
            "\u001b[32mINFO:\u001b[0m \u001b[35monnx_op_type\u001b[0m: Identity\u001b[35m onnx_op_name\u001b[0m: Identity_1007\n",
            "\u001b[32mINFO:\u001b[0m \u001b[36m input_name.1\u001b[0m: onnx::Add_5555 \u001b[36mshape\u001b[0m: [384] \u001b[36mdtype\u001b[0m: float32\n",
            "\u001b[32mINFO:\u001b[0m \u001b[36m output_name.1\u001b[0m: onnx____Add_6440 \u001b[36mshape\u001b[0m: [384] \u001b[36mdtype\u001b[0m: float32\n",
            "\u001b[32mINFO:\u001b[0m \u001b[35mtf_op_type\u001b[0m: identity\n",
            "\u001b[32mINFO:\u001b[0m \u001b[34m input.1.input\u001b[0m: \u001b[34mshape\u001b[0m: (384,) \u001b[34mdtype\u001b[0m: float32 \n",
            "\u001b[32mINFO:\u001b[0m \u001b[34m output.1.output\u001b[0m: \u001b[34mshape\u001b[0m: (384,) \u001b[34mdtype\u001b[0m: <dtype: 'float32'> \n",
            "\n",
            "\u001b[32mINFO:\u001b[0m \u001b[32m13 / 3306\u001b[0m\n",
            "\u001b[32mINFO:\u001b[0m \u001b[35monnx_op_type\u001b[0m: Identity\u001b[35m onnx_op_name\u001b[0m: Identity_1008\n",
            "\u001b[32mINFO:\u001b[0m \u001b[36m input_name.1\u001b[0m: onnx::Add_6325 \u001b[36mshape\u001b[0m: [1, 7, 384] \u001b[36mdtype\u001b[0m: float32\n",
            "\u001b[32mINFO:\u001b[0m \u001b[36m output_name.1\u001b[0m: onnx____Add_6426 \u001b[36mshape\u001b[0m: [1, 7, 384] \u001b[36mdtype\u001b[0m: float32\n",
            "\u001b[32mINFO:\u001b[0m \u001b[35mtf_op_type\u001b[0m: identity\n",
            "\u001b[32mINFO:\u001b[0m \u001b[34m input.1.input\u001b[0m: \u001b[34mshape\u001b[0m: (1, 384, 7) \u001b[34mdtype\u001b[0m: float32 \n",
            "\u001b[32mINFO:\u001b[0m \u001b[34m output.1.output\u001b[0m: \u001b[34mshape\u001b[0m: (1, 384, 7) \u001b[34mdtype\u001b[0m: <dtype: 'float32'> \n",
            "\n",
            "\u001b[32mINFO:\u001b[0m \u001b[32m14 / 3306\u001b[0m\n",
            "\u001b[32mINFO:\u001b[0m \u001b[35monnx_op_type\u001b[0m: Identity\u001b[35m onnx_op_name\u001b[0m: Identity_1009\n",
            "\u001b[32mINFO:\u001b[0m \u001b[36m input_name.1\u001b[0m: onnx::MatMul_5624 \u001b[36mshape\u001b[0m: (384, 95) \u001b[36mdtype\u001b[0m: float32\n",
            "\u001b[32mINFO:\u001b[0m \u001b[36m output_name.1\u001b[0m: onnx____MatMul_6408 \u001b[36mshape\u001b[0m: [384, 95] \u001b[36mdtype\u001b[0m: float32\n",
            "\u001b[32mINFO:\u001b[0m \u001b[35mtf_op_type\u001b[0m: identity\n",
            "\u001b[32mINFO:\u001b[0m \u001b[34m input.1.input\u001b[0m: \u001b[34mshape\u001b[0m: (384, 95) \u001b[34mdtype\u001b[0m: float32 \n",
            "\u001b[32mINFO:\u001b[0m \u001b[34m output.1.output\u001b[0m: \u001b[34mshape\u001b[0m: (384, 95) \u001b[34mdtype\u001b[0m: <dtype: 'float32'> \n",
            "\n",
            "\u001b[32mINFO:\u001b[0m \u001b[32m15 / 3306\u001b[0m\n",
            "\u001b[32mINFO:\u001b[0m \u001b[35monnx_op_type\u001b[0m: Identity\u001b[35m onnx_op_name\u001b[0m: Identity_1010\n",
            "\u001b[32mINFO:\u001b[0m \u001b[36m input_name.1\u001b[0m: onnx::MatMul_5623 \u001b[36mshape\u001b[0m: (1536, 384) \u001b[36mdtype\u001b[0m: float32\n",
            "\u001b[32mINFO:\u001b[0m \u001b[36m output_name.1\u001b[0m: onnx____MatMul_6407 \u001b[36mshape\u001b[0m: [1536, 384] \u001b[36mdtype\u001b[0m: float32\n",
            "\u001b[32mINFO:\u001b[0m \u001b[35mtf_op_type\u001b[0m: identity\n",
            "\u001b[32mINFO:\u001b[0m \u001b[34m input.1.input\u001b[0m: \u001b[34mshape\u001b[0m: (1536, 384) \u001b[34mdtype\u001b[0m: float32 \n",
            "\u001b[32mINFO:\u001b[0m \u001b[34m output.1.output\u001b[0m: \u001b[34mshape\u001b[0m: (1536, 384) \u001b[34mdtype\u001b[0m: <dtype: 'float32'> \n",
            "\n",
            "\u001b[32mINFO:\u001b[0m \u001b[32m16 / 3306\u001b[0m\n",
            "\u001b[32mINFO:\u001b[0m \u001b[35monnx_op_type\u001b[0m: Identity\u001b[35m onnx_op_name\u001b[0m: Identity_1011\n",
            "\u001b[32mINFO:\u001b[0m \u001b[36m input_name.1\u001b[0m: onnx::MatMul_5622 \u001b[36mshape\u001b[0m: (384, 1536) \u001b[36mdtype\u001b[0m: float32\n",
            "\u001b[32mINFO:\u001b[0m \u001b[36m output_name.1\u001b[0m: onnx____MatMul_6406 \u001b[36mshape\u001b[0m: [384, 1536] \u001b[36mdtype\u001b[0m: float32\n",
            "\u001b[32mINFO:\u001b[0m \u001b[35mtf_op_type\u001b[0m: identity\n",
            "\u001b[32mINFO:\u001b[0m \u001b[34m input.1.input\u001b[0m: \u001b[34mshape\u001b[0m: (384, 1536) \u001b[34mdtype\u001b[0m: float32 \n",
            "\u001b[32mINFO:\u001b[0m \u001b[34m output.1.output\u001b[0m: \u001b[34mshape\u001b[0m: (384, 1536) \u001b[34mdtype\u001b[0m: <dtype: 'float32'> \n",
            "\n",
            "\u001b[32mINFO:\u001b[0m \u001b[32m17 / 3306\u001b[0m\n",
            "\u001b[32mINFO:\u001b[0m \u001b[35monnx_op_type\u001b[0m: Identity\u001b[35m onnx_op_name\u001b[0m: Identity_1012\n",
            "\u001b[32mINFO:\u001b[0m \u001b[36m input_name.1\u001b[0m: onnx::MatMul_5598 \u001b[36mshape\u001b[0m: (384, 768) \u001b[36mdtype\u001b[0m: float32\n",
            "\u001b[32mINFO:\u001b[0m \u001b[36m output_name.1\u001b[0m: onnx____MatMul_6382 \u001b[36mshape\u001b[0m: [384, 768] \u001b[36mdtype\u001b[0m: float32\n",
            "\u001b[32mINFO:\u001b[0m \u001b[35mtf_op_type\u001b[0m: identity\n",
            "\u001b[32mINFO:\u001b[0m \u001b[34m input.1.input\u001b[0m: \u001b[34mshape\u001b[0m: (384, 768) \u001b[34mdtype\u001b[0m: float32 \n",
            "\u001b[32mINFO:\u001b[0m \u001b[34m output.1.output\u001b[0m: \u001b[34mshape\u001b[0m: (384, 768) \u001b[34mdtype\u001b[0m: <dtype: 'float32'> \n",
            "\n",
            "\u001b[32mINFO:\u001b[0m \u001b[32m18 / 3306\u001b[0m\n",
            "\u001b[32mINFO:\u001b[0m \u001b[35monnx_op_type\u001b[0m: Identity\u001b[35m onnx_op_name\u001b[0m: Identity_1013\n",
            "\u001b[32mINFO:\u001b[0m \u001b[36m input_name.1\u001b[0m: onnx::MatMul_5597 \u001b[36mshape\u001b[0m: (384, 384) \u001b[36mdtype\u001b[0m: float32\n",
            "\u001b[32mINFO:\u001b[0m \u001b[36m output_name.1\u001b[0m: onnx____MatMul_6381 \u001b[36mshape\u001b[0m: [384, 384] \u001b[36mdtype\u001b[0m: float32\n",
            "\u001b[32mINFO:\u001b[0m \u001b[35mtf_op_type\u001b[0m: identity\n",
            "\u001b[32mINFO:\u001b[0m \u001b[34m input.1.input\u001b[0m: \u001b[34mshape\u001b[0m: (384, 384) \u001b[34mdtype\u001b[0m: float32 \n",
            "\u001b[32mINFO:\u001b[0m \u001b[34m output.1.output\u001b[0m: \u001b[34mshape\u001b[0m: (384, 384) \u001b[34mdtype\u001b[0m: <dtype: 'float32'> \n",
            "\n",
            "\u001b[32mINFO:\u001b[0m \u001b[32m19 / 3306\u001b[0m\n",
            "\u001b[32mINFO:\u001b[0m \u001b[35monnx_op_type\u001b[0m: Identity\u001b[35m onnx_op_name\u001b[0m: Identity_1014\n",
            "\u001b[32mINFO:\u001b[0m \u001b[36m input_name.1\u001b[0m: onnx::Add_5596 \u001b[36mshape\u001b[0m: (768,) \u001b[36mdtype\u001b[0m: float32\n",
            "\u001b[32mINFO:\u001b[0m \u001b[36m output_name.1\u001b[0m: onnx____Add_6380 \u001b[36mshape\u001b[0m: [768] \u001b[36mdtype\u001b[0m: float32\n",
            "\u001b[32mINFO:\u001b[0m \u001b[35mtf_op_type\u001b[0m: identity\n",
            "\u001b[32mINFO:\u001b[0m \u001b[34m input.1.input\u001b[0m: \u001b[34mshape\u001b[0m: (768,) \u001b[34mdtype\u001b[0m: float32 \n",
            "\u001b[32mINFO:\u001b[0m \u001b[34m output.1.output\u001b[0m: \u001b[34mshape\u001b[0m: (768,) \u001b[34mdtype\u001b[0m: <dtype: 'float32'> \n",
            "\n",
            "\u001b[32mINFO:\u001b[0m \u001b[32m20 / 3306\u001b[0m\n",
            "\u001b[32mINFO:\u001b[0m \u001b[35monnx_op_type\u001b[0m: Identity\u001b[35m onnx_op_name\u001b[0m: Identity_1015\n",
            "\u001b[32mINFO:\u001b[0m \u001b[36m input_name.1\u001b[0m: onnx::Add_5594 \u001b[36mshape\u001b[0m: (384,) \u001b[36mdtype\u001b[0m: float32\n",
            "\u001b[32mINFO:\u001b[0m \u001b[36m output_name.1\u001b[0m: onnx____Add_6378 \u001b[36mshape\u001b[0m: [384] \u001b[36mdtype\u001b[0m: float32\n",
            "\u001b[32mINFO:\u001b[0m \u001b[35mtf_op_type\u001b[0m: identity\n",
            "\u001b[32mINFO:\u001b[0m \u001b[34m input.1.input\u001b[0m: \u001b[34mshape\u001b[0m: (384,) \u001b[34mdtype\u001b[0m: float32 \n",
            "\u001b[32mINFO:\u001b[0m \u001b[34m output.1.output\u001b[0m: \u001b[34mshape\u001b[0m: (384,) \u001b[34mdtype\u001b[0m: <dtype: 'float32'> \n",
            "\n",
            "\u001b[32mINFO:\u001b[0m \u001b[32m21 / 3306\u001b[0m\n",
            "\u001b[32mINFO:\u001b[0m \u001b[35monnx_op_type\u001b[0m: Identity\u001b[35m onnx_op_name\u001b[0m: Identity_1016\n",
            "\u001b[32mINFO:\u001b[0m \u001b[36m input_name.1\u001b[0m: onnx::MatMul_5559 \u001b[36mshape\u001b[0m: (384, 768) \u001b[36mdtype\u001b[0m: float32\n",
            "\u001b[32mINFO:\u001b[0m \u001b[36m output_name.1\u001b[0m: onnx____MatMul_6343 \u001b[36mshape\u001b[0m: [384, 768] \u001b[36mdtype\u001b[0m: float32\n",
            "\u001b[32mINFO:\u001b[0m \u001b[35mtf_op_type\u001b[0m: identity\n",
            "\u001b[32mINFO:\u001b[0m \u001b[34m input.1.input\u001b[0m: \u001b[34mshape\u001b[0m: (384, 768) \u001b[34mdtype\u001b[0m: float32 \n",
            "\u001b[32mINFO:\u001b[0m \u001b[34m output.1.output\u001b[0m: \u001b[34mshape\u001b[0m: (384, 768) \u001b[34mdtype\u001b[0m: <dtype: 'float32'> \n",
            "\n",
            "\u001b[32mINFO:\u001b[0m \u001b[32m22 / 3306\u001b[0m\n",
            "\u001b[32mINFO:\u001b[0m \u001b[35monnx_op_type\u001b[0m: Identity\u001b[35m onnx_op_name\u001b[0m: Identity_1017\n",
            "\u001b[32mINFO:\u001b[0m \u001b[36m input_name.1\u001b[0m: onnx::MatMul_5558 \u001b[36mshape\u001b[0m: (384, 384) \u001b[36mdtype\u001b[0m: float32\n",
            "\u001b[32mINFO:\u001b[0m \u001b[36m output_name.1\u001b[0m: onnx____MatMul_6342 \u001b[36mshape\u001b[0m: [384, 384] \u001b[36mdtype\u001b[0m: float32\n",
            "\u001b[32mINFO:\u001b[0m \u001b[35mtf_op_type\u001b[0m: identity\n",
            "\u001b[32mINFO:\u001b[0m \u001b[34m input.1.input\u001b[0m: \u001b[34mshape\u001b[0m: (384, 384) \u001b[34mdtype\u001b[0m: float32 \n",
            "\u001b[32mINFO:\u001b[0m \u001b[34m output.1.output\u001b[0m: \u001b[34mshape\u001b[0m: (384, 384) \u001b[34mdtype\u001b[0m: <dtype: 'float32'> \n",
            "\n",
            "\u001b[32mINFO:\u001b[0m \u001b[32m23 / 3306\u001b[0m\n",
            "\u001b[32mINFO:\u001b[0m \u001b[35monnx_op_type\u001b[0m: Identity\u001b[35m onnx_op_name\u001b[0m: Identity_1018\n",
            "\u001b[32mINFO:\u001b[0m \u001b[36m input_name.1\u001b[0m: onnx::Add_5557 \u001b[36mshape\u001b[0m: (768,) \u001b[36mdtype\u001b[0m: float32\n",
            "\u001b[32mINFO:\u001b[0m \u001b[36m output_name.1\u001b[0m: onnx____Add_6341 \u001b[36mshape\u001b[0m: [768] \u001b[36mdtype\u001b[0m: float32\n",
            "\u001b[32mINFO:\u001b[0m \u001b[35mtf_op_type\u001b[0m: identity\n",
            "\u001b[32mINFO:\u001b[0m \u001b[34m input.1.input\u001b[0m: \u001b[34mshape\u001b[0m: (768,) \u001b[34mdtype\u001b[0m: float32 \n",
            "\u001b[32mINFO:\u001b[0m \u001b[34m output.1.output\u001b[0m: \u001b[34mshape\u001b[0m: (768,) \u001b[34mdtype\u001b[0m: <dtype: 'float32'> \n",
            "\n",
            "\u001b[32mINFO:\u001b[0m \u001b[32m24 / 3306\u001b[0m\n",
            "\u001b[32mINFO:\u001b[0m \u001b[35monnx_op_type\u001b[0m: Identity\u001b[35m onnx_op_name\u001b[0m: Identity_1019\n",
            "\u001b[32mINFO:\u001b[0m \u001b[36m input_name.1\u001b[0m: onnx::Add_5555 \u001b[36mshape\u001b[0m: (384,) \u001b[36mdtype\u001b[0m: float32\n",
            "\u001b[32mINFO:\u001b[0m \u001b[36m output_name.1\u001b[0m: onnx____Add_6339 \u001b[36mshape\u001b[0m: [384] \u001b[36mdtype\u001b[0m: float32\n",
            "\u001b[32mINFO:\u001b[0m \u001b[35mtf_op_type\u001b[0m: identity\n",
            "\u001b[32mINFO:\u001b[0m \u001b[34m input.1.input\u001b[0m: \u001b[34mshape\u001b[0m: (384,) \u001b[34mdtype\u001b[0m: float32 \n",
            "\u001b[32mINFO:\u001b[0m \u001b[34m output.1.output\u001b[0m: \u001b[34mshape\u001b[0m: (384,) \u001b[34mdtype\u001b[0m: <dtype: 'float32'> \n",
            "\n",
            "\u001b[32mINFO:\u001b[0m \u001b[32m25 / 3306\u001b[0m\n",
            "\u001b[32mINFO:\u001b[0m \u001b[35monnx_op_type\u001b[0m: Identity\u001b[35m onnx_op_name\u001b[0m: Identity_1020\n",
            "\u001b[32mINFO:\u001b[0m \u001b[36m input_name.1\u001b[0m: onnx::MatMul_5624 \u001b[36mshape\u001b[0m: (384, 95) \u001b[36mdtype\u001b[0m: float32\n",
            "\u001b[32mINFO:\u001b[0m \u001b[36m output_name.1\u001b[0m: onnx____MatMul_6296 \u001b[36mshape\u001b[0m: [384, 95] \u001b[36mdtype\u001b[0m: float32\n",
            "\u001b[32mINFO:\u001b[0m \u001b[35mtf_op_type\u001b[0m: identity\n",
            "\u001b[32mINFO:\u001b[0m \u001b[34m input.1.input\u001b[0m: \u001b[34mshape\u001b[0m: (384, 95) \u001b[34mdtype\u001b[0m: float32 \n",
            "\u001b[32mINFO:\u001b[0m \u001b[34m output.1.output\u001b[0m: \u001b[34mshape\u001b[0m: (384, 95) \u001b[34mdtype\u001b[0m: <dtype: 'float32'> \n",
            "\n",
            "\u001b[32mINFO:\u001b[0m \u001b[32m26 / 3306\u001b[0m\n",
            "\u001b[32mINFO:\u001b[0m \u001b[35monnx_op_type\u001b[0m: Identity\u001b[35m onnx_op_name\u001b[0m: Identity_1021\n",
            "\u001b[32mINFO:\u001b[0m \u001b[36m input_name.1\u001b[0m: onnx::MatMul_5623 \u001b[36mshape\u001b[0m: (1536, 384) \u001b[36mdtype\u001b[0m: float32\n",
            "\u001b[32mINFO:\u001b[0m \u001b[36m output_name.1\u001b[0m: onnx____MatMul_6295 \u001b[36mshape\u001b[0m: [1536, 384] \u001b[36mdtype\u001b[0m: float32\n",
            "\u001b[32mINFO:\u001b[0m \u001b[35mtf_op_type\u001b[0m: identity\n",
            "\u001b[32mINFO:\u001b[0m \u001b[34m input.1.input\u001b[0m: \u001b[34mshape\u001b[0m: (1536, 384) \u001b[34mdtype\u001b[0m: float32 \n",
            "\u001b[32mINFO:\u001b[0m \u001b[34m output.1.output\u001b[0m: \u001b[34mshape\u001b[0m: (1536, 384) \u001b[34mdtype\u001b[0m: <dtype: 'float32'> \n",
            "\n",
            "\u001b[32mINFO:\u001b[0m \u001b[32m27 / 3306\u001b[0m\n",
            "\u001b[32mINFO:\u001b[0m \u001b[35monnx_op_type\u001b[0m: Identity\u001b[35m onnx_op_name\u001b[0m: Identity_1022\n",
            "\u001b[32mINFO:\u001b[0m \u001b[36m input_name.1\u001b[0m: onnx::MatMul_5622 \u001b[36mshape\u001b[0m: (384, 1536) \u001b[36mdtype\u001b[0m: float32\n",
            "\u001b[32mINFO:\u001b[0m \u001b[36m output_name.1\u001b[0m: onnx____MatMul_6294 \u001b[36mshape\u001b[0m: [384, 1536] \u001b[36mdtype\u001b[0m: float32\n",
            "\u001b[32mINFO:\u001b[0m \u001b[35mtf_op_type\u001b[0m: identity\n",
            "\u001b[32mINFO:\u001b[0m \u001b[34m input.1.input\u001b[0m: \u001b[34mshape\u001b[0m: (384, 1536) \u001b[34mdtype\u001b[0m: float32 \n",
            "\u001b[32mINFO:\u001b[0m \u001b[34m output.1.output\u001b[0m: \u001b[34mshape\u001b[0m: (384, 1536) \u001b[34mdtype\u001b[0m: <dtype: 'float32'> \n",
            "\n",
            "\u001b[32mINFO:\u001b[0m \u001b[32m28 / 3306\u001b[0m\n",
            "\u001b[32mINFO:\u001b[0m \u001b[35monnx_op_type\u001b[0m: Identity\u001b[35m onnx_op_name\u001b[0m: Identity_1023\n",
            "\u001b[32mINFO:\u001b[0m \u001b[36m input_name.1\u001b[0m: onnx::MatMul_5598 \u001b[36mshape\u001b[0m: (384, 768) \u001b[36mdtype\u001b[0m: float32\n",
            "\u001b[32mINFO:\u001b[0m \u001b[36m output_name.1\u001b[0m: onnx____MatMul_6270 \u001b[36mshape\u001b[0m: [384, 768] \u001b[36mdtype\u001b[0m: float32\n",
            "\u001b[32mINFO:\u001b[0m \u001b[35mtf_op_type\u001b[0m: identity\n",
            "\u001b[32mINFO:\u001b[0m \u001b[34m input.1.input\u001b[0m: \u001b[34mshape\u001b[0m: (384, 768) \u001b[34mdtype\u001b[0m: float32 \n",
            "\u001b[32mINFO:\u001b[0m \u001b[34m output.1.output\u001b[0m: \u001b[34mshape\u001b[0m: (384, 768) \u001b[34mdtype\u001b[0m: <dtype: 'float32'> \n",
            "\n",
            "\u001b[32mINFO:\u001b[0m \u001b[32m29 / 3306\u001b[0m\n",
            "\u001b[32mINFO:\u001b[0m \u001b[35monnx_op_type\u001b[0m: Identity\u001b[35m onnx_op_name\u001b[0m: Identity_1024\n",
            "\u001b[32mINFO:\u001b[0m \u001b[36m input_name.1\u001b[0m: onnx::MatMul_5597 \u001b[36mshape\u001b[0m: (384, 384) \u001b[36mdtype\u001b[0m: float32\n",
            "\u001b[32mINFO:\u001b[0m \u001b[36m output_name.1\u001b[0m: onnx____MatMul_6269 \u001b[36mshape\u001b[0m: [384, 384] \u001b[36mdtype\u001b[0m: float32\n",
            "\u001b[32mINFO:\u001b[0m \u001b[35mtf_op_type\u001b[0m: identity\n",
            "\u001b[32mINFO:\u001b[0m \u001b[34m input.1.input\u001b[0m: \u001b[34mshape\u001b[0m: (384, 384) \u001b[34mdtype\u001b[0m: float32 \n",
            "\u001b[32mINFO:\u001b[0m \u001b[34m output.1.output\u001b[0m: \u001b[34mshape\u001b[0m: (384, 384) \u001b[34mdtype\u001b[0m: <dtype: 'float32'> \n",
            "\n",
            "\u001b[32mINFO:\u001b[0m \u001b[32m30 / 3306\u001b[0m\n",
            "\u001b[32mINFO:\u001b[0m \u001b[35monnx_op_type\u001b[0m: Identity\u001b[35m onnx_op_name\u001b[0m: Identity_1025\n",
            "\u001b[32mINFO:\u001b[0m \u001b[36m input_name.1\u001b[0m: onnx::Add_5596 \u001b[36mshape\u001b[0m: (768,) \u001b[36mdtype\u001b[0m: float32\n",
            "\u001b[32mINFO:\u001b[0m \u001b[36m output_name.1\u001b[0m: onnx____Add_6268 \u001b[36mshape\u001b[0m: [768] \u001b[36mdtype\u001b[0m: float32\n",
            "\u001b[32mINFO:\u001b[0m \u001b[35mtf_op_type\u001b[0m: identity\n",
            "\u001b[32mINFO:\u001b[0m \u001b[34m input.1.input\u001b[0m: \u001b[34mshape\u001b[0m: (768,) \u001b[34mdtype\u001b[0m: float32 \n",
            "\u001b[32mINFO:\u001b[0m \u001b[34m output.1.output\u001b[0m: \u001b[34mshape\u001b[0m: (768,) \u001b[34mdtype\u001b[0m: <dtype: 'float32'> \n",
            "\n",
            "\u001b[32mINFO:\u001b[0m \u001b[32m31 / 3306\u001b[0m\n",
            "\u001b[32mINFO:\u001b[0m \u001b[35monnx_op_type\u001b[0m: Identity\u001b[35m onnx_op_name\u001b[0m: Identity_1026\n",
            "\u001b[32mINFO:\u001b[0m \u001b[36m input_name.1\u001b[0m: onnx::Add_5594 \u001b[36mshape\u001b[0m: (384,) \u001b[36mdtype\u001b[0m: float32\n",
            "\u001b[32mINFO:\u001b[0m \u001b[36m output_name.1\u001b[0m: onnx____Add_6266 \u001b[36mshape\u001b[0m: [384] \u001b[36mdtype\u001b[0m: float32\n",
            "\u001b[32mINFO:\u001b[0m \u001b[35mtf_op_type\u001b[0m: identity\n",
            "\u001b[32mINFO:\u001b[0m \u001b[34m input.1.input\u001b[0m: \u001b[34mshape\u001b[0m: (384,) \u001b[34mdtype\u001b[0m: float32 \n",
            "\u001b[32mINFO:\u001b[0m \u001b[34m output.1.output\u001b[0m: \u001b[34mshape\u001b[0m: (384,) \u001b[34mdtype\u001b[0m: <dtype: 'float32'> \n",
            "\n",
            "\u001b[32mINFO:\u001b[0m \u001b[32m32 / 3306\u001b[0m\n",
            "\u001b[32mINFO:\u001b[0m \u001b[35monnx_op_type\u001b[0m: Identity\u001b[35m onnx_op_name\u001b[0m: Identity_1027\n",
            "\u001b[32mINFO:\u001b[0m \u001b[36m input_name.1\u001b[0m: onnx::MatMul_5559 \u001b[36mshape\u001b[0m: (384, 768) \u001b[36mdtype\u001b[0m: float32\n",
            "\u001b[32mINFO:\u001b[0m \u001b[36m output_name.1\u001b[0m: onnx____MatMul_6231 \u001b[36mshape\u001b[0m: [384, 768] \u001b[36mdtype\u001b[0m: float32\n",
            "\u001b[32mINFO:\u001b[0m \u001b[35mtf_op_type\u001b[0m: identity\n",
            "\u001b[32mINFO:\u001b[0m \u001b[34m input.1.input\u001b[0m: \u001b[34mshape\u001b[0m: (384, 768) \u001b[34mdtype\u001b[0m: float32 \n",
            "\u001b[32mINFO:\u001b[0m \u001b[34m output.1.output\u001b[0m: \u001b[34mshape\u001b[0m: (384, 768) \u001b[34mdtype\u001b[0m: <dtype: 'float32'> \n",
            "\n",
            "\u001b[32mINFO:\u001b[0m \u001b[32m33 / 3306\u001b[0m\n",
            "\u001b[32mINFO:\u001b[0m \u001b[35monnx_op_type\u001b[0m: Identity\u001b[35m onnx_op_name\u001b[0m: Identity_1028\n",
            "\u001b[32mINFO:\u001b[0m \u001b[36m input_name.1\u001b[0m: onnx::MatMul_5558 \u001b[36mshape\u001b[0m: (384, 384) \u001b[36mdtype\u001b[0m: float32\n",
            "\u001b[32mINFO:\u001b[0m \u001b[36m output_name.1\u001b[0m: onnx____MatMul_6230 \u001b[36mshape\u001b[0m: [384, 384] \u001b[36mdtype\u001b[0m: float32\n",
            "\u001b[32mINFO:\u001b[0m \u001b[35mtf_op_type\u001b[0m: identity\n",
            "\u001b[32mINFO:\u001b[0m \u001b[34m input.1.input\u001b[0m: \u001b[34mshape\u001b[0m: (384, 384) \u001b[34mdtype\u001b[0m: float32 \n",
            "\u001b[32mINFO:\u001b[0m \u001b[34m output.1.output\u001b[0m: \u001b[34mshape\u001b[0m: (384, 384) \u001b[34mdtype\u001b[0m: <dtype: 'float32'> \n",
            "\n",
            "\u001b[32mINFO:\u001b[0m \u001b[32m34 / 3306\u001b[0m\n",
            "\u001b[32mINFO:\u001b[0m \u001b[35monnx_op_type\u001b[0m: Identity\u001b[35m onnx_op_name\u001b[0m: Identity_1029\n",
            "\u001b[32mINFO:\u001b[0m \u001b[36m input_name.1\u001b[0m: onnx::Add_5557 \u001b[36mshape\u001b[0m: (768,) \u001b[36mdtype\u001b[0m: float32\n",
            "\u001b[32mINFO:\u001b[0m \u001b[36m output_name.1\u001b[0m: onnx____Add_6229 \u001b[36mshape\u001b[0m: [768] \u001b[36mdtype\u001b[0m: float32\n",
            "\u001b[32mINFO:\u001b[0m \u001b[35mtf_op_type\u001b[0m: identity\n",
            "\u001b[32mINFO:\u001b[0m \u001b[34m input.1.input\u001b[0m: \u001b[34mshape\u001b[0m: (768,) \u001b[34mdtype\u001b[0m: float32 \n",
            "\u001b[32mINFO:\u001b[0m \u001b[34m output.1.output\u001b[0m: \u001b[34mshape\u001b[0m: (768,) \u001b[34mdtype\u001b[0m: <dtype: 'float32'> \n",
            "\n",
            "\u001b[32mINFO:\u001b[0m \u001b[32m35 / 3306\u001b[0m\n",
            "\u001b[32mINFO:\u001b[0m \u001b[35monnx_op_type\u001b[0m: Identity\u001b[35m onnx_op_name\u001b[0m: Identity_1030\n",
            "\u001b[32mINFO:\u001b[0m \u001b[36m input_name.1\u001b[0m: onnx::Add_5555 \u001b[36mshape\u001b[0m: (384,) \u001b[36mdtype\u001b[0m: float32\n",
            "\u001b[32mINFO:\u001b[0m \u001b[36m output_name.1\u001b[0m: onnx____Add_6227 \u001b[36mshape\u001b[0m: [384] \u001b[36mdtype\u001b[0m: float32\n",
            "\u001b[32mINFO:\u001b[0m \u001b[35mtf_op_type\u001b[0m: identity\n",
            "\u001b[32mINFO:\u001b[0m \u001b[34m input.1.input\u001b[0m: \u001b[34mshape\u001b[0m: (384,) \u001b[34mdtype\u001b[0m: float32 \n",
            "\u001b[32mINFO:\u001b[0m \u001b[34m output.1.output\u001b[0m: \u001b[34mshape\u001b[0m: (384,) \u001b[34mdtype\u001b[0m: <dtype: 'float32'> \n",
            "\n",
            "\u001b[32mINFO:\u001b[0m \u001b[32m36 / 3306\u001b[0m\n",
            "\u001b[32mINFO:\u001b[0m \u001b[35monnx_op_type\u001b[0m: Identity\u001b[35m onnx_op_name\u001b[0m: Identity_1031\n",
            "\u001b[32mINFO:\u001b[0m \u001b[36m input_name.1\u001b[0m: onnx::MatMul_5624 \u001b[36mshape\u001b[0m: (384, 95) \u001b[36mdtype\u001b[0m: float32\n",
            "\u001b[32mINFO:\u001b[0m \u001b[36m output_name.1\u001b[0m: onnx____MatMul_6184 \u001b[36mshape\u001b[0m: [384, 95] \u001b[36mdtype\u001b[0m: float32\n",
            "\u001b[32mINFO:\u001b[0m \u001b[35mtf_op_type\u001b[0m: identity\n",
            "\u001b[32mINFO:\u001b[0m \u001b[34m input.1.input\u001b[0m: \u001b[34mshape\u001b[0m: (384, 95) \u001b[34mdtype\u001b[0m: float32 \n",
            "\u001b[32mINFO:\u001b[0m \u001b[34m output.1.output\u001b[0m: \u001b[34mshape\u001b[0m: (384, 95) \u001b[34mdtype\u001b[0m: <dtype: 'float32'> \n",
            "\n",
            "\u001b[32mINFO:\u001b[0m \u001b[32m37 / 3306\u001b[0m\n",
            "\u001b[32mINFO:\u001b[0m \u001b[35monnx_op_type\u001b[0m: Identity\u001b[35m onnx_op_name\u001b[0m: Identity_1032\n",
            "\u001b[32mINFO:\u001b[0m \u001b[36m input_name.1\u001b[0m: onnx::MatMul_5623 \u001b[36mshape\u001b[0m: (1536, 384) \u001b[36mdtype\u001b[0m: float32\n",
            "\u001b[32mINFO:\u001b[0m \u001b[36m output_name.1\u001b[0m: onnx____MatMul_6183 \u001b[36mshape\u001b[0m: [1536, 384] \u001b[36mdtype\u001b[0m: float32\n",
            "\u001b[32mINFO:\u001b[0m \u001b[35mtf_op_type\u001b[0m: identity\n",
            "\u001b[32mINFO:\u001b[0m \u001b[34m input.1.input\u001b[0m: \u001b[34mshape\u001b[0m: (1536, 384) \u001b[34mdtype\u001b[0m: float32 \n",
            "\u001b[32mINFO:\u001b[0m \u001b[34m output.1.output\u001b[0m: \u001b[34mshape\u001b[0m: (1536, 384) \u001b[34mdtype\u001b[0m: <dtype: 'float32'> \n",
            "\n",
            "\u001b[32mINFO:\u001b[0m \u001b[32m38 / 3306\u001b[0m\n",
            "\u001b[32mINFO:\u001b[0m \u001b[35monnx_op_type\u001b[0m: Identity\u001b[35m onnx_op_name\u001b[0m: Identity_1033\n",
            "\u001b[32mINFO:\u001b[0m \u001b[36m input_name.1\u001b[0m: onnx::MatMul_5622 \u001b[36mshape\u001b[0m: (384, 1536) \u001b[36mdtype\u001b[0m: float32\n",
            "\u001b[32mINFO:\u001b[0m \u001b[36m output_name.1\u001b[0m: onnx____MatMul_6182 \u001b[36mshape\u001b[0m: [384, 1536] \u001b[36mdtype\u001b[0m: float32\n",
            "\u001b[32mINFO:\u001b[0m \u001b[35mtf_op_type\u001b[0m: identity\n",
            "\u001b[32mINFO:\u001b[0m \u001b[34m input.1.input\u001b[0m: \u001b[34mshape\u001b[0m: (384, 1536) \u001b[34mdtype\u001b[0m: float32 \n",
            "\u001b[32mINFO:\u001b[0m \u001b[34m output.1.output\u001b[0m: \u001b[34mshape\u001b[0m: (384, 1536) \u001b[34mdtype\u001b[0m: <dtype: 'float32'> \n",
            "\n",
            "\u001b[32mINFO:\u001b[0m \u001b[32m39 / 3306\u001b[0m\n",
            "\u001b[32mINFO:\u001b[0m \u001b[35monnx_op_type\u001b[0m: Identity\u001b[35m onnx_op_name\u001b[0m: Identity_1034\n",
            "\u001b[32mINFO:\u001b[0m \u001b[36m input_name.1\u001b[0m: onnx::MatMul_5598 \u001b[36mshape\u001b[0m: (384, 768) \u001b[36mdtype\u001b[0m: float32\n",
            "\u001b[32mINFO:\u001b[0m \u001b[36m output_name.1\u001b[0m: onnx____MatMul_6158 \u001b[36mshape\u001b[0m: [384, 768] \u001b[36mdtype\u001b[0m: float32\n",
            "\u001b[32mINFO:\u001b[0m \u001b[35mtf_op_type\u001b[0m: identity\n",
            "\u001b[32mINFO:\u001b[0m \u001b[34m input.1.input\u001b[0m: \u001b[34mshape\u001b[0m: (384, 768) \u001b[34mdtype\u001b[0m: float32 \n",
            "\u001b[32mINFO:\u001b[0m \u001b[34m output.1.output\u001b[0m: \u001b[34mshape\u001b[0m: (384, 768) \u001b[34mdtype\u001b[0m: <dtype: 'float32'> \n",
            "\n",
            "\u001b[32mINFO:\u001b[0m \u001b[32m40 / 3306\u001b[0m\n",
            "\u001b[32mINFO:\u001b[0m \u001b[35monnx_op_type\u001b[0m: Identity\u001b[35m onnx_op_name\u001b[0m: Identity_1035\n",
            "\u001b[32mINFO:\u001b[0m \u001b[36m input_name.1\u001b[0m: onnx::MatMul_5597 \u001b[36mshape\u001b[0m: (384, 384) \u001b[36mdtype\u001b[0m: float32\n",
            "\u001b[32mINFO:\u001b[0m \u001b[36m output_name.1\u001b[0m: onnx____MatMul_6157 \u001b[36mshape\u001b[0m: [384, 384] \u001b[36mdtype\u001b[0m: float32\n",
            "\u001b[32mINFO:\u001b[0m \u001b[35mtf_op_type\u001b[0m: identity\n",
            "\u001b[32mINFO:\u001b[0m \u001b[34m input.1.input\u001b[0m: \u001b[34mshape\u001b[0m: (384, 384) \u001b[34mdtype\u001b[0m: float32 \n",
            "\u001b[32mINFO:\u001b[0m \u001b[34m output.1.output\u001b[0m: \u001b[34mshape\u001b[0m: (384, 384) \u001b[34mdtype\u001b[0m: <dtype: 'float32'> \n",
            "\n",
            "\u001b[32mINFO:\u001b[0m \u001b[32m41 / 3306\u001b[0m\n",
            "\u001b[32mINFO:\u001b[0m \u001b[35monnx_op_type\u001b[0m: Identity\u001b[35m onnx_op_name\u001b[0m: Identity_1036\n",
            "\u001b[32mINFO:\u001b[0m \u001b[36m input_name.1\u001b[0m: onnx::Add_5596 \u001b[36mshape\u001b[0m: (768,) \u001b[36mdtype\u001b[0m: float32\n",
            "\u001b[32mINFO:\u001b[0m \u001b[36m output_name.1\u001b[0m: onnx____Add_6156 \u001b[36mshape\u001b[0m: [768] \u001b[36mdtype\u001b[0m: float32\n",
            "\u001b[32mINFO:\u001b[0m \u001b[35mtf_op_type\u001b[0m: identity\n",
            "\u001b[32mINFO:\u001b[0m \u001b[34m input.1.input\u001b[0m: \u001b[34mshape\u001b[0m: (768,) \u001b[34mdtype\u001b[0m: float32 \n",
            "\u001b[32mINFO:\u001b[0m \u001b[34m output.1.output\u001b[0m: \u001b[34mshape\u001b[0m: (768,) \u001b[34mdtype\u001b[0m: <dtype: 'float32'> \n",
            "\n",
            "\u001b[32mINFO:\u001b[0m \u001b[32m42 / 3306\u001b[0m\n",
            "\u001b[32mINFO:\u001b[0m \u001b[35monnx_op_type\u001b[0m: Identity\u001b[35m onnx_op_name\u001b[0m: Identity_1037\n",
            "\u001b[32mINFO:\u001b[0m \u001b[36m input_name.1\u001b[0m: onnx::Add_5594 \u001b[36mshape\u001b[0m: (384,) \u001b[36mdtype\u001b[0m: float32\n",
            "\u001b[32mINFO:\u001b[0m \u001b[36m output_name.1\u001b[0m: onnx____Add_6154 \u001b[36mshape\u001b[0m: [384] \u001b[36mdtype\u001b[0m: float32\n",
            "\u001b[32mINFO:\u001b[0m \u001b[35mtf_op_type\u001b[0m: identity\n",
            "\u001b[32mINFO:\u001b[0m \u001b[34m input.1.input\u001b[0m: \u001b[34mshape\u001b[0m: (384,) \u001b[34mdtype\u001b[0m: float32 \n",
            "\u001b[32mINFO:\u001b[0m \u001b[34m output.1.output\u001b[0m: \u001b[34mshape\u001b[0m: (384,) \u001b[34mdtype\u001b[0m: <dtype: 'float32'> \n",
            "\n",
            "\u001b[32mINFO:\u001b[0m \u001b[32m43 / 3306\u001b[0m\n",
            "\u001b[32mINFO:\u001b[0m \u001b[35monnx_op_type\u001b[0m: Identity\u001b[35m onnx_op_name\u001b[0m: Identity_1038\n",
            "\u001b[32mINFO:\u001b[0m \u001b[36m input_name.1\u001b[0m: onnx::MatMul_5559 \u001b[36mshape\u001b[0m: (384, 768) \u001b[36mdtype\u001b[0m: float32\n",
            "\u001b[32mINFO:\u001b[0m \u001b[36m output_name.1\u001b[0m: onnx____MatMul_6119 \u001b[36mshape\u001b[0m: [384, 768] \u001b[36mdtype\u001b[0m: float32\n",
            "\u001b[32mINFO:\u001b[0m \u001b[35mtf_op_type\u001b[0m: identity\n",
            "\u001b[32mINFO:\u001b[0m \u001b[34m input.1.input\u001b[0m: \u001b[34mshape\u001b[0m: (384, 768) \u001b[34mdtype\u001b[0m: float32 \n",
            "\u001b[32mINFO:\u001b[0m \u001b[34m output.1.output\u001b[0m: \u001b[34mshape\u001b[0m: (384, 768) \u001b[34mdtype\u001b[0m: <dtype: 'float32'> \n",
            "\n",
            "\u001b[32mINFO:\u001b[0m \u001b[32m44 / 3306\u001b[0m\n",
            "\u001b[32mINFO:\u001b[0m \u001b[35monnx_op_type\u001b[0m: Identity\u001b[35m onnx_op_name\u001b[0m: Identity_1039\n",
            "\u001b[32mINFO:\u001b[0m \u001b[36m input_name.1\u001b[0m: onnx::MatMul_5558 \u001b[36mshape\u001b[0m: (384, 384) \u001b[36mdtype\u001b[0m: float32\n",
            "\u001b[32mINFO:\u001b[0m \u001b[36m output_name.1\u001b[0m: onnx____MatMul_6118 \u001b[36mshape\u001b[0m: [384, 384] \u001b[36mdtype\u001b[0m: float32\n",
            "\u001b[32mINFO:\u001b[0m \u001b[35mtf_op_type\u001b[0m: identity\n",
            "\u001b[32mINFO:\u001b[0m \u001b[34m input.1.input\u001b[0m: \u001b[34mshape\u001b[0m: (384, 384) \u001b[34mdtype\u001b[0m: float32 \n",
            "\u001b[32mINFO:\u001b[0m \u001b[34m output.1.output\u001b[0m: \u001b[34mshape\u001b[0m: (384, 384) \u001b[34mdtype\u001b[0m: <dtype: 'float32'> \n",
            "\n",
            "\u001b[32mINFO:\u001b[0m \u001b[32m45 / 3306\u001b[0m\n",
            "\u001b[32mINFO:\u001b[0m \u001b[35monnx_op_type\u001b[0m: Identity\u001b[35m onnx_op_name\u001b[0m: Identity_1040\n",
            "\u001b[32mINFO:\u001b[0m \u001b[36m input_name.1\u001b[0m: onnx::Add_5557 \u001b[36mshape\u001b[0m: (768,) \u001b[36mdtype\u001b[0m: float32\n",
            "\u001b[32mINFO:\u001b[0m \u001b[36m output_name.1\u001b[0m: onnx____Add_6117 \u001b[36mshape\u001b[0m: [768] \u001b[36mdtype\u001b[0m: float32\n",
            "\u001b[32mINFO:\u001b[0m \u001b[35mtf_op_type\u001b[0m: identity\n",
            "\u001b[32mINFO:\u001b[0m \u001b[34m input.1.input\u001b[0m: \u001b[34mshape\u001b[0m: (768,) \u001b[34mdtype\u001b[0m: float32 \n",
            "\u001b[32mINFO:\u001b[0m \u001b[34m output.1.output\u001b[0m: \u001b[34mshape\u001b[0m: (768,) \u001b[34mdtype\u001b[0m: <dtype: 'float32'> \n",
            "\n",
            "\u001b[32mINFO:\u001b[0m \u001b[32m46 / 3306\u001b[0m\n",
            "\u001b[32mINFO:\u001b[0m \u001b[35monnx_op_type\u001b[0m: Identity\u001b[35m onnx_op_name\u001b[0m: Identity_1041\n",
            "\u001b[32mINFO:\u001b[0m \u001b[36m input_name.1\u001b[0m: onnx::Add_5555 \u001b[36mshape\u001b[0m: (384,) \u001b[36mdtype\u001b[0m: float32\n",
            "\u001b[32mINFO:\u001b[0m \u001b[36m output_name.1\u001b[0m: onnx____Add_6115 \u001b[36mshape\u001b[0m: [384] \u001b[36mdtype\u001b[0m: float32\n",
            "\u001b[32mINFO:\u001b[0m \u001b[35mtf_op_type\u001b[0m: identity\n",
            "\u001b[32mINFO:\u001b[0m \u001b[34m input.1.input\u001b[0m: \u001b[34mshape\u001b[0m: (384,) \u001b[34mdtype\u001b[0m: float32 \n",
            "\u001b[32mINFO:\u001b[0m \u001b[34m output.1.output\u001b[0m: \u001b[34mshape\u001b[0m: (384,) \u001b[34mdtype\u001b[0m: <dtype: 'float32'> \n",
            "\n",
            "\u001b[32mINFO:\u001b[0m \u001b[32m47 / 3306\u001b[0m\n",
            "\u001b[32mINFO:\u001b[0m \u001b[35monnx_op_type\u001b[0m: Identity\u001b[35m onnx_op_name\u001b[0m: Identity_1042\n",
            "\u001b[32mINFO:\u001b[0m \u001b[36m input_name.1\u001b[0m: onnx::MatMul_5624 \u001b[36mshape\u001b[0m: (384, 95) \u001b[36mdtype\u001b[0m: float32\n",
            "\u001b[32mINFO:\u001b[0m \u001b[36m output_name.1\u001b[0m: onnx____MatMul_6072 \u001b[36mshape\u001b[0m: [384, 95] \u001b[36mdtype\u001b[0m: float32\n",
            "\u001b[32mINFO:\u001b[0m \u001b[35mtf_op_type\u001b[0m: identity\n",
            "\u001b[32mINFO:\u001b[0m \u001b[34m input.1.input\u001b[0m: \u001b[34mshape\u001b[0m: (384, 95) \u001b[34mdtype\u001b[0m: float32 \n",
            "\u001b[32mINFO:\u001b[0m \u001b[34m output.1.output\u001b[0m: \u001b[34mshape\u001b[0m: (384, 95) \u001b[34mdtype\u001b[0m: <dtype: 'float32'> \n",
            "\n",
            "\u001b[32mINFO:\u001b[0m \u001b[32m48 / 3306\u001b[0m\n",
            "\u001b[32mINFO:\u001b[0m \u001b[35monnx_op_type\u001b[0m: Identity\u001b[35m onnx_op_name\u001b[0m: Identity_1043\n",
            "\u001b[32mINFO:\u001b[0m \u001b[36m input_name.1\u001b[0m: onnx::MatMul_5623 \u001b[36mshape\u001b[0m: (1536, 384) \u001b[36mdtype\u001b[0m: float32\n",
            "\u001b[32mINFO:\u001b[0m \u001b[36m output_name.1\u001b[0m: onnx____MatMul_6071 \u001b[36mshape\u001b[0m: [1536, 384] \u001b[36mdtype\u001b[0m: float32\n",
            "\u001b[32mINFO:\u001b[0m \u001b[35mtf_op_type\u001b[0m: identity\n",
            "\u001b[32mINFO:\u001b[0m \u001b[34m input.1.input\u001b[0m: \u001b[34mshape\u001b[0m: (1536, 384) \u001b[34mdtype\u001b[0m: float32 \n",
            "\u001b[32mINFO:\u001b[0m \u001b[34m output.1.output\u001b[0m: \u001b[34mshape\u001b[0m: (1536, 384) \u001b[34mdtype\u001b[0m: <dtype: 'float32'> \n",
            "\n",
            "\u001b[32mINFO:\u001b[0m \u001b[32m49 / 3306\u001b[0m\n",
            "\u001b[32mINFO:\u001b[0m \u001b[35monnx_op_type\u001b[0m: Identity\u001b[35m onnx_op_name\u001b[0m: Identity_1044\n",
            "\u001b[32mINFO:\u001b[0m \u001b[36m input_name.1\u001b[0m: onnx::MatMul_5622 \u001b[36mshape\u001b[0m: (384, 1536) \u001b[36mdtype\u001b[0m: float32\n",
            "\u001b[32mINFO:\u001b[0m \u001b[36m output_name.1\u001b[0m: onnx____MatMul_6070 \u001b[36mshape\u001b[0m: [384, 1536] \u001b[36mdtype\u001b[0m: float32\n",
            "\u001b[32mINFO:\u001b[0m \u001b[35mtf_op_type\u001b[0m: identity\n",
            "\u001b[32mINFO:\u001b[0m \u001b[34m input.1.input\u001b[0m: \u001b[34mshape\u001b[0m: (384, 1536) \u001b[34mdtype\u001b[0m: float32 \n",
            "\u001b[32mINFO:\u001b[0m \u001b[34m output.1.output\u001b[0m: \u001b[34mshape\u001b[0m: (384, 1536) \u001b[34mdtype\u001b[0m: <dtype: 'float32'> \n",
            "\n",
            "\u001b[32mINFO:\u001b[0m \u001b[32m50 / 3306\u001b[0m\n",
            "\u001b[32mINFO:\u001b[0m \u001b[35monnx_op_type\u001b[0m: Identity\u001b[35m onnx_op_name\u001b[0m: Identity_1045\n",
            "\u001b[32mINFO:\u001b[0m \u001b[36m input_name.1\u001b[0m: onnx::MatMul_5598 \u001b[36mshape\u001b[0m: (384, 768) \u001b[36mdtype\u001b[0m: float32\n",
            "\u001b[32mINFO:\u001b[0m \u001b[36m output_name.1\u001b[0m: onnx____MatMul_6046 \u001b[36mshape\u001b[0m: [384, 768] \u001b[36mdtype\u001b[0m: float32\n",
            "\u001b[32mINFO:\u001b[0m \u001b[35mtf_op_type\u001b[0m: identity\n",
            "\u001b[32mINFO:\u001b[0m \u001b[34m input.1.input\u001b[0m: \u001b[34mshape\u001b[0m: (384, 768) \u001b[34mdtype\u001b[0m: float32 \n",
            "\u001b[32mINFO:\u001b[0m \u001b[34m output.1.output\u001b[0m: \u001b[34mshape\u001b[0m: (384, 768) \u001b[34mdtype\u001b[0m: <dtype: 'float32'> \n",
            "\n",
            "\u001b[32mINFO:\u001b[0m \u001b[32m51 / 3306\u001b[0m\n",
            "\u001b[32mINFO:\u001b[0m \u001b[35monnx_op_type\u001b[0m: Identity\u001b[35m onnx_op_name\u001b[0m: Identity_1046\n",
            "\u001b[32mINFO:\u001b[0m \u001b[36m input_name.1\u001b[0m: onnx::MatMul_5597 \u001b[36mshape\u001b[0m: (384, 384) \u001b[36mdtype\u001b[0m: float32\n",
            "\u001b[32mINFO:\u001b[0m \u001b[36m output_name.1\u001b[0m: onnx____MatMul_6045 \u001b[36mshape\u001b[0m: [384, 384] \u001b[36mdtype\u001b[0m: float32\n",
            "\u001b[32mINFO:\u001b[0m \u001b[35mtf_op_type\u001b[0m: identity\n",
            "\u001b[32mINFO:\u001b[0m \u001b[34m input.1.input\u001b[0m: \u001b[34mshape\u001b[0m: (384, 384) \u001b[34mdtype\u001b[0m: float32 \n",
            "\u001b[32mINFO:\u001b[0m \u001b[34m output.1.output\u001b[0m: \u001b[34mshape\u001b[0m: (384, 384) \u001b[34mdtype\u001b[0m: <dtype: 'float32'> \n",
            "\n",
            "\u001b[32mINFO:\u001b[0m \u001b[32m52 / 3306\u001b[0m\n",
            "\u001b[32mINFO:\u001b[0m \u001b[35monnx_op_type\u001b[0m: Identity\u001b[35m onnx_op_name\u001b[0m: Identity_1047\n",
            "\u001b[32mINFO:\u001b[0m \u001b[36m input_name.1\u001b[0m: onnx::Add_5596 \u001b[36mshape\u001b[0m: (768,) \u001b[36mdtype\u001b[0m: float32\n",
            "\u001b[32mINFO:\u001b[0m \u001b[36m output_name.1\u001b[0m: onnx____Add_6044 \u001b[36mshape\u001b[0m: [768] \u001b[36mdtype\u001b[0m: float32\n",
            "\u001b[32mINFO:\u001b[0m \u001b[35mtf_op_type\u001b[0m: identity\n",
            "\u001b[32mINFO:\u001b[0m \u001b[34m input.1.input\u001b[0m: \u001b[34mshape\u001b[0m: (768,) \u001b[34mdtype\u001b[0m: float32 \n",
            "\u001b[32mINFO:\u001b[0m \u001b[34m output.1.output\u001b[0m: \u001b[34mshape\u001b[0m: (768,) \u001b[34mdtype\u001b[0m: <dtype: 'float32'> \n",
            "\n",
            "\u001b[32mINFO:\u001b[0m \u001b[32m53 / 3306\u001b[0m\n",
            "\u001b[32mINFO:\u001b[0m \u001b[35monnx_op_type\u001b[0m: Identity\u001b[35m onnx_op_name\u001b[0m: Identity_1048\n",
            "\u001b[32mINFO:\u001b[0m \u001b[36m input_name.1\u001b[0m: onnx::Add_5594 \u001b[36mshape\u001b[0m: (384,) \u001b[36mdtype\u001b[0m: float32\n",
            "\u001b[32mINFO:\u001b[0m \u001b[36m output_name.1\u001b[0m: onnx____Add_6042 \u001b[36mshape\u001b[0m: [384] \u001b[36mdtype\u001b[0m: float32\n",
            "\u001b[32mINFO:\u001b[0m \u001b[35mtf_op_type\u001b[0m: identity\n",
            "\u001b[32mINFO:\u001b[0m \u001b[34m input.1.input\u001b[0m: \u001b[34mshape\u001b[0m: (384,) \u001b[34mdtype\u001b[0m: float32 \n",
            "\u001b[32mINFO:\u001b[0m \u001b[34m output.1.output\u001b[0m: \u001b[34mshape\u001b[0m: (384,) \u001b[34mdtype\u001b[0m: <dtype: 'float32'> \n",
            "\n",
            "\u001b[32mINFO:\u001b[0m \u001b[32m54 / 3306\u001b[0m\n",
            "\u001b[32mINFO:\u001b[0m \u001b[35monnx_op_type\u001b[0m: Identity\u001b[35m onnx_op_name\u001b[0m: Identity_1049\n",
            "\u001b[32mINFO:\u001b[0m \u001b[36m input_name.1\u001b[0m: onnx::MatMul_5559 \u001b[36mshape\u001b[0m: (384, 768) \u001b[36mdtype\u001b[0m: float32\n",
            "\u001b[32mINFO:\u001b[0m \u001b[36m output_name.1\u001b[0m: onnx____MatMul_6007 \u001b[36mshape\u001b[0m: [384, 768] \u001b[36mdtype\u001b[0m: float32\n",
            "\u001b[32mINFO:\u001b[0m \u001b[35mtf_op_type\u001b[0m: identity\n",
            "\u001b[32mINFO:\u001b[0m \u001b[34m input.1.input\u001b[0m: \u001b[34mshape\u001b[0m: (384, 768) \u001b[34mdtype\u001b[0m: float32 \n",
            "\u001b[32mINFO:\u001b[0m \u001b[34m output.1.output\u001b[0m: \u001b[34mshape\u001b[0m: (384, 768) \u001b[34mdtype\u001b[0m: <dtype: 'float32'> \n",
            "\n",
            "\u001b[32mINFO:\u001b[0m \u001b[32m55 / 3306\u001b[0m\n",
            "\u001b[32mINFO:\u001b[0m \u001b[35monnx_op_type\u001b[0m: Identity\u001b[35m onnx_op_name\u001b[0m: Identity_1050\n",
            "\u001b[32mINFO:\u001b[0m \u001b[36m input_name.1\u001b[0m: onnx::MatMul_5558 \u001b[36mshape\u001b[0m: (384, 384) \u001b[36mdtype\u001b[0m: float32\n",
            "\u001b[32mINFO:\u001b[0m \u001b[36m output_name.1\u001b[0m: onnx____MatMul_6006 \u001b[36mshape\u001b[0m: [384, 384] \u001b[36mdtype\u001b[0m: float32\n",
            "\u001b[32mINFO:\u001b[0m \u001b[35mtf_op_type\u001b[0m: identity\n",
            "\u001b[32mINFO:\u001b[0m \u001b[34m input.1.input\u001b[0m: \u001b[34mshape\u001b[0m: (384, 384) \u001b[34mdtype\u001b[0m: float32 \n",
            "\u001b[32mINFO:\u001b[0m \u001b[34m output.1.output\u001b[0m: \u001b[34mshape\u001b[0m: (384, 384) \u001b[34mdtype\u001b[0m: <dtype: 'float32'> \n",
            "\n",
            "\u001b[32mINFO:\u001b[0m \u001b[32m56 / 3306\u001b[0m\n",
            "\u001b[32mINFO:\u001b[0m \u001b[35monnx_op_type\u001b[0m: Identity\u001b[35m onnx_op_name\u001b[0m: Identity_1051\n",
            "\u001b[32mINFO:\u001b[0m \u001b[36m input_name.1\u001b[0m: onnx::Add_5557 \u001b[36mshape\u001b[0m: (768,) \u001b[36mdtype\u001b[0m: float32\n",
            "\u001b[32mINFO:\u001b[0m \u001b[36m output_name.1\u001b[0m: onnx____Add_6005 \u001b[36mshape\u001b[0m: [768] \u001b[36mdtype\u001b[0m: float32\n",
            "\u001b[32mINFO:\u001b[0m \u001b[35mtf_op_type\u001b[0m: identity\n",
            "\u001b[32mINFO:\u001b[0m \u001b[34m input.1.input\u001b[0m: \u001b[34mshape\u001b[0m: (768,) \u001b[34mdtype\u001b[0m: float32 \n",
            "\u001b[32mINFO:\u001b[0m \u001b[34m output.1.output\u001b[0m: \u001b[34mshape\u001b[0m: (768,) \u001b[34mdtype\u001b[0m: <dtype: 'float32'> \n",
            "\n",
            "\u001b[32mINFO:\u001b[0m \u001b[32m57 / 3306\u001b[0m\n",
            "\u001b[32mINFO:\u001b[0m \u001b[35monnx_op_type\u001b[0m: Identity\u001b[35m onnx_op_name\u001b[0m: Identity_1052\n",
            "\u001b[32mINFO:\u001b[0m \u001b[36m input_name.1\u001b[0m: onnx::Add_5555 \u001b[36mshape\u001b[0m: (384,) \u001b[36mdtype\u001b[0m: float32\n",
            "\u001b[32mINFO:\u001b[0m \u001b[36m output_name.1\u001b[0m: onnx____Add_6003 \u001b[36mshape\u001b[0m: [384] \u001b[36mdtype\u001b[0m: float32\n",
            "\u001b[32mINFO:\u001b[0m \u001b[35mtf_op_type\u001b[0m: identity\n",
            "\u001b[32mINFO:\u001b[0m \u001b[34m input.1.input\u001b[0m: \u001b[34mshape\u001b[0m: (384,) \u001b[34mdtype\u001b[0m: float32 \n",
            "\u001b[32mINFO:\u001b[0m \u001b[34m output.1.output\u001b[0m: \u001b[34mshape\u001b[0m: (384,) \u001b[34mdtype\u001b[0m: <dtype: 'float32'> \n",
            "\n",
            "\u001b[32mINFO:\u001b[0m \u001b[32m58 / 3306\u001b[0m\n",
            "\u001b[32mINFO:\u001b[0m \u001b[35monnx_op_type\u001b[0m: Identity\u001b[35m onnx_op_name\u001b[0m: Identity_1053\n",
            "\u001b[32mINFO:\u001b[0m \u001b[36m input_name.1\u001b[0m: onnx::MatMul_5624 \u001b[36mshape\u001b[0m: (384, 95) \u001b[36mdtype\u001b[0m: float32\n",
            "\u001b[32mINFO:\u001b[0m \u001b[36m output_name.1\u001b[0m: onnx____MatMul_5960 \u001b[36mshape\u001b[0m: [384, 95] \u001b[36mdtype\u001b[0m: float32\n",
            "\u001b[32mINFO:\u001b[0m \u001b[35mtf_op_type\u001b[0m: identity\n",
            "\u001b[32mINFO:\u001b[0m \u001b[34m input.1.input\u001b[0m: \u001b[34mshape\u001b[0m: (384, 95) \u001b[34mdtype\u001b[0m: float32 \n",
            "\u001b[32mINFO:\u001b[0m \u001b[34m output.1.output\u001b[0m: \u001b[34mshape\u001b[0m: (384, 95) \u001b[34mdtype\u001b[0m: <dtype: 'float32'> \n",
            "\n",
            "\u001b[32mINFO:\u001b[0m \u001b[32m59 / 3306\u001b[0m\n",
            "\u001b[32mINFO:\u001b[0m \u001b[35monnx_op_type\u001b[0m: Identity\u001b[35m onnx_op_name\u001b[0m: Identity_1054\n",
            "\u001b[32mINFO:\u001b[0m \u001b[36m input_name.1\u001b[0m: onnx::MatMul_5623 \u001b[36mshape\u001b[0m: (1536, 384) \u001b[36mdtype\u001b[0m: float32\n",
            "\u001b[32mINFO:\u001b[0m \u001b[36m output_name.1\u001b[0m: onnx____MatMul_5959 \u001b[36mshape\u001b[0m: [1536, 384] \u001b[36mdtype\u001b[0m: float32\n",
            "\u001b[32mINFO:\u001b[0m \u001b[35mtf_op_type\u001b[0m: identity\n",
            "\u001b[32mINFO:\u001b[0m \u001b[34m input.1.input\u001b[0m: \u001b[34mshape\u001b[0m: (1536, 384) \u001b[34mdtype\u001b[0m: float32 \n",
            "\u001b[32mINFO:\u001b[0m \u001b[34m output.1.output\u001b[0m: \u001b[34mshape\u001b[0m: (1536, 384) \u001b[34mdtype\u001b[0m: <dtype: 'float32'> \n",
            "\n",
            "\u001b[32mINFO:\u001b[0m \u001b[32m60 / 3306\u001b[0m\n",
            "\u001b[32mINFO:\u001b[0m \u001b[35monnx_op_type\u001b[0m: Identity\u001b[35m onnx_op_name\u001b[0m: Identity_1055\n",
            "\u001b[32mINFO:\u001b[0m \u001b[36m input_name.1\u001b[0m: onnx::MatMul_5622 \u001b[36mshape\u001b[0m: (384, 1536) \u001b[36mdtype\u001b[0m: float32\n",
            "\u001b[32mINFO:\u001b[0m \u001b[36m output_name.1\u001b[0m: onnx____MatMul_5958 \u001b[36mshape\u001b[0m: [384, 1536] \u001b[36mdtype\u001b[0m: float32\n",
            "\u001b[32mINFO:\u001b[0m \u001b[35mtf_op_type\u001b[0m: identity\n",
            "\u001b[32mINFO:\u001b[0m \u001b[34m input.1.input\u001b[0m: \u001b[34mshape\u001b[0m: (384, 1536) \u001b[34mdtype\u001b[0m: float32 \n",
            "\u001b[32mINFO:\u001b[0m \u001b[34m output.1.output\u001b[0m: \u001b[34mshape\u001b[0m: (384, 1536) \u001b[34mdtype\u001b[0m: <dtype: 'float32'> \n",
            "\n",
            "\u001b[32mINFO:\u001b[0m \u001b[32m61 / 3306\u001b[0m\n",
            "\u001b[32mINFO:\u001b[0m \u001b[35monnx_op_type\u001b[0m: Identity\u001b[35m onnx_op_name\u001b[0m: Identity_1056\n",
            "\u001b[32mINFO:\u001b[0m \u001b[36m input_name.1\u001b[0m: onnx::MatMul_5598 \u001b[36mshape\u001b[0m: (384, 768) \u001b[36mdtype\u001b[0m: float32\n",
            "\u001b[32mINFO:\u001b[0m \u001b[36m output_name.1\u001b[0m: onnx____MatMul_5934 \u001b[36mshape\u001b[0m: [384, 768] \u001b[36mdtype\u001b[0m: float32\n",
            "\u001b[32mINFO:\u001b[0m \u001b[35mtf_op_type\u001b[0m: identity\n",
            "\u001b[32mINFO:\u001b[0m \u001b[34m input.1.input\u001b[0m: \u001b[34mshape\u001b[0m: (384, 768) \u001b[34mdtype\u001b[0m: float32 \n",
            "\u001b[32mINFO:\u001b[0m \u001b[34m output.1.output\u001b[0m: \u001b[34mshape\u001b[0m: (384, 768) \u001b[34mdtype\u001b[0m: <dtype: 'float32'> \n",
            "\n",
            "\u001b[32mINFO:\u001b[0m \u001b[32m62 / 3306\u001b[0m\n",
            "\u001b[32mINFO:\u001b[0m \u001b[35monnx_op_type\u001b[0m: Identity\u001b[35m onnx_op_name\u001b[0m: Identity_1057\n",
            "\u001b[32mINFO:\u001b[0m \u001b[36m input_name.1\u001b[0m: onnx::MatMul_5597 \u001b[36mshape\u001b[0m: (384, 384) \u001b[36mdtype\u001b[0m: float32\n",
            "\u001b[32mINFO:\u001b[0m \u001b[36m output_name.1\u001b[0m: onnx____MatMul_5933 \u001b[36mshape\u001b[0m: [384, 384] \u001b[36mdtype\u001b[0m: float32\n",
            "\u001b[32mINFO:\u001b[0m \u001b[35mtf_op_type\u001b[0m: identity\n",
            "\u001b[32mINFO:\u001b[0m \u001b[34m input.1.input\u001b[0m: \u001b[34mshape\u001b[0m: (384, 384) \u001b[34mdtype\u001b[0m: float32 \n",
            "\u001b[32mINFO:\u001b[0m \u001b[34m output.1.output\u001b[0m: \u001b[34mshape\u001b[0m: (384, 384) \u001b[34mdtype\u001b[0m: <dtype: 'float32'> \n",
            "\n",
            "\u001b[32mINFO:\u001b[0m \u001b[32m63 / 3306\u001b[0m\n",
            "\u001b[32mINFO:\u001b[0m \u001b[35monnx_op_type\u001b[0m: Identity\u001b[35m onnx_op_name\u001b[0m: Identity_1058\n",
            "\u001b[32mINFO:\u001b[0m \u001b[36m input_name.1\u001b[0m: onnx::Add_5596 \u001b[36mshape\u001b[0m: (768,) \u001b[36mdtype\u001b[0m: float32\n",
            "\u001b[32mINFO:\u001b[0m \u001b[36m output_name.1\u001b[0m: onnx____Add_5932 \u001b[36mshape\u001b[0m: [768] \u001b[36mdtype\u001b[0m: float32\n",
            "\u001b[32mINFO:\u001b[0m \u001b[35mtf_op_type\u001b[0m: identity\n",
            "\u001b[32mINFO:\u001b[0m \u001b[34m input.1.input\u001b[0m: \u001b[34mshape\u001b[0m: (768,) \u001b[34mdtype\u001b[0m: float32 \n",
            "\u001b[32mINFO:\u001b[0m \u001b[34m output.1.output\u001b[0m: \u001b[34mshape\u001b[0m: (768,) \u001b[34mdtype\u001b[0m: <dtype: 'float32'> \n",
            "\n",
            "\u001b[32mINFO:\u001b[0m \u001b[32m64 / 3306\u001b[0m\n",
            "\u001b[32mINFO:\u001b[0m \u001b[35monnx_op_type\u001b[0m: Identity\u001b[35m onnx_op_name\u001b[0m: Identity_1059\n",
            "\u001b[32mINFO:\u001b[0m \u001b[36m input_name.1\u001b[0m: onnx::Add_5594 \u001b[36mshape\u001b[0m: (384,) \u001b[36mdtype\u001b[0m: float32\n",
            "\u001b[32mINFO:\u001b[0m \u001b[36m output_name.1\u001b[0m: onnx____Add_5930 \u001b[36mshape\u001b[0m: [384] \u001b[36mdtype\u001b[0m: float32\n",
            "\u001b[32mINFO:\u001b[0m \u001b[35mtf_op_type\u001b[0m: identity\n",
            "\u001b[32mINFO:\u001b[0m \u001b[34m input.1.input\u001b[0m: \u001b[34mshape\u001b[0m: (384,) \u001b[34mdtype\u001b[0m: float32 \n",
            "\u001b[32mINFO:\u001b[0m \u001b[34m output.1.output\u001b[0m: \u001b[34mshape\u001b[0m: (384,) \u001b[34mdtype\u001b[0m: <dtype: 'float32'> \n",
            "\n",
            "\u001b[32mINFO:\u001b[0m \u001b[32m65 / 3306\u001b[0m\n",
            "\u001b[32mINFO:\u001b[0m \u001b[35monnx_op_type\u001b[0m: Identity\u001b[35m onnx_op_name\u001b[0m: Identity_1060\n",
            "\u001b[32mINFO:\u001b[0m \u001b[36m input_name.1\u001b[0m: onnx::MatMul_5559 \u001b[36mshape\u001b[0m: (384, 768) \u001b[36mdtype\u001b[0m: float32\n",
            "\u001b[32mINFO:\u001b[0m \u001b[36m output_name.1\u001b[0m: onnx____MatMul_5895 \u001b[36mshape\u001b[0m: [384, 768] \u001b[36mdtype\u001b[0m: float32\n",
            "\u001b[32mINFO:\u001b[0m \u001b[35mtf_op_type\u001b[0m: identity\n",
            "\u001b[32mINFO:\u001b[0m \u001b[34m input.1.input\u001b[0m: \u001b[34mshape\u001b[0m: (384, 768) \u001b[34mdtype\u001b[0m: float32 \n",
            "\u001b[32mINFO:\u001b[0m \u001b[34m output.1.output\u001b[0m: \u001b[34mshape\u001b[0m: (384, 768) \u001b[34mdtype\u001b[0m: <dtype: 'float32'> \n",
            "\n",
            "\u001b[32mINFO:\u001b[0m \u001b[32m66 / 3306\u001b[0m\n",
            "\u001b[32mINFO:\u001b[0m \u001b[35monnx_op_type\u001b[0m: Identity\u001b[35m onnx_op_name\u001b[0m: Identity_1061\n",
            "\u001b[32mINFO:\u001b[0m \u001b[36m input_name.1\u001b[0m: onnx::MatMul_5558 \u001b[36mshape\u001b[0m: (384, 384) \u001b[36mdtype\u001b[0m: float32\n",
            "\u001b[32mINFO:\u001b[0m \u001b[36m output_name.1\u001b[0m: onnx____MatMul_5894 \u001b[36mshape\u001b[0m: [384, 384] \u001b[36mdtype\u001b[0m: float32\n",
            "\u001b[32mINFO:\u001b[0m \u001b[35mtf_op_type\u001b[0m: identity\n",
            "\u001b[32mINFO:\u001b[0m \u001b[34m input.1.input\u001b[0m: \u001b[34mshape\u001b[0m: (384, 384) \u001b[34mdtype\u001b[0m: float32 \n",
            "\u001b[32mINFO:\u001b[0m \u001b[34m output.1.output\u001b[0m: \u001b[34mshape\u001b[0m: (384, 384) \u001b[34mdtype\u001b[0m: <dtype: 'float32'> \n",
            "\n",
            "\u001b[32mINFO:\u001b[0m \u001b[32m67 / 3306\u001b[0m\n",
            "\u001b[32mINFO:\u001b[0m \u001b[35monnx_op_type\u001b[0m: Identity\u001b[35m onnx_op_name\u001b[0m: Identity_1062\n",
            "\u001b[32mINFO:\u001b[0m \u001b[36m input_name.1\u001b[0m: onnx::Add_5557 \u001b[36mshape\u001b[0m: (768,) \u001b[36mdtype\u001b[0m: float32\n",
            "\u001b[32mINFO:\u001b[0m \u001b[36m output_name.1\u001b[0m: onnx____Add_5893 \u001b[36mshape\u001b[0m: [768] \u001b[36mdtype\u001b[0m: float32\n",
            "\u001b[32mINFO:\u001b[0m \u001b[35mtf_op_type\u001b[0m: identity\n",
            "\u001b[32mINFO:\u001b[0m \u001b[34m input.1.input\u001b[0m: \u001b[34mshape\u001b[0m: (768,) \u001b[34mdtype\u001b[0m: float32 \n",
            "\u001b[32mINFO:\u001b[0m \u001b[34m output.1.output\u001b[0m: \u001b[34mshape\u001b[0m: (768,) \u001b[34mdtype\u001b[0m: <dtype: 'float32'> \n",
            "\n",
            "\u001b[32mINFO:\u001b[0m \u001b[32m68 / 3306\u001b[0m\n",
            "\u001b[32mINFO:\u001b[0m \u001b[35monnx_op_type\u001b[0m: Identity\u001b[35m onnx_op_name\u001b[0m: Identity_1063\n",
            "\u001b[32mINFO:\u001b[0m \u001b[36m input_name.1\u001b[0m: onnx::Add_5555 \u001b[36mshape\u001b[0m: (384,) \u001b[36mdtype\u001b[0m: float32\n",
            "\u001b[32mINFO:\u001b[0m \u001b[36m output_name.1\u001b[0m: onnx____Add_5891 \u001b[36mshape\u001b[0m: [384] \u001b[36mdtype\u001b[0m: float32\n",
            "\u001b[32mINFO:\u001b[0m \u001b[35mtf_op_type\u001b[0m: identity\n",
            "\u001b[32mINFO:\u001b[0m \u001b[34m input.1.input\u001b[0m: \u001b[34mshape\u001b[0m: (384,) \u001b[34mdtype\u001b[0m: float32 \n",
            "\u001b[32mINFO:\u001b[0m \u001b[34m output.1.output\u001b[0m: \u001b[34mshape\u001b[0m: (384,) \u001b[34mdtype\u001b[0m: <dtype: 'float32'> \n",
            "\n",
            "\u001b[32mINFO:\u001b[0m \u001b[32m69 / 3306\u001b[0m\n",
            "\u001b[32mINFO:\u001b[0m \u001b[35monnx_op_type\u001b[0m: Identity\u001b[35m onnx_op_name\u001b[0m: Identity_1064\n",
            "\u001b[32mINFO:\u001b[0m \u001b[36m input_name.1\u001b[0m: onnx::MatMul_5624 \u001b[36mshape\u001b[0m: (384, 95) \u001b[36mdtype\u001b[0m: float32\n",
            "\u001b[32mINFO:\u001b[0m \u001b[36m output_name.1\u001b[0m: onnx____MatMul_5848 \u001b[36mshape\u001b[0m: [384, 95] \u001b[36mdtype\u001b[0m: float32\n",
            "\u001b[32mINFO:\u001b[0m \u001b[35mtf_op_type\u001b[0m: identity\n",
            "\u001b[32mINFO:\u001b[0m \u001b[34m input.1.input\u001b[0m: \u001b[34mshape\u001b[0m: (384, 95) \u001b[34mdtype\u001b[0m: float32 \n",
            "\u001b[32mINFO:\u001b[0m \u001b[34m output.1.output\u001b[0m: \u001b[34mshape\u001b[0m: (384, 95) \u001b[34mdtype\u001b[0m: <dtype: 'float32'> \n",
            "\n",
            "\u001b[32mINFO:\u001b[0m \u001b[32m70 / 3306\u001b[0m\n",
            "\u001b[32mINFO:\u001b[0m \u001b[35monnx_op_type\u001b[0m: Identity\u001b[35m onnx_op_name\u001b[0m: Identity_1065\n",
            "\u001b[32mINFO:\u001b[0m \u001b[36m input_name.1\u001b[0m: onnx::MatMul_5623 \u001b[36mshape\u001b[0m: (1536, 384) \u001b[36mdtype\u001b[0m: float32\n",
            "\u001b[32mINFO:\u001b[0m \u001b[36m output_name.1\u001b[0m: onnx____MatMul_5847 \u001b[36mshape\u001b[0m: [1536, 384] \u001b[36mdtype\u001b[0m: float32\n",
            "\u001b[32mINFO:\u001b[0m \u001b[35mtf_op_type\u001b[0m: identity\n",
            "\u001b[32mINFO:\u001b[0m \u001b[34m input.1.input\u001b[0m: \u001b[34mshape\u001b[0m: (1536, 384) \u001b[34mdtype\u001b[0m: float32 \n",
            "\u001b[32mINFO:\u001b[0m \u001b[34m output.1.output\u001b[0m: \u001b[34mshape\u001b[0m: (1536, 384) \u001b[34mdtype\u001b[0m: <dtype: 'float32'> \n",
            "\n",
            "\u001b[32mINFO:\u001b[0m \u001b[32m71 / 3306\u001b[0m\n",
            "\u001b[32mINFO:\u001b[0m \u001b[35monnx_op_type\u001b[0m: Identity\u001b[35m onnx_op_name\u001b[0m: Identity_1066\n",
            "\u001b[32mINFO:\u001b[0m \u001b[36m input_name.1\u001b[0m: onnx::MatMul_5622 \u001b[36mshape\u001b[0m: (384, 1536) \u001b[36mdtype\u001b[0m: float32\n",
            "\u001b[32mINFO:\u001b[0m \u001b[36m output_name.1\u001b[0m: onnx____MatMul_5846 \u001b[36mshape\u001b[0m: [384, 1536] \u001b[36mdtype\u001b[0m: float32\n",
            "\u001b[32mINFO:\u001b[0m \u001b[35mtf_op_type\u001b[0m: identity\n",
            "\u001b[32mINFO:\u001b[0m \u001b[34m input.1.input\u001b[0m: \u001b[34mshape\u001b[0m: (384, 1536) \u001b[34mdtype\u001b[0m: float32 \n",
            "\u001b[32mINFO:\u001b[0m \u001b[34m output.1.output\u001b[0m: \u001b[34mshape\u001b[0m: (384, 1536) \u001b[34mdtype\u001b[0m: <dtype: 'float32'> \n",
            "\n",
            "\u001b[32mINFO:\u001b[0m \u001b[32m72 / 3306\u001b[0m\n",
            "\u001b[32mINFO:\u001b[0m \u001b[35monnx_op_type\u001b[0m: Identity\u001b[35m onnx_op_name\u001b[0m: Identity_1067\n",
            "\u001b[32mINFO:\u001b[0m \u001b[36m input_name.1\u001b[0m: onnx::MatMul_5598 \u001b[36mshape\u001b[0m: (384, 768) \u001b[36mdtype\u001b[0m: float32\n",
            "\u001b[32mINFO:\u001b[0m \u001b[36m output_name.1\u001b[0m: onnx____MatMul_5822 \u001b[36mshape\u001b[0m: [384, 768] \u001b[36mdtype\u001b[0m: float32\n",
            "\u001b[32mINFO:\u001b[0m \u001b[35mtf_op_type\u001b[0m: identity\n",
            "\u001b[32mINFO:\u001b[0m \u001b[34m input.1.input\u001b[0m: \u001b[34mshape\u001b[0m: (384, 768) \u001b[34mdtype\u001b[0m: float32 \n",
            "\u001b[32mINFO:\u001b[0m \u001b[34m output.1.output\u001b[0m: \u001b[34mshape\u001b[0m: (384, 768) \u001b[34mdtype\u001b[0m: <dtype: 'float32'> \n",
            "\n",
            "\u001b[32mINFO:\u001b[0m \u001b[32m73 / 3306\u001b[0m\n",
            "\u001b[32mINFO:\u001b[0m \u001b[35monnx_op_type\u001b[0m: Identity\u001b[35m onnx_op_name\u001b[0m: Identity_1068\n",
            "\u001b[32mINFO:\u001b[0m \u001b[36m input_name.1\u001b[0m: onnx::MatMul_5597 \u001b[36mshape\u001b[0m: (384, 384) \u001b[36mdtype\u001b[0m: float32\n",
            "\u001b[32mINFO:\u001b[0m \u001b[36m output_name.1\u001b[0m: onnx____MatMul_5821 \u001b[36mshape\u001b[0m: [384, 384] \u001b[36mdtype\u001b[0m: float32\n",
            "\u001b[32mINFO:\u001b[0m \u001b[35mtf_op_type\u001b[0m: identity\n",
            "\u001b[32mINFO:\u001b[0m \u001b[34m input.1.input\u001b[0m: \u001b[34mshape\u001b[0m: (384, 384) \u001b[34mdtype\u001b[0m: float32 \n",
            "\u001b[32mINFO:\u001b[0m \u001b[34m output.1.output\u001b[0m: \u001b[34mshape\u001b[0m: (384, 384) \u001b[34mdtype\u001b[0m: <dtype: 'float32'> \n",
            "\n",
            "\u001b[32mINFO:\u001b[0m \u001b[32m74 / 3306\u001b[0m\n",
            "\u001b[32mINFO:\u001b[0m \u001b[35monnx_op_type\u001b[0m: Identity\u001b[35m onnx_op_name\u001b[0m: Identity_1069\n",
            "\u001b[32mINFO:\u001b[0m \u001b[36m input_name.1\u001b[0m: onnx::Add_5596 \u001b[36mshape\u001b[0m: (768,) \u001b[36mdtype\u001b[0m: float32\n",
            "\u001b[32mINFO:\u001b[0m \u001b[36m output_name.1\u001b[0m: onnx____Add_5820 \u001b[36mshape\u001b[0m: [768] \u001b[36mdtype\u001b[0m: float32\n",
            "\u001b[32mINFO:\u001b[0m \u001b[35mtf_op_type\u001b[0m: identity\n",
            "\u001b[32mINFO:\u001b[0m \u001b[34m input.1.input\u001b[0m: \u001b[34mshape\u001b[0m: (768,) \u001b[34mdtype\u001b[0m: float32 \n",
            "\u001b[32mINFO:\u001b[0m \u001b[34m output.1.output\u001b[0m: \u001b[34mshape\u001b[0m: (768,) \u001b[34mdtype\u001b[0m: <dtype: 'float32'> \n",
            "\n",
            "\u001b[32mINFO:\u001b[0m \u001b[32m75 / 3306\u001b[0m\n",
            "\u001b[32mINFO:\u001b[0m \u001b[35monnx_op_type\u001b[0m: Identity\u001b[35m onnx_op_name\u001b[0m: Identity_1070\n",
            "\u001b[32mINFO:\u001b[0m \u001b[36m input_name.1\u001b[0m: onnx::Add_5594 \u001b[36mshape\u001b[0m: (384,) \u001b[36mdtype\u001b[0m: float32\n",
            "\u001b[32mINFO:\u001b[0m \u001b[36m output_name.1\u001b[0m: onnx____Add_5818 \u001b[36mshape\u001b[0m: [384] \u001b[36mdtype\u001b[0m: float32\n",
            "\u001b[32mINFO:\u001b[0m \u001b[35mtf_op_type\u001b[0m: identity\n",
            "\u001b[32mINFO:\u001b[0m \u001b[34m input.1.input\u001b[0m: \u001b[34mshape\u001b[0m: (384,) \u001b[34mdtype\u001b[0m: float32 \n",
            "\u001b[32mINFO:\u001b[0m \u001b[34m output.1.output\u001b[0m: \u001b[34mshape\u001b[0m: (384,) \u001b[34mdtype\u001b[0m: <dtype: 'float32'> \n",
            "\n",
            "\u001b[32mINFO:\u001b[0m \u001b[32m76 / 3306\u001b[0m\n",
            "\u001b[32mINFO:\u001b[0m \u001b[35monnx_op_type\u001b[0m: Identity\u001b[35m onnx_op_name\u001b[0m: Identity_1071\n",
            "\u001b[32mINFO:\u001b[0m \u001b[36m input_name.1\u001b[0m: onnx::MatMul_5559 \u001b[36mshape\u001b[0m: (384, 768) \u001b[36mdtype\u001b[0m: float32\n",
            "\u001b[32mINFO:\u001b[0m \u001b[36m output_name.1\u001b[0m: onnx____MatMul_5783 \u001b[36mshape\u001b[0m: [384, 768] \u001b[36mdtype\u001b[0m: float32\n",
            "\u001b[32mINFO:\u001b[0m \u001b[35mtf_op_type\u001b[0m: identity\n",
            "\u001b[32mINFO:\u001b[0m \u001b[34m input.1.input\u001b[0m: \u001b[34mshape\u001b[0m: (384, 768) \u001b[34mdtype\u001b[0m: float32 \n",
            "\u001b[32mINFO:\u001b[0m \u001b[34m output.1.output\u001b[0m: \u001b[34mshape\u001b[0m: (384, 768) \u001b[34mdtype\u001b[0m: <dtype: 'float32'> \n",
            "\n",
            "\u001b[32mINFO:\u001b[0m \u001b[32m77 / 3306\u001b[0m\n",
            "\u001b[32mINFO:\u001b[0m \u001b[35monnx_op_type\u001b[0m: Identity\u001b[35m onnx_op_name\u001b[0m: Identity_1072\n",
            "\u001b[32mINFO:\u001b[0m \u001b[36m input_name.1\u001b[0m: onnx::MatMul_5558 \u001b[36mshape\u001b[0m: (384, 384) \u001b[36mdtype\u001b[0m: float32\n",
            "\u001b[32mINFO:\u001b[0m \u001b[36m output_name.1\u001b[0m: onnx____MatMul_5782 \u001b[36mshape\u001b[0m: [384, 384] \u001b[36mdtype\u001b[0m: float32\n",
            "\u001b[32mINFO:\u001b[0m \u001b[35mtf_op_type\u001b[0m: identity\n",
            "\u001b[32mINFO:\u001b[0m \u001b[34m input.1.input\u001b[0m: \u001b[34mshape\u001b[0m: (384, 384) \u001b[34mdtype\u001b[0m: float32 \n",
            "\u001b[32mINFO:\u001b[0m \u001b[34m output.1.output\u001b[0m: \u001b[34mshape\u001b[0m: (384, 384) \u001b[34mdtype\u001b[0m: <dtype: 'float32'> \n",
            "\n",
            "\u001b[32mINFO:\u001b[0m \u001b[32m78 / 3306\u001b[0m\n",
            "\u001b[32mINFO:\u001b[0m \u001b[35monnx_op_type\u001b[0m: Identity\u001b[35m onnx_op_name\u001b[0m: Identity_1073\n",
            "\u001b[32mINFO:\u001b[0m \u001b[36m input_name.1\u001b[0m: onnx::Add_5557 \u001b[36mshape\u001b[0m: (768,) \u001b[36mdtype\u001b[0m: float32\n",
            "\u001b[32mINFO:\u001b[0m \u001b[36m output_name.1\u001b[0m: onnx____Add_5781 \u001b[36mshape\u001b[0m: [768] \u001b[36mdtype\u001b[0m: float32\n",
            "\u001b[32mINFO:\u001b[0m \u001b[35mtf_op_type\u001b[0m: identity\n",
            "\u001b[32mINFO:\u001b[0m \u001b[34m input.1.input\u001b[0m: \u001b[34mshape\u001b[0m: (768,) \u001b[34mdtype\u001b[0m: float32 \n",
            "\u001b[32mINFO:\u001b[0m \u001b[34m output.1.output\u001b[0m: \u001b[34mshape\u001b[0m: (768,) \u001b[34mdtype\u001b[0m: <dtype: 'float32'> \n",
            "\n",
            "\u001b[32mINFO:\u001b[0m \u001b[32m79 / 3306\u001b[0m\n",
            "\u001b[32mINFO:\u001b[0m \u001b[35monnx_op_type\u001b[0m: Identity\u001b[35m onnx_op_name\u001b[0m: Identity_1074\n",
            "\u001b[32mINFO:\u001b[0m \u001b[36m input_name.1\u001b[0m: onnx::Add_5555 \u001b[36mshape\u001b[0m: (384,) \u001b[36mdtype\u001b[0m: float32\n",
            "\u001b[32mINFO:\u001b[0m \u001b[36m output_name.1\u001b[0m: onnx____Add_5779 \u001b[36mshape\u001b[0m: [384] \u001b[36mdtype\u001b[0m: float32\n",
            "\u001b[32mINFO:\u001b[0m \u001b[35mtf_op_type\u001b[0m: identity\n",
            "\u001b[32mINFO:\u001b[0m \u001b[34m input.1.input\u001b[0m: \u001b[34mshape\u001b[0m: (384,) \u001b[34mdtype\u001b[0m: float32 \n",
            "\u001b[32mINFO:\u001b[0m \u001b[34m output.1.output\u001b[0m: \u001b[34mshape\u001b[0m: (384,) \u001b[34mdtype\u001b[0m: <dtype: 'float32'> \n",
            "\n",
            "\u001b[32mINFO:\u001b[0m \u001b[32m80 / 3306\u001b[0m\n",
            "\u001b[32mINFO:\u001b[0m \u001b[35monnx_op_type\u001b[0m: Identity\u001b[35m onnx_op_name\u001b[0m: Identity_1075\n",
            "\u001b[32mINFO:\u001b[0m \u001b[36m input_name.1\u001b[0m: onnx::MatMul_5624 \u001b[36mshape\u001b[0m: (384, 95) \u001b[36mdtype\u001b[0m: float32\n",
            "\u001b[32mINFO:\u001b[0m \u001b[36m output_name.1\u001b[0m: onnx____MatMul_5736 \u001b[36mshape\u001b[0m: [384, 95] \u001b[36mdtype\u001b[0m: float32\n",
            "\u001b[32mINFO:\u001b[0m \u001b[35mtf_op_type\u001b[0m: identity\n",
            "\u001b[32mINFO:\u001b[0m \u001b[34m input.1.input\u001b[0m: \u001b[34mshape\u001b[0m: (384, 95) \u001b[34mdtype\u001b[0m: float32 \n",
            "\u001b[32mINFO:\u001b[0m \u001b[34m output.1.output\u001b[0m: \u001b[34mshape\u001b[0m: (384, 95) \u001b[34mdtype\u001b[0m: <dtype: 'float32'> \n",
            "\n",
            "\u001b[32mINFO:\u001b[0m \u001b[32m81 / 3306\u001b[0m\n",
            "\u001b[32mINFO:\u001b[0m \u001b[35monnx_op_type\u001b[0m: Identity\u001b[35m onnx_op_name\u001b[0m: Identity_1076\n",
            "\u001b[32mINFO:\u001b[0m \u001b[36m input_name.1\u001b[0m: onnx::MatMul_5623 \u001b[36mshape\u001b[0m: (1536, 384) \u001b[36mdtype\u001b[0m: float32\n",
            "\u001b[32mINFO:\u001b[0m \u001b[36m output_name.1\u001b[0m: onnx____MatMul_5735 \u001b[36mshape\u001b[0m: [1536, 384] \u001b[36mdtype\u001b[0m: float32\n",
            "\u001b[32mINFO:\u001b[0m \u001b[35mtf_op_type\u001b[0m: identity\n",
            "\u001b[32mINFO:\u001b[0m \u001b[34m input.1.input\u001b[0m: \u001b[34mshape\u001b[0m: (1536, 384) \u001b[34mdtype\u001b[0m: float32 \n",
            "\u001b[32mINFO:\u001b[0m \u001b[34m output.1.output\u001b[0m: \u001b[34mshape\u001b[0m: (1536, 384) \u001b[34mdtype\u001b[0m: <dtype: 'float32'> \n",
            "\n",
            "\u001b[32mINFO:\u001b[0m \u001b[32m82 / 3306\u001b[0m\n",
            "\u001b[32mINFO:\u001b[0m \u001b[35monnx_op_type\u001b[0m: Identity\u001b[35m onnx_op_name\u001b[0m: Identity_1077\n",
            "\u001b[32mINFO:\u001b[0m \u001b[36m input_name.1\u001b[0m: onnx::MatMul_5622 \u001b[36mshape\u001b[0m: (384, 1536) \u001b[36mdtype\u001b[0m: float32\n",
            "\u001b[32mINFO:\u001b[0m \u001b[36m output_name.1\u001b[0m: onnx____MatMul_5734 \u001b[36mshape\u001b[0m: [384, 1536] \u001b[36mdtype\u001b[0m: float32\n",
            "\u001b[32mINFO:\u001b[0m \u001b[35mtf_op_type\u001b[0m: identity\n",
            "\u001b[32mINFO:\u001b[0m \u001b[34m input.1.input\u001b[0m: \u001b[34mshape\u001b[0m: (384, 1536) \u001b[34mdtype\u001b[0m: float32 \n",
            "\u001b[32mINFO:\u001b[0m \u001b[34m output.1.output\u001b[0m: \u001b[34mshape\u001b[0m: (384, 1536) \u001b[34mdtype\u001b[0m: <dtype: 'float32'> \n",
            "\n",
            "\u001b[32mINFO:\u001b[0m \u001b[32m83 / 3306\u001b[0m\n",
            "\u001b[32mINFO:\u001b[0m \u001b[35monnx_op_type\u001b[0m: Identity\u001b[35m onnx_op_name\u001b[0m: Identity_1078\n",
            "\u001b[32mINFO:\u001b[0m \u001b[36m input_name.1\u001b[0m: onnx::MatMul_5598 \u001b[36mshape\u001b[0m: (384, 768) \u001b[36mdtype\u001b[0m: float32\n",
            "\u001b[32mINFO:\u001b[0m \u001b[36m output_name.1\u001b[0m: onnx____MatMul_5710 \u001b[36mshape\u001b[0m: [384, 768] \u001b[36mdtype\u001b[0m: float32\n",
            "\u001b[32mINFO:\u001b[0m \u001b[35mtf_op_type\u001b[0m: identity\n",
            "\u001b[32mINFO:\u001b[0m \u001b[34m input.1.input\u001b[0m: \u001b[34mshape\u001b[0m: (384, 768) \u001b[34mdtype\u001b[0m: float32 \n",
            "\u001b[32mINFO:\u001b[0m \u001b[34m output.1.output\u001b[0m: \u001b[34mshape\u001b[0m: (384, 768) \u001b[34mdtype\u001b[0m: <dtype: 'float32'> \n",
            "\n",
            "\u001b[32mINFO:\u001b[0m \u001b[32m84 / 3306\u001b[0m\n",
            "\u001b[32mINFO:\u001b[0m \u001b[35monnx_op_type\u001b[0m: Identity\u001b[35m onnx_op_name\u001b[0m: Identity_1079\n",
            "\u001b[32mINFO:\u001b[0m \u001b[36m input_name.1\u001b[0m: onnx::MatMul_5597 \u001b[36mshape\u001b[0m: (384, 384) \u001b[36mdtype\u001b[0m: float32\n",
            "\u001b[32mINFO:\u001b[0m \u001b[36m output_name.1\u001b[0m: onnx____MatMul_5709 \u001b[36mshape\u001b[0m: [384, 384] \u001b[36mdtype\u001b[0m: float32\n",
            "\u001b[32mINFO:\u001b[0m \u001b[35mtf_op_type\u001b[0m: identity\n",
            "\u001b[32mINFO:\u001b[0m \u001b[34m input.1.input\u001b[0m: \u001b[34mshape\u001b[0m: (384, 384) \u001b[34mdtype\u001b[0m: float32 \n",
            "\u001b[32mINFO:\u001b[0m \u001b[34m output.1.output\u001b[0m: \u001b[34mshape\u001b[0m: (384, 384) \u001b[34mdtype\u001b[0m: <dtype: 'float32'> \n",
            "\n",
            "\u001b[32mINFO:\u001b[0m \u001b[32m85 / 3306\u001b[0m\n",
            "\u001b[32mINFO:\u001b[0m \u001b[35monnx_op_type\u001b[0m: Identity\u001b[35m onnx_op_name\u001b[0m: Identity_1080\n",
            "\u001b[32mINFO:\u001b[0m \u001b[36m input_name.1\u001b[0m: onnx::Add_5596 \u001b[36mshape\u001b[0m: (768,) \u001b[36mdtype\u001b[0m: float32\n",
            "\u001b[32mINFO:\u001b[0m \u001b[36m output_name.1\u001b[0m: onnx____Add_5708 \u001b[36mshape\u001b[0m: [768] \u001b[36mdtype\u001b[0m: float32\n",
            "\u001b[32mINFO:\u001b[0m \u001b[35mtf_op_type\u001b[0m: identity\n",
            "\u001b[32mINFO:\u001b[0m \u001b[34m input.1.input\u001b[0m: \u001b[34mshape\u001b[0m: (768,) \u001b[34mdtype\u001b[0m: float32 \n",
            "\u001b[32mINFO:\u001b[0m \u001b[34m output.1.output\u001b[0m: \u001b[34mshape\u001b[0m: (768,) \u001b[34mdtype\u001b[0m: <dtype: 'float32'> \n",
            "\n",
            "\u001b[32mINFO:\u001b[0m \u001b[32m86 / 3306\u001b[0m\n",
            "\u001b[32mINFO:\u001b[0m \u001b[35monnx_op_type\u001b[0m: Identity\u001b[35m onnx_op_name\u001b[0m: Identity_1081\n",
            "\u001b[32mINFO:\u001b[0m \u001b[36m input_name.1\u001b[0m: onnx::Add_5594 \u001b[36mshape\u001b[0m: (384,) \u001b[36mdtype\u001b[0m: float32\n",
            "\u001b[32mINFO:\u001b[0m \u001b[36m output_name.1\u001b[0m: onnx____Add_5706 \u001b[36mshape\u001b[0m: [384] \u001b[36mdtype\u001b[0m: float32\n",
            "\u001b[32mINFO:\u001b[0m \u001b[35mtf_op_type\u001b[0m: identity\n",
            "\u001b[32mINFO:\u001b[0m \u001b[34m input.1.input\u001b[0m: \u001b[34mshape\u001b[0m: (384,) \u001b[34mdtype\u001b[0m: float32 \n",
            "\u001b[32mINFO:\u001b[0m \u001b[34m output.1.output\u001b[0m: \u001b[34mshape\u001b[0m: (384,) \u001b[34mdtype\u001b[0m: <dtype: 'float32'> \n",
            "\n",
            "\u001b[32mINFO:\u001b[0m \u001b[32m87 / 3306\u001b[0m\n",
            "\u001b[32mINFO:\u001b[0m \u001b[35monnx_op_type\u001b[0m: Identity\u001b[35m onnx_op_name\u001b[0m: Identity_1082\n",
            "\u001b[32mINFO:\u001b[0m \u001b[36m input_name.1\u001b[0m: onnx::MatMul_5559 \u001b[36mshape\u001b[0m: (384, 768) \u001b[36mdtype\u001b[0m: float32\n",
            "\u001b[32mINFO:\u001b[0m \u001b[36m output_name.1\u001b[0m: onnx____MatMul_5671 \u001b[36mshape\u001b[0m: [384, 768] \u001b[36mdtype\u001b[0m: float32\n",
            "\u001b[32mINFO:\u001b[0m \u001b[35mtf_op_type\u001b[0m: identity\n",
            "\u001b[32mINFO:\u001b[0m \u001b[34m input.1.input\u001b[0m: \u001b[34mshape\u001b[0m: (384, 768) \u001b[34mdtype\u001b[0m: float32 \n",
            "\u001b[32mINFO:\u001b[0m \u001b[34m output.1.output\u001b[0m: \u001b[34mshape\u001b[0m: (384, 768) \u001b[34mdtype\u001b[0m: <dtype: 'float32'> \n",
            "\n",
            "\u001b[32mINFO:\u001b[0m \u001b[32m88 / 3306\u001b[0m\n",
            "\u001b[32mINFO:\u001b[0m \u001b[35monnx_op_type\u001b[0m: Identity\u001b[35m onnx_op_name\u001b[0m: Identity_1083\n",
            "\u001b[32mINFO:\u001b[0m \u001b[36m input_name.1\u001b[0m: onnx::MatMul_5558 \u001b[36mshape\u001b[0m: (384, 384) \u001b[36mdtype\u001b[0m: float32\n",
            "\u001b[32mINFO:\u001b[0m \u001b[36m output_name.1\u001b[0m: onnx____MatMul_5670 \u001b[36mshape\u001b[0m: [384, 384] \u001b[36mdtype\u001b[0m: float32\n",
            "\u001b[32mINFO:\u001b[0m \u001b[35mtf_op_type\u001b[0m: identity\n",
            "\u001b[32mINFO:\u001b[0m \u001b[34m input.1.input\u001b[0m: \u001b[34mshape\u001b[0m: (384, 384) \u001b[34mdtype\u001b[0m: float32 \n",
            "\u001b[32mINFO:\u001b[0m \u001b[34m output.1.output\u001b[0m: \u001b[34mshape\u001b[0m: (384, 384) \u001b[34mdtype\u001b[0m: <dtype: 'float32'> \n",
            "\n",
            "\u001b[32mINFO:\u001b[0m \u001b[32m89 / 3306\u001b[0m\n",
            "\u001b[32mINFO:\u001b[0m \u001b[35monnx_op_type\u001b[0m: Identity\u001b[35m onnx_op_name\u001b[0m: Identity_1084\n",
            "\u001b[32mINFO:\u001b[0m \u001b[36m input_name.1\u001b[0m: onnx::Add_5557 \u001b[36mshape\u001b[0m: (768,) \u001b[36mdtype\u001b[0m: float32\n",
            "\u001b[32mINFO:\u001b[0m \u001b[36m output_name.1\u001b[0m: onnx____Add_5669 \u001b[36mshape\u001b[0m: [768] \u001b[36mdtype\u001b[0m: float32\n",
            "\u001b[32mINFO:\u001b[0m \u001b[35mtf_op_type\u001b[0m: identity\n",
            "\u001b[32mINFO:\u001b[0m \u001b[34m input.1.input\u001b[0m: \u001b[34mshape\u001b[0m: (768,) \u001b[34mdtype\u001b[0m: float32 \n",
            "\u001b[32mINFO:\u001b[0m \u001b[34m output.1.output\u001b[0m: \u001b[34mshape\u001b[0m: (768,) \u001b[34mdtype\u001b[0m: <dtype: 'float32'> \n",
            "\n",
            "\u001b[32mINFO:\u001b[0m \u001b[32m90 / 3306\u001b[0m\n",
            "\u001b[32mINFO:\u001b[0m \u001b[35monnx_op_type\u001b[0m: Identity\u001b[35m onnx_op_name\u001b[0m: Identity_1085\n",
            "\u001b[32mINFO:\u001b[0m \u001b[36m input_name.1\u001b[0m: onnx::Add_5555 \u001b[36mshape\u001b[0m: (384,) \u001b[36mdtype\u001b[0m: float32\n",
            "\u001b[32mINFO:\u001b[0m \u001b[36m output_name.1\u001b[0m: onnx____Add_5667 \u001b[36mshape\u001b[0m: [384] \u001b[36mdtype\u001b[0m: float32\n",
            "\u001b[32mINFO:\u001b[0m \u001b[35mtf_op_type\u001b[0m: identity\n",
            "\u001b[32mINFO:\u001b[0m \u001b[34m input.1.input\u001b[0m: \u001b[34mshape\u001b[0m: (384,) \u001b[34mdtype\u001b[0m: float32 \n",
            "\u001b[32mINFO:\u001b[0m \u001b[34m output.1.output\u001b[0m: \u001b[34mshape\u001b[0m: (384,) \u001b[34mdtype\u001b[0m: <dtype: 'float32'> \n",
            "\n",
            "\u001b[32mINFO:\u001b[0m \u001b[32m93 / 3306\u001b[0m\n",
            "\u001b[32mINFO:\u001b[0m \u001b[35monnx_op_type\u001b[0m: Conv\u001b[35m onnx_op_name\u001b[0m: wa/encoder/patch_embed/proj/Conv\n",
            "\u001b[32mINFO:\u001b[0m \u001b[36m input_name.1\u001b[0m: images \u001b[36mshape\u001b[0m: [1, 3, 32, 128] \u001b[36mdtype\u001b[0m: float32\n",
            "\u001b[32mINFO:\u001b[0m \u001b[36m input_name.2\u001b[0m: model.encoder.patch_embed.proj.weight \u001b[36mshape\u001b[0m: [384, 3, 4, 8] \u001b[36mdtype\u001b[0m: float32\n",
            "\u001b[32mINFO:\u001b[0m \u001b[36m input_name.3\u001b[0m: model.encoder.patch_embed.proj.bias \u001b[36mshape\u001b[0m: [384] \u001b[36mdtype\u001b[0m: float32\n",
            "\u001b[32mINFO:\u001b[0m \u001b[36m output_name.1\u001b[0m: wa/encoder/patch_embed/proj/Conv_output_0 \u001b[36mshape\u001b[0m: [1, 384, 8, 16] \u001b[36mdtype\u001b[0m: float32\n",
            "\u001b[32mINFO:\u001b[0m \u001b[35mtf_op_type\u001b[0m: convolution_v2\n",
            "\u001b[32mINFO:\u001b[0m \u001b[34m input.1.input\u001b[0m: \u001b[34mname\u001b[0m: images \u001b[34mshape\u001b[0m: (1, 32, 128, 3) \u001b[34mdtype\u001b[0m: <dtype: 'float32'> \n",
            "\u001b[32mINFO:\u001b[0m \u001b[34m input.2.weights\u001b[0m: \u001b[34mshape\u001b[0m: (4, 8, 3, 384) \u001b[34mdtype\u001b[0m: <dtype: 'float32'> \n",
            "\u001b[32mINFO:\u001b[0m \u001b[34m input.3.bias\u001b[0m: \u001b[34mshape\u001b[0m: (384,) \u001b[34mdtype\u001b[0m: <dtype: 'float32'> \n",
            "\u001b[32mINFO:\u001b[0m \u001b[34m input.4.strides\u001b[0m: \u001b[34mval\u001b[0m: [4, 8] \n",
            "\u001b[32mINFO:\u001b[0m \u001b[34m input.5.dilations\u001b[0m: \u001b[34mval\u001b[0m: [1, 1] \n",
            "\u001b[32mINFO:\u001b[0m \u001b[34m input.6.padding\u001b[0m: \u001b[34mval\u001b[0m: VALID \n",
            "\u001b[32mINFO:\u001b[0m \u001b[34m input.7.group\u001b[0m: \u001b[34mval\u001b[0m: 1 \n",
            "\u001b[32mINFO:\u001b[0m \u001b[34m output.1.output\u001b[0m: \u001b[34mname\u001b[0m: tf.math.add/Add:0 \u001b[34mshape\u001b[0m: (1, 8, 16, 384) \u001b[34mdtype\u001b[0m: <dtype: 'float32'> \n",
            "\n",
            "\u001b[32mINFO:\u001b[0m \u001b[32m1089 / 3306\u001b[0m\n",
            "\u001b[32mINFO:\u001b[0m \u001b[35monnx_op_type\u001b[0m: Shape\u001b[35m onnx_op_name\u001b[0m: wa/encoder/patch_embed/Shape\n",
            "\u001b[32mINFO:\u001b[0m \u001b[36m input_name.1\u001b[0m: wa/encoder/patch_embed/proj/Conv_output_0 \u001b[36mshape\u001b[0m: [1, 384, 8, 16] \u001b[36mdtype\u001b[0m: float32\n",
            "\u001b[32mINFO:\u001b[0m \u001b[36m output_name.1\u001b[0m: wa/encoder/patch_embed/Shape_output_0 \u001b[36mshape\u001b[0m: [4] \u001b[36mdtype\u001b[0m: int64\n",
            "\u001b[32mINFO:\u001b[0m \u001b[35mtf_op_type\u001b[0m: shape_v2\n",
            "\u001b[32mINFO:\u001b[0m \u001b[34m input.1.x\u001b[0m: \u001b[34mname\u001b[0m: tf.math.add/Add:0 \u001b[34mshape\u001b[0m: (1, 8, 16, 384) \u001b[34mdtype\u001b[0m: <dtype: 'float32'> \n",
            "\u001b[32mINFO:\u001b[0m \u001b[34m input.2.out_type\u001b[0m: \u001b[34mname\u001b[0m: int64 \u001b[34mshape\u001b[0m: () \n",
            "\u001b[32mINFO:\u001b[0m \u001b[34m output.1.output\u001b[0m: \u001b[34mname\u001b[0m: tf.compat.v1.shape/wa/encoder/patch_embed/Shape:0 \u001b[34mshape\u001b[0m: (4,) \u001b[34mdtype\u001b[0m: <dtype: 'int64'> \n",
            "\n",
            "\u001b[32mINFO:\u001b[0m \u001b[32m1090 / 3306\u001b[0m\n",
            "\u001b[32mINFO:\u001b[0m \u001b[35monnx_op_type\u001b[0m: ConstantOfShape\u001b[35m onnx_op_name\u001b[0m: wa/ConstantOfShape\n",
            "\u001b[32mINFO:\u001b[0m \u001b[36m input_name.1\u001b[0m: wa/Constant_2_output_0 \u001b[36mshape\u001b[0m: [1] \u001b[36mdtype\u001b[0m: int64\n",
            "\u001b[32mINFO:\u001b[0m \u001b[36m output_name.1\u001b[0m: wa/ConstantOfShape_output_0 \u001b[36mshape\u001b[0m: [3] \u001b[36mdtype\u001b[0m: int64\n",
            "\u001b[32mINFO:\u001b[0m \u001b[35mtf_op_type\u001b[0m: constant\n",
            "\u001b[32mINFO:\u001b[0m \u001b[34m input.1.value\u001b[0m: \u001b[34mshape\u001b[0m: () \u001b[34mdtype\u001b[0m: int64 \n",
            "\u001b[32mINFO:\u001b[0m \u001b[34m output.1.output\u001b[0m: \u001b[34mshape\u001b[0m: (3,) \u001b[34mdtype\u001b[0m: <dtype: 'int64'> \n",
            "\n",
            "\u001b[32mINFO:\u001b[0m \u001b[32m1091 / 3306\u001b[0m\n",
            "\u001b[32mINFO:\u001b[0m \u001b[35monnx_op_type\u001b[0m: Trilu\u001b[35m onnx_op_name\u001b[0m: wa/Trilu\n",
            "\u001b[32mINFO:\u001b[0m \u001b[36m input_name.1\u001b[0m: onnx____Trilu_1385 \u001b[36mshape\u001b[0m: [26, 26] \u001b[36mdtype\u001b[0m: bool\n",
            "\u001b[32mINFO:\u001b[0m \u001b[36m input_name.2\u001b[0m: wa/encoder/patch_embed/proj/Constant_output_0 \u001b[36mshape\u001b[0m: [] \u001b[36mdtype\u001b[0m: int64\n",
            "\u001b[32mINFO:\u001b[0m \u001b[36m output_name.1\u001b[0m: wa/Trilu_output_0 \u001b[36mshape\u001b[0m: [26, 26] \u001b[36mdtype\u001b[0m: bool\n",
            "\u001b[31mERROR:\u001b[0m The trace log is below.\n",
            "Traceback (most recent call last):\n",
            "  File \"/content/onnx2tf/onnx2tf/utils/common_functions.py\", line 313, in print_wrapper_func\n",
            "    result = func(*args, **kwargs)\n",
            "             ^^^^^^^^^^^^^^^^^^^^^\n",
            "  File \"/content/onnx2tf/onnx2tf/utils/common_functions.py\", line 386, in inverted_operation_enable_disable_wrapper_func\n",
            "    result = func(*args, **kwargs)\n",
            "             ^^^^^^^^^^^^^^^^^^^^^\n",
            "  File \"/content/onnx2tf/onnx2tf/utils/common_functions.py\", line 56, in get_replacement_parameter_wrapper_func\n",
            "    func(*args, **kwargs)\n",
            "  File \"/content/onnx2tf/onnx2tf/ops/Trilu.py\", line 271, in make_node\n",
            "    tf.subtract(\n",
            "  File \"/usr/local/lib/python3.11/dist-packages/tensorflow/python/util/traceback_utils.py\", line 153, in error_handler\n",
            "    raise e.with_traceback(filtered_tb) from None\n",
            "  File \"/usr/local/lib/python3.11/dist-packages/tensorflow/python/framework/ops.py\", line 6006, in raise_from_not_ok_status\n",
            "    raise core._status_to_exception(e) from None  # pylint: disable=protected-access\n",
            "    ^^^^^^^^^^^^^^^^^^^^^^^^^^^^^^^^^^^^^^^^^^^^\n",
            "tensorflow.python.framework.errors_impl.InvalidArgumentError: Value for attr 'T' of bool is not in the list of allowed values: bfloat16, half, float, double, uint8, int8, uint16, int16, int32, int64, complex64, complex128, uint32, uint64\n",
            "\t; NodeDef: {{node Sub}}; Op<name=Sub; signature=x:T, y:T -> z:T; attr=T:type,allowed=[DT_BFLOAT16, DT_HALF, DT_FLOAT, DT_DOUBLE, DT_UINT8, DT_INT8, DT_UINT16, DT_INT16, DT_INT32, DT_INT64, DT_COMPLEX64, DT_COMPLEX128, DT_UINT32, DT_UINT64]> [Op:Sub] name: wa/Trilu\n",
            "\n",
            "\u001b[31mERROR:\u001b[0m input_onnx_file_path: ../parseq_test.onnx\n",
            "\u001b[31mERROR:\u001b[0m onnx_op_name: wa/Trilu\n",
            "\u001b[31mERROR:\u001b[0m Read this and deal with it. https://github.com/PINTO0309/onnx2tf#parameter-replacement\n",
            "\u001b[31mERROR:\u001b[0m Alternatively, if the input OP has a dynamic dimension, use the -b or -ois option to rewrite it to a static shape and try again.\n",
            "\u001b[31mERROR:\u001b[0m If the input OP of ONNX before conversion is NHWC or an irregular channel arrangement other than NCHW, use the -kt or -kat option.\n",
            "\u001b[31mERROR:\u001b[0m Also, for models that include NonMaxSuppression in the post-processing, try the -onwdt option.\n"
          ]
        }
      ]
    },
    {
      "cell_type": "markdown",
      "source": [
        "# Parseq to direct torchscript"
      ],
      "metadata": {
        "id": "rHHxjJMSZNMa"
      }
    },
    {
      "cell_type": "code",
      "source": [
        "!pip freeze | grep parseq"
      ],
      "metadata": {
        "id": "X1kvZN84Z8th"
      },
      "execution_count": 1,
      "outputs": []
    },
    {
      "cell_type": "code",
      "source": [
        "!git clone https://github.com/baudm/parseq.git\n",
        "# !pip install -r parseq/requirements/core.txt\n",
        "!pip install pytorch-lightning==2.2.0.post0\n",
        "!pip install lightning-utilities==0.10.1\n",
        "!pip install onnx\n",
        "\n",
        "\n"
      ],
      "metadata": {
        "id": "z7p0M10gaMTw"
      },
      "execution_count": null,
      "outputs": []
    },
    {
      "cell_type": "code",
      "source": [
        "!pip install -e parseq/"
      ],
      "metadata": {
        "colab": {
          "base_uri": "https://localhost:8080/"
        },
        "id": "CVnFAE_846oT",
        "outputId": "aaa46935-8ee8-448c-d0fd-bcd26281c451"
      },
      "execution_count": 3,
      "outputs": [
        {
          "output_type": "stream",
          "name": "stdout",
          "text": [
            "Obtaining file:///content/parseq\n",
            "  Installing build dependencies ... \u001b[?25l\u001b[?25hdone\n",
            "  Checking if build backend supports build_editable ... \u001b[?25l\u001b[?25hdone\n",
            "  Getting requirements to build editable ... \u001b[?25l\u001b[?25hdone\n",
            "  Preparing editable metadata (pyproject.toml) ... \u001b[?25l\u001b[?25hdone\n",
            "Building wheels for collected packages: strhub\n",
            "  Building editable for strhub (pyproject.toml) ... \u001b[?25l\u001b[?25hdone\n",
            "  Created wheel for strhub: filename=strhub-1.2.0-0.editable-py3-none-any.whl size=17093 sha256=777a015f48478a8761ae65e414630b849ffa1df5fe34096e34fc05f5f69525cf\n",
            "  Stored in directory: /tmp/pip-ephem-wheel-cache-mxkzkjtc/wheels/81/19/76/37967e8554a579fd80aaee8b99a0ae0349205b8eae49b433e6\n",
            "Successfully built strhub\n",
            "Installing collected packages: strhub\n",
            "Successfully installed strhub-1.2.0\n"
          ]
        }
      ]
    },
    {
      "cell_type": "code",
      "source": [
        "import torch\n",
        "from torch import nn\n",
        "from parseq.strhub.models.parseq.model import PARSeq"
      ],
      "metadata": {
        "colab": {
          "base_uri": "https://localhost:8080/"
        },
        "id": "teuzAkfL5pyu",
        "outputId": "157293a5-48d8-4dba-a421-2379b17941c1"
      },
      "execution_count": 1,
      "outputs": [
        {
          "output_type": "stream",
          "name": "stderr",
          "text": [
            "/usr/local/lib/python3.11/dist-packages/timm/models/helpers.py:7: FutureWarning: Importing from timm.models.helpers is deprecated, please import via timm.models\n",
            "  warnings.warn(f\"Importing from {__name__} is deprecated, please import via timm.models\", FutureWarning)\n"
          ]
        }
      ]
    },
    {
      "cell_type": "code",
      "source": [
        "\n",
        "par_seq_model = PARSeq(\n",
        "    num_tokens = 97,\n",
        "        max_label_length = 25,\n",
        "        img_size = [32, 128],\n",
        "        patch_size = [4, 8],\n",
        "        embed_dim = 384,\n",
        "        enc_num_heads = 6,\n",
        "        enc_mlp_ratio = 4,\n",
        "        enc_depth = 12,\n",
        "        dec_num_heads = 12,\n",
        "        dec_mlp_ratio = 4,\n",
        "        dec_depth = 1,\n",
        "        decode_ar = False,\n",
        "        refine_iters = 0,\n",
        "        dropout = 0.1,\n",
        ")"
      ],
      "metadata": {
        "colab": {
          "base_uri": "https://localhost:8080/"
        },
        "id": "VcpFlpiZ3mXg",
        "outputId": "3673ec06-e322-458b-abad-ec1558c82313"
      },
      "execution_count": 2,
      "outputs": [
        {
          "output_type": "stream",
          "name": "stdout",
          "text": [
            "initializing my class finally\n"
          ]
        }
      ]
    },
    {
      "cell_type": "code",
      "source": [
        "state_dict = torch.load(\"./drive/MyDrive/OCR/parseq_weights.pth\")\n",
        "par_seq_model.load_state_dict(state_dict, strict=True)"
      ],
      "metadata": {
        "colab": {
          "base_uri": "https://localhost:8080/"
        },
        "id": "wykubOYd3pKT",
        "outputId": "7541116b-c997-44c4-c429-f8ce90d45505"
      },
      "execution_count": 3,
      "outputs": [
        {
          "output_type": "execute_result",
          "data": {
            "text/plain": [
              "<All keys matched successfully>"
            ]
          },
          "metadata": {},
          "execution_count": 3
        }
      ]
    },
    {
      "cell_type": "code",
      "source": [
        "from typing import NamedTuple\n",
        "from torch import nn\n",
        "import torch\n",
        "\n",
        "class Tokenizer(NamedTuple):\n",
        "    pad_id: int\n",
        "    bos_id: int\n",
        "    eos_id: int\n",
        "\n",
        "class MyModel(nn.Module):\n",
        "    def __init__(self, base_model: nn.Module):\n",
        "        super().__init__()\n",
        "        self.model = base_model\n",
        "        self.model.decode_ar = False\n",
        "        self.model.refine_iters = 0\n",
        "        self.max_length = 14\n",
        "        # TorchScript‐friendly tokenizer\n",
        "        self.tokenizer = Tokenizer(pad_id=96, bos_id=95, eos_id=0)\n",
        "\n",
        "    def forward(self, x: torch.Tensor) -> torch.Tensor:\n",
        "        # Now both inputs and attributes are TorchScript types\n",
        "        return self.model( x, self.max_length)\n",
        "\n",
        "\n",
        "parseq_my_model = MyModel(par_seq_model).eval()"
      ],
      "metadata": {
        "id": "S1TzvSeGcEKh"
      },
      "execution_count": 4,
      "outputs": []
    },
    {
      "cell_type": "code",
      "source": [
        "x = torch.randn(1, 3, 32, 128)\n",
        "logits = parseq_my_model(x)\n",
        "logits"
      ],
      "metadata": {
        "colab": {
          "base_uri": "https://localhost:8080/"
        },
        "id": "0C711bAfCa86",
        "outputId": "94f17829-1b45-4806-bb15-4b30afbe2606"
      },
      "execution_count": 6,
      "outputs": [
        {
          "output_type": "execute_result",
          "data": {
            "text/plain": [
              "tensor([[[-2.0615,  0.1621,  1.6718,  ..., -2.3501, -4.5227, -3.5876],\n",
              "         [ 1.5534,  1.2274,  0.7286,  ..., -3.9266, -5.8672, -5.1794],\n",
              "         [ 1.6115,  0.6731,  0.5356,  ..., -4.1488, -5.9314, -5.2665],\n",
              "         ...,\n",
              "         [ 4.2428,  0.8883,  0.6430,  ..., -2.8348, -3.8989, -4.5093],\n",
              "         [ 4.2578,  0.7649,  0.3414,  ..., -3.2632, -4.2993, -4.5722],\n",
              "         [ 3.9911,  0.6809,  0.4267,  ..., -3.2895, -4.0956, -4.5353]]],\n",
              "       grad_fn=<ViewBackward0>)"
            ]
          },
          "metadata": {},
          "execution_count": 6
        }
      ]
    },
    {
      "cell_type": "code",
      "source": [
        "scripted = torch.jit.script(parseq_my_model)"
      ],
      "metadata": {
        "colab": {
          "base_uri": "https://localhost:8080/"
        },
        "id": "xMWK7zYk1hYp",
        "outputId": "45d8a0c3-4a44-46e9-baf5-f45a3182e8c4"
      },
      "execution_count": 7,
      "outputs": [
        {
          "output_type": "stream",
          "name": "stderr",
          "text": [
            "/usr/local/lib/python3.11/dist-packages/torch/jit/_recursive.py:313: UserWarning: 'norm' was found in ScriptModule constants,  but it is a non-constant submodule. Consider removing it.\n",
            "  warnings.warn(\n"
          ]
        }
      ]
    },
    {
      "cell_type": "code",
      "source": [
        "scripted"
      ],
      "metadata": {
        "colab": {
          "base_uri": "https://localhost:8080/"
        },
        "id": "FQLi19z9A1-C",
        "outputId": "ea024d52-9195-486a-f112-ab7f299dab41"
      },
      "execution_count": 8,
      "outputs": [
        {
          "output_type": "execute_result",
          "data": {
            "text/plain": [
              "RecursiveScriptModule(\n",
              "  original_name=MyModel\n",
              "  (model): RecursiveScriptModule(\n",
              "    original_name=PARSeq\n",
              "    (encoder): RecursiveScriptModule(\n",
              "      original_name=Encoder\n",
              "      (patch_embed): RecursiveScriptModule(\n",
              "        original_name=PatchEmbed\n",
              "        (proj): RecursiveScriptModule(original_name=Conv2d)\n",
              "        (norm): RecursiveScriptModule(original_name=Identity)\n",
              "      )\n",
              "      (pos_drop): RecursiveScriptModule(original_name=Dropout)\n",
              "      (patch_drop): RecursiveScriptModule(original_name=Identity)\n",
              "      (norm_pre): RecursiveScriptModule(original_name=Identity)\n",
              "      (blocks): RecursiveScriptModule(\n",
              "        original_name=Sequential\n",
              "        (0): RecursiveScriptModule(\n",
              "          original_name=Block\n",
              "          (norm1): RecursiveScriptModule(original_name=LayerNorm)\n",
              "          (attn): RecursiveScriptModule(\n",
              "            original_name=Attention\n",
              "            (qkv): RecursiveScriptModule(original_name=Linear)\n",
              "            (q_norm): RecursiveScriptModule(original_name=Identity)\n",
              "            (k_norm): RecursiveScriptModule(original_name=Identity)\n",
              "            (attn_drop): RecursiveScriptModule(original_name=Dropout)\n",
              "            (proj): RecursiveScriptModule(original_name=Linear)\n",
              "            (proj_drop): RecursiveScriptModule(original_name=Dropout)\n",
              "          )\n",
              "          (ls1): RecursiveScriptModule(original_name=Identity)\n",
              "          (drop_path1): RecursiveScriptModule(original_name=Identity)\n",
              "          (norm2): RecursiveScriptModule(original_name=LayerNorm)\n",
              "          (mlp): RecursiveScriptModule(\n",
              "            original_name=Mlp\n",
              "            (fc1): RecursiveScriptModule(original_name=Linear)\n",
              "            (act): RecursiveScriptModule(original_name=GELU)\n",
              "            (drop1): RecursiveScriptModule(original_name=Dropout)\n",
              "            (norm): RecursiveScriptModule(original_name=Identity)\n",
              "            (fc2): RecursiveScriptModule(original_name=Linear)\n",
              "            (drop2): RecursiveScriptModule(original_name=Dropout)\n",
              "          )\n",
              "          (ls2): RecursiveScriptModule(original_name=Identity)\n",
              "          (drop_path2): RecursiveScriptModule(original_name=Identity)\n",
              "        )\n",
              "        (1): RecursiveScriptModule(\n",
              "          original_name=Block\n",
              "          (norm1): RecursiveScriptModule(original_name=LayerNorm)\n",
              "          (attn): RecursiveScriptModule(\n",
              "            original_name=Attention\n",
              "            (qkv): RecursiveScriptModule(original_name=Linear)\n",
              "            (q_norm): RecursiveScriptModule(original_name=Identity)\n",
              "            (k_norm): RecursiveScriptModule(original_name=Identity)\n",
              "            (attn_drop): RecursiveScriptModule(original_name=Dropout)\n",
              "            (proj): RecursiveScriptModule(original_name=Linear)\n",
              "            (proj_drop): RecursiveScriptModule(original_name=Dropout)\n",
              "          )\n",
              "          (ls1): RecursiveScriptModule(original_name=Identity)\n",
              "          (drop_path1): RecursiveScriptModule(original_name=Identity)\n",
              "          (norm2): RecursiveScriptModule(original_name=LayerNorm)\n",
              "          (mlp): RecursiveScriptModule(\n",
              "            original_name=Mlp\n",
              "            (fc1): RecursiveScriptModule(original_name=Linear)\n",
              "            (act): RecursiveScriptModule(original_name=GELU)\n",
              "            (drop1): RecursiveScriptModule(original_name=Dropout)\n",
              "            (norm): RecursiveScriptModule(original_name=Identity)\n",
              "            (fc2): RecursiveScriptModule(original_name=Linear)\n",
              "            (drop2): RecursiveScriptModule(original_name=Dropout)\n",
              "          )\n",
              "          (ls2): RecursiveScriptModule(original_name=Identity)\n",
              "          (drop_path2): RecursiveScriptModule(original_name=Identity)\n",
              "        )\n",
              "        (2): RecursiveScriptModule(\n",
              "          original_name=Block\n",
              "          (norm1): RecursiveScriptModule(original_name=LayerNorm)\n",
              "          (attn): RecursiveScriptModule(\n",
              "            original_name=Attention\n",
              "            (qkv): RecursiveScriptModule(original_name=Linear)\n",
              "            (q_norm): RecursiveScriptModule(original_name=Identity)\n",
              "            (k_norm): RecursiveScriptModule(original_name=Identity)\n",
              "            (attn_drop): RecursiveScriptModule(original_name=Dropout)\n",
              "            (proj): RecursiveScriptModule(original_name=Linear)\n",
              "            (proj_drop): RecursiveScriptModule(original_name=Dropout)\n",
              "          )\n",
              "          (ls1): RecursiveScriptModule(original_name=Identity)\n",
              "          (drop_path1): RecursiveScriptModule(original_name=Identity)\n",
              "          (norm2): RecursiveScriptModule(original_name=LayerNorm)\n",
              "          (mlp): RecursiveScriptModule(\n",
              "            original_name=Mlp\n",
              "            (fc1): RecursiveScriptModule(original_name=Linear)\n",
              "            (act): RecursiveScriptModule(original_name=GELU)\n",
              "            (drop1): RecursiveScriptModule(original_name=Dropout)\n",
              "            (norm): RecursiveScriptModule(original_name=Identity)\n",
              "            (fc2): RecursiveScriptModule(original_name=Linear)\n",
              "            (drop2): RecursiveScriptModule(original_name=Dropout)\n",
              "          )\n",
              "          (ls2): RecursiveScriptModule(original_name=Identity)\n",
              "          (drop_path2): RecursiveScriptModule(original_name=Identity)\n",
              "        )\n",
              "        (3): RecursiveScriptModule(\n",
              "          original_name=Block\n",
              "          (norm1): RecursiveScriptModule(original_name=LayerNorm)\n",
              "          (attn): RecursiveScriptModule(\n",
              "            original_name=Attention\n",
              "            (qkv): RecursiveScriptModule(original_name=Linear)\n",
              "            (q_norm): RecursiveScriptModule(original_name=Identity)\n",
              "            (k_norm): RecursiveScriptModule(original_name=Identity)\n",
              "            (attn_drop): RecursiveScriptModule(original_name=Dropout)\n",
              "            (proj): RecursiveScriptModule(original_name=Linear)\n",
              "            (proj_drop): RecursiveScriptModule(original_name=Dropout)\n",
              "          )\n",
              "          (ls1): RecursiveScriptModule(original_name=Identity)\n",
              "          (drop_path1): RecursiveScriptModule(original_name=Identity)\n",
              "          (norm2): RecursiveScriptModule(original_name=LayerNorm)\n",
              "          (mlp): RecursiveScriptModule(\n",
              "            original_name=Mlp\n",
              "            (fc1): RecursiveScriptModule(original_name=Linear)\n",
              "            (act): RecursiveScriptModule(original_name=GELU)\n",
              "            (drop1): RecursiveScriptModule(original_name=Dropout)\n",
              "            (norm): RecursiveScriptModule(original_name=Identity)\n",
              "            (fc2): RecursiveScriptModule(original_name=Linear)\n",
              "            (drop2): RecursiveScriptModule(original_name=Dropout)\n",
              "          )\n",
              "          (ls2): RecursiveScriptModule(original_name=Identity)\n",
              "          (drop_path2): RecursiveScriptModule(original_name=Identity)\n",
              "        )\n",
              "        (4): RecursiveScriptModule(\n",
              "          original_name=Block\n",
              "          (norm1): RecursiveScriptModule(original_name=LayerNorm)\n",
              "          (attn): RecursiveScriptModule(\n",
              "            original_name=Attention\n",
              "            (qkv): RecursiveScriptModule(original_name=Linear)\n",
              "            (q_norm): RecursiveScriptModule(original_name=Identity)\n",
              "            (k_norm): RecursiveScriptModule(original_name=Identity)\n",
              "            (attn_drop): RecursiveScriptModule(original_name=Dropout)\n",
              "            (proj): RecursiveScriptModule(original_name=Linear)\n",
              "            (proj_drop): RecursiveScriptModule(original_name=Dropout)\n",
              "          )\n",
              "          (ls1): RecursiveScriptModule(original_name=Identity)\n",
              "          (drop_path1): RecursiveScriptModule(original_name=Identity)\n",
              "          (norm2): RecursiveScriptModule(original_name=LayerNorm)\n",
              "          (mlp): RecursiveScriptModule(\n",
              "            original_name=Mlp\n",
              "            (fc1): RecursiveScriptModule(original_name=Linear)\n",
              "            (act): RecursiveScriptModule(original_name=GELU)\n",
              "            (drop1): RecursiveScriptModule(original_name=Dropout)\n",
              "            (norm): RecursiveScriptModule(original_name=Identity)\n",
              "            (fc2): RecursiveScriptModule(original_name=Linear)\n",
              "            (drop2): RecursiveScriptModule(original_name=Dropout)\n",
              "          )\n",
              "          (ls2): RecursiveScriptModule(original_name=Identity)\n",
              "          (drop_path2): RecursiveScriptModule(original_name=Identity)\n",
              "        )\n",
              "        (5): RecursiveScriptModule(\n",
              "          original_name=Block\n",
              "          (norm1): RecursiveScriptModule(original_name=LayerNorm)\n",
              "          (attn): RecursiveScriptModule(\n",
              "            original_name=Attention\n",
              "            (qkv): RecursiveScriptModule(original_name=Linear)\n",
              "            (q_norm): RecursiveScriptModule(original_name=Identity)\n",
              "            (k_norm): RecursiveScriptModule(original_name=Identity)\n",
              "            (attn_drop): RecursiveScriptModule(original_name=Dropout)\n",
              "            (proj): RecursiveScriptModule(original_name=Linear)\n",
              "            (proj_drop): RecursiveScriptModule(original_name=Dropout)\n",
              "          )\n",
              "          (ls1): RecursiveScriptModule(original_name=Identity)\n",
              "          (drop_path1): RecursiveScriptModule(original_name=Identity)\n",
              "          (norm2): RecursiveScriptModule(original_name=LayerNorm)\n",
              "          (mlp): RecursiveScriptModule(\n",
              "            original_name=Mlp\n",
              "            (fc1): RecursiveScriptModule(original_name=Linear)\n",
              "            (act): RecursiveScriptModule(original_name=GELU)\n",
              "            (drop1): RecursiveScriptModule(original_name=Dropout)\n",
              "            (norm): RecursiveScriptModule(original_name=Identity)\n",
              "            (fc2): RecursiveScriptModule(original_name=Linear)\n",
              "            (drop2): RecursiveScriptModule(original_name=Dropout)\n",
              "          )\n",
              "          (ls2): RecursiveScriptModule(original_name=Identity)\n",
              "          (drop_path2): RecursiveScriptModule(original_name=Identity)\n",
              "        )\n",
              "        (6): RecursiveScriptModule(\n",
              "          original_name=Block\n",
              "          (norm1): RecursiveScriptModule(original_name=LayerNorm)\n",
              "          (attn): RecursiveScriptModule(\n",
              "            original_name=Attention\n",
              "            (qkv): RecursiveScriptModule(original_name=Linear)\n",
              "            (q_norm): RecursiveScriptModule(original_name=Identity)\n",
              "            (k_norm): RecursiveScriptModule(original_name=Identity)\n",
              "            (attn_drop): RecursiveScriptModule(original_name=Dropout)\n",
              "            (proj): RecursiveScriptModule(original_name=Linear)\n",
              "            (proj_drop): RecursiveScriptModule(original_name=Dropout)\n",
              "          )\n",
              "          (ls1): RecursiveScriptModule(original_name=Identity)\n",
              "          (drop_path1): RecursiveScriptModule(original_name=Identity)\n",
              "          (norm2): RecursiveScriptModule(original_name=LayerNorm)\n",
              "          (mlp): RecursiveScriptModule(\n",
              "            original_name=Mlp\n",
              "            (fc1): RecursiveScriptModule(original_name=Linear)\n",
              "            (act): RecursiveScriptModule(original_name=GELU)\n",
              "            (drop1): RecursiveScriptModule(original_name=Dropout)\n",
              "            (norm): RecursiveScriptModule(original_name=Identity)\n",
              "            (fc2): RecursiveScriptModule(original_name=Linear)\n",
              "            (drop2): RecursiveScriptModule(original_name=Dropout)\n",
              "          )\n",
              "          (ls2): RecursiveScriptModule(original_name=Identity)\n",
              "          (drop_path2): RecursiveScriptModule(original_name=Identity)\n",
              "        )\n",
              "        (7): RecursiveScriptModule(\n",
              "          original_name=Block\n",
              "          (norm1): RecursiveScriptModule(original_name=LayerNorm)\n",
              "          (attn): RecursiveScriptModule(\n",
              "            original_name=Attention\n",
              "            (qkv): RecursiveScriptModule(original_name=Linear)\n",
              "            (q_norm): RecursiveScriptModule(original_name=Identity)\n",
              "            (k_norm): RecursiveScriptModule(original_name=Identity)\n",
              "            (attn_drop): RecursiveScriptModule(original_name=Dropout)\n",
              "            (proj): RecursiveScriptModule(original_name=Linear)\n",
              "            (proj_drop): RecursiveScriptModule(original_name=Dropout)\n",
              "          )\n",
              "          (ls1): RecursiveScriptModule(original_name=Identity)\n",
              "          (drop_path1): RecursiveScriptModule(original_name=Identity)\n",
              "          (norm2): RecursiveScriptModule(original_name=LayerNorm)\n",
              "          (mlp): RecursiveScriptModule(\n",
              "            original_name=Mlp\n",
              "            (fc1): RecursiveScriptModule(original_name=Linear)\n",
              "            (act): RecursiveScriptModule(original_name=GELU)\n",
              "            (drop1): RecursiveScriptModule(original_name=Dropout)\n",
              "            (norm): RecursiveScriptModule(original_name=Identity)\n",
              "            (fc2): RecursiveScriptModule(original_name=Linear)\n",
              "            (drop2): RecursiveScriptModule(original_name=Dropout)\n",
              "          )\n",
              "          (ls2): RecursiveScriptModule(original_name=Identity)\n",
              "          (drop_path2): RecursiveScriptModule(original_name=Identity)\n",
              "        )\n",
              "        (8): RecursiveScriptModule(\n",
              "          original_name=Block\n",
              "          (norm1): RecursiveScriptModule(original_name=LayerNorm)\n",
              "          (attn): RecursiveScriptModule(\n",
              "            original_name=Attention\n",
              "            (qkv): RecursiveScriptModule(original_name=Linear)\n",
              "            (q_norm): RecursiveScriptModule(original_name=Identity)\n",
              "            (k_norm): RecursiveScriptModule(original_name=Identity)\n",
              "            (attn_drop): RecursiveScriptModule(original_name=Dropout)\n",
              "            (proj): RecursiveScriptModule(original_name=Linear)\n",
              "            (proj_drop): RecursiveScriptModule(original_name=Dropout)\n",
              "          )\n",
              "          (ls1): RecursiveScriptModule(original_name=Identity)\n",
              "          (drop_path1): RecursiveScriptModule(original_name=Identity)\n",
              "          (norm2): RecursiveScriptModule(original_name=LayerNorm)\n",
              "          (mlp): RecursiveScriptModule(\n",
              "            original_name=Mlp\n",
              "            (fc1): RecursiveScriptModule(original_name=Linear)\n",
              "            (act): RecursiveScriptModule(original_name=GELU)\n",
              "            (drop1): RecursiveScriptModule(original_name=Dropout)\n",
              "            (norm): RecursiveScriptModule(original_name=Identity)\n",
              "            (fc2): RecursiveScriptModule(original_name=Linear)\n",
              "            (drop2): RecursiveScriptModule(original_name=Dropout)\n",
              "          )\n",
              "          (ls2): RecursiveScriptModule(original_name=Identity)\n",
              "          (drop_path2): RecursiveScriptModule(original_name=Identity)\n",
              "        )\n",
              "        (9): RecursiveScriptModule(\n",
              "          original_name=Block\n",
              "          (norm1): RecursiveScriptModule(original_name=LayerNorm)\n",
              "          (attn): RecursiveScriptModule(\n",
              "            original_name=Attention\n",
              "            (qkv): RecursiveScriptModule(original_name=Linear)\n",
              "            (q_norm): RecursiveScriptModule(original_name=Identity)\n",
              "            (k_norm): RecursiveScriptModule(original_name=Identity)\n",
              "            (attn_drop): RecursiveScriptModule(original_name=Dropout)\n",
              "            (proj): RecursiveScriptModule(original_name=Linear)\n",
              "            (proj_drop): RecursiveScriptModule(original_name=Dropout)\n",
              "          )\n",
              "          (ls1): RecursiveScriptModule(original_name=Identity)\n",
              "          (drop_path1): RecursiveScriptModule(original_name=Identity)\n",
              "          (norm2): RecursiveScriptModule(original_name=LayerNorm)\n",
              "          (mlp): RecursiveScriptModule(\n",
              "            original_name=Mlp\n",
              "            (fc1): RecursiveScriptModule(original_name=Linear)\n",
              "            (act): RecursiveScriptModule(original_name=GELU)\n",
              "            (drop1): RecursiveScriptModule(original_name=Dropout)\n",
              "            (norm): RecursiveScriptModule(original_name=Identity)\n",
              "            (fc2): RecursiveScriptModule(original_name=Linear)\n",
              "            (drop2): RecursiveScriptModule(original_name=Dropout)\n",
              "          )\n",
              "          (ls2): RecursiveScriptModule(original_name=Identity)\n",
              "          (drop_path2): RecursiveScriptModule(original_name=Identity)\n",
              "        )\n",
              "        (10): RecursiveScriptModule(\n",
              "          original_name=Block\n",
              "          (norm1): RecursiveScriptModule(original_name=LayerNorm)\n",
              "          (attn): RecursiveScriptModule(\n",
              "            original_name=Attention\n",
              "            (qkv): RecursiveScriptModule(original_name=Linear)\n",
              "            (q_norm): RecursiveScriptModule(original_name=Identity)\n",
              "            (k_norm): RecursiveScriptModule(original_name=Identity)\n",
              "            (attn_drop): RecursiveScriptModule(original_name=Dropout)\n",
              "            (proj): RecursiveScriptModule(original_name=Linear)\n",
              "            (proj_drop): RecursiveScriptModule(original_name=Dropout)\n",
              "          )\n",
              "          (ls1): RecursiveScriptModule(original_name=Identity)\n",
              "          (drop_path1): RecursiveScriptModule(original_name=Identity)\n",
              "          (norm2): RecursiveScriptModule(original_name=LayerNorm)\n",
              "          (mlp): RecursiveScriptModule(\n",
              "            original_name=Mlp\n",
              "            (fc1): RecursiveScriptModule(original_name=Linear)\n",
              "            (act): RecursiveScriptModule(original_name=GELU)\n",
              "            (drop1): RecursiveScriptModule(original_name=Dropout)\n",
              "            (norm): RecursiveScriptModule(original_name=Identity)\n",
              "            (fc2): RecursiveScriptModule(original_name=Linear)\n",
              "            (drop2): RecursiveScriptModule(original_name=Dropout)\n",
              "          )\n",
              "          (ls2): RecursiveScriptModule(original_name=Identity)\n",
              "          (drop_path2): RecursiveScriptModule(original_name=Identity)\n",
              "        )\n",
              "        (11): RecursiveScriptModule(\n",
              "          original_name=Block\n",
              "          (norm1): RecursiveScriptModule(original_name=LayerNorm)\n",
              "          (attn): RecursiveScriptModule(\n",
              "            original_name=Attention\n",
              "            (qkv): RecursiveScriptModule(original_name=Linear)\n",
              "            (q_norm): RecursiveScriptModule(original_name=Identity)\n",
              "            (k_norm): RecursiveScriptModule(original_name=Identity)\n",
              "            (attn_drop): RecursiveScriptModule(original_name=Dropout)\n",
              "            (proj): RecursiveScriptModule(original_name=Linear)\n",
              "            (proj_drop): RecursiveScriptModule(original_name=Dropout)\n",
              "          )\n",
              "          (ls1): RecursiveScriptModule(original_name=Identity)\n",
              "          (drop_path1): RecursiveScriptModule(original_name=Identity)\n",
              "          (norm2): RecursiveScriptModule(original_name=LayerNorm)\n",
              "          (mlp): RecursiveScriptModule(\n",
              "            original_name=Mlp\n",
              "            (fc1): RecursiveScriptModule(original_name=Linear)\n",
              "            (act): RecursiveScriptModule(original_name=GELU)\n",
              "            (drop1): RecursiveScriptModule(original_name=Dropout)\n",
              "            (norm): RecursiveScriptModule(original_name=Identity)\n",
              "            (fc2): RecursiveScriptModule(original_name=Linear)\n",
              "            (drop2): RecursiveScriptModule(original_name=Dropout)\n",
              "          )\n",
              "          (ls2): RecursiveScriptModule(original_name=Identity)\n",
              "          (drop_path2): RecursiveScriptModule(original_name=Identity)\n",
              "        )\n",
              "      )\n",
              "      (norm): RecursiveScriptModule(original_name=LayerNorm)\n",
              "      (fc_norm): RecursiveScriptModule(original_name=Identity)\n",
              "      (head_drop): RecursiveScriptModule(original_name=Dropout)\n",
              "      (head): RecursiveScriptModule(original_name=Identity)\n",
              "    )\n",
              "    (decoder): RecursiveScriptModule(\n",
              "      original_name=Decoder\n",
              "      (layers): RecursiveScriptModule(\n",
              "        original_name=ModuleList\n",
              "        (0): RecursiveScriptModule(\n",
              "          original_name=DecoderLayer\n",
              "          (self_attn): RecursiveScriptModule(\n",
              "            original_name=MultiheadAttention\n",
              "            (out_proj): RecursiveScriptModule(original_name=NonDynamicallyQuantizableLinear)\n",
              "          )\n",
              "          (cross_attn): RecursiveScriptModule(\n",
              "            original_name=MultiheadAttention\n",
              "            (out_proj): RecursiveScriptModule(original_name=NonDynamicallyQuantizableLinear)\n",
              "          )\n",
              "          (linear1): RecursiveScriptModule(original_name=Linear)\n",
              "          (dropout): RecursiveScriptModule(original_name=Dropout)\n",
              "          (linear2): RecursiveScriptModule(original_name=Linear)\n",
              "          (norm1): RecursiveScriptModule(original_name=LayerNorm)\n",
              "          (norm2): RecursiveScriptModule(original_name=LayerNorm)\n",
              "          (norm_q): RecursiveScriptModule(original_name=LayerNorm)\n",
              "          (norm_c): RecursiveScriptModule(original_name=LayerNorm)\n",
              "          (dropout1): RecursiveScriptModule(original_name=Dropout)\n",
              "          (dropout2): RecursiveScriptModule(original_name=Dropout)\n",
              "          (dropout3): RecursiveScriptModule(original_name=Dropout)\n",
              "        )\n",
              "      )\n",
              "      (norm): RecursiveScriptModule(original_name=LayerNorm)\n",
              "    )\n",
              "    (head): RecursiveScriptModule(original_name=Linear)\n",
              "    (text_embed): RecursiveScriptModule(\n",
              "      original_name=TokenEmbedding\n",
              "      (embedding): RecursiveScriptModule(original_name=Embedding)\n",
              "    )\n",
              "    (dropout): RecursiveScriptModule(original_name=Dropout)\n",
              "  )\n",
              ")"
            ]
          },
          "metadata": {},
          "execution_count": 8
        }
      ]
    },
    {
      "cell_type": "code",
      "source": [
        "x = torch.randn(1, 3, 32, 128)\n",
        "scripted(x)"
      ],
      "metadata": {
        "colab": {
          "base_uri": "https://localhost:8080/"
        },
        "id": "3VwV9-ECN84p",
        "outputId": "bd581e3d-cef9-4132-f308-f8342f2474b0"
      },
      "execution_count": 9,
      "outputs": [
        {
          "output_type": "execute_result",
          "data": {
            "text/plain": [
              "tensor([[[-2.1022, -0.2115,  1.1537,  ..., -2.6167, -4.4884, -3.1685],\n",
              "         [ 1.2114,  1.4041,  0.8940,  ..., -3.9037, -6.0341, -5.1798],\n",
              "         [ 1.6055,  0.9235,  0.8611,  ..., -4.2728, -6.2771, -5.2121],\n",
              "         ...,\n",
              "         [ 4.4171,  0.6806,  0.6736,  ..., -2.6800, -3.9092, -4.7091],\n",
              "         [ 4.3226,  0.6456,  0.4431,  ..., -3.1827, -4.3240, -4.7104],\n",
              "         [ 3.9975,  0.6167,  0.5913,  ..., -3.2849, -4.1735, -4.5974]]],\n",
              "       grad_fn=<ViewBackward0>)"
            ]
          },
          "metadata": {},
          "execution_count": 9
        }
      ]
    },
    {
      "cell_type": "code",
      "source": [
        "orig_model = torch.hub.load('baudm/parseq', 'parseq', pretrained=True).eval()"
      ],
      "metadata": {
        "colab": {
          "base_uri": "https://localhost:8080/"
        },
        "id": "2PF1QAAcOXld",
        "outputId": "23214872-eec3-403b-fb6f-c69bc15a040a"
      },
      "execution_count": 10,
      "outputs": [
        {
          "output_type": "stream",
          "name": "stderr",
          "text": [
            "/usr/local/lib/python3.11/dist-packages/torch/hub.py:330: UserWarning: You are about to download and run code from an untrusted repository. In a future release, this won't be allowed. To add the repository to your trusted list, change the command to {calling_fn}(..., trust_repo=False) and a command prompt will appear asking for an explicit confirmation of trust, or load(..., trust_repo=True), which will assume that the prompt is to be answered with 'yes'. You can also use load(..., trust_repo='check') which will only prompt for confirmation if the repo is not already trusted. This will eventually be the default behaviour\n",
            "  warnings.warn(\n",
            "Downloading: \"https://github.com/baudm/parseq/zipball/main\" to /root/.cache/torch/hub/main.zip\n"
          ]
        },
        {
          "output_type": "stream",
          "name": "stdout",
          "text": [
            "initializing my class finally\n"
          ]
        },
        {
          "output_type": "stream",
          "name": "stderr",
          "text": [
            "Downloading: \"https://github.com/baudm/parseq/releases/download/v1.0.0/parseq-bb5792a6.pt\" to /root/.cache/torch/hub/checkpoints/parseq-bb5792a6.pt\n",
            "100%|██████████| 91.0M/91.0M [00:01<00:00, 84.8MB/s]\n"
          ]
        }
      ]
    },
    {
      "cell_type": "code",
      "source": [
        "out = orig_model.model(x, 14)\n",
        "out"
      ],
      "metadata": {
        "colab": {
          "base_uri": "https://localhost:8080/"
        },
        "id": "s0BFSw_8OeN9",
        "outputId": "df10df83-a577-43d4-d6e7-a3c8576c738b"
      },
      "execution_count": 13,
      "outputs": [
        {
          "output_type": "execute_result",
          "data": {
            "text/plain": [
              "tensor([[[-2.1022, -0.2115,  1.1537,  ..., -2.6167, -4.4884, -3.1685],\n",
              "         [ 1.2114,  1.4041,  0.8940,  ..., -3.9037, -6.0341, -5.1798],\n",
              "         [ 1.6055,  0.9235,  0.8611,  ..., -4.2728, -6.2771, -5.2121],\n",
              "         ...,\n",
              "         [ 4.4171,  0.6806,  0.6736,  ..., -2.6800, -3.9092, -4.7091],\n",
              "         [ 4.3226,  0.6456,  0.4431,  ..., -3.1827, -4.3240, -4.7104],\n",
              "         [ 3.9975,  0.6167,  0.5913,  ..., -3.2849, -4.1735, -4.5974]]],\n",
              "       grad_fn=<ViewBackward0>)"
            ]
          },
          "metadata": {},
          "execution_count": 13
        }
      ]
    },
    {
      "cell_type": "code",
      "source": [
        "scripted.save(\"parseq_scripted.pt\")\n",
        "\n",
        "# 2. Load it back\n",
        "loaded = torch.jit.load(\"parseq_scripted.pt\").eval()\n"
      ],
      "metadata": {
        "id": "IMrP2T-dOq1c"
      },
      "execution_count": 14,
      "outputs": []
    },
    {
      "cell_type": "code",
      "source": [
        "loaded_out = loaded(x)\n",
        "loaded_out"
      ],
      "metadata": {
        "colab": {
          "base_uri": "https://localhost:8080/"
        },
        "id": "zZfiDBzFO8zT",
        "outputId": "eec683fe-5dab-4b72-f42f-a9709bfc41e6"
      },
      "execution_count": 15,
      "outputs": [
        {
          "output_type": "execute_result",
          "data": {
            "text/plain": [
              "tensor([[[-2.1022, -0.2115,  1.1537,  ..., -2.6167, -4.4884, -3.1685],\n",
              "         [ 1.2114,  1.4041,  0.8940,  ..., -3.9037, -6.0341, -5.1798],\n",
              "         [ 1.6055,  0.9235,  0.8611,  ..., -4.2728, -6.2771, -5.2121],\n",
              "         ...,\n",
              "         [ 4.4171,  0.6806,  0.6736,  ..., -2.6800, -3.9092, -4.7091],\n",
              "         [ 4.3226,  0.6456,  0.4431,  ..., -3.1827, -4.3240, -4.7104],\n",
              "         [ 3.9975,  0.6167,  0.5913,  ..., -3.2849, -4.1735, -4.5974]]],\n",
              "       grad_fn=<ViewBackward0>)"
            ]
          },
          "metadata": {},
          "execution_count": 15
        }
      ]
    },
    {
      "cell_type": "code",
      "source": [
        "loaded_out.cpu().detach().numpy() == out.cpu().detach().numpy()"
      ],
      "metadata": {
        "colab": {
          "base_uri": "https://localhost:8080/"
        },
        "id": "qisKBC4mPBWw",
        "outputId": "80cdc700-d967-478d-d274-81f8b1e51456"
      },
      "execution_count": 16,
      "outputs": [
        {
          "output_type": "execute_result",
          "data": {
            "text/plain": [
              "array([[[ True,  True,  True, ...,  True,  True,  True],\n",
              "        [ True,  True,  True, ...,  True,  True,  True],\n",
              "        [ True,  True,  True, ...,  True,  True,  True],\n",
              "        ...,\n",
              "        [ True,  True,  True, ...,  True,  True,  True],\n",
              "        [ True,  True,  True, ...,  True,  True,  True],\n",
              "        [ True,  True,  True, ...,  True,  True,  True]]])"
            ]
          },
          "metadata": {},
          "execution_count": 16
        }
      ]
    },
    {
      "cell_type": "code",
      "source": [
        "!cp /content/parseq_scripted.pt /content/drive/MyDrive/OCR/parseq_model_file/"
      ],
      "metadata": {
        "id": "ctAZLE_wPEzv"
      },
      "execution_count": 17,
      "outputs": []
    },
    {
      "cell_type": "code",
      "source": [],
      "metadata": {
        "id": "r22JTIbwRH9K"
      },
      "execution_count": null,
      "outputs": []
    }
  ]
}